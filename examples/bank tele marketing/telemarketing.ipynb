{
  "cells": [
    {
      "metadata": {
        "_uuid": "7684938a4505acbdcc1643a89e509d5bcf9ddc06",
        "_cell_guid": "2e0c5a4c-9c53-4ad4-9ec1-321394cd5fca"
      },
      "cell_type": "markdown",
      "source": "# Ch. 9 - Feature engineering & data preparation\nIn this chapter we will prepare the data we got from the bank marketing campaign. We will examine it closely, clean it up and make it ready for our neural network."
    },
    {
      "metadata": {
        "_uuid": "76ed4eff49c644414cd3c2cb906095cd1bdc9049",
        "_cell_guid": "105093d8-6242-4beb-8967-08d2019952b9"
      },
      "cell_type": "markdown",
      "source": "## Preparing out tools\nBefore starting out on the actual analysis, it makes sense to prepare the tools of trade. We will use four libraries:"
    },
    {
      "metadata": {
        "_uuid": "53ec5b99c925e758a8145b8e9140b197c96d1df4",
        "collapsed": true,
        "_cell_guid": "2768a859-3b39-4734-8369-b0a5bc8c305b",
        "trusted": false
      },
      "cell_type": "code",
      "source": "# As always, first some libraries\n# Numpy handles matrices\nimport numpy as np\n# Pandas handles data \nimport pandas as pd\n# Matplotlib is a plotting library\nimport matplotlib.pyplot as plt\n# Set matplotlib to render imediately\n%matplotlib inline\n# Seaborn is a plotting library built on top of matplotlib that can handle some more advanced plotting\nimport seaborn as sns",
      "execution_count": null,
      "outputs": []
    },
    {
      "metadata": {
        "_uuid": "2e71b4fb2c376698bc9537d1032faefe770ee12f",
        "_cell_guid": "32e86397-5515-479a-a889-9a142a37fdde"
      },
      "cell_type": "markdown",
      "source": "To make our charts look nice, we will use the FiveThirtyRight color scheme. [FiveThirtyEight](http://fivethirtyeight.com/) is a quantitative journalism website that has built a very nice graph scheme. So to make this chapter pretty, we will use their scheme."
    },
    {
      "metadata": {
        "_uuid": "05fa544d565ada1cfdd183c18e46db8b4eedfc54",
        "collapsed": true,
        "_cell_guid": "cd3fa8af-fa75-41b8-ac7b-6044d62481ad",
        "trusted": false
      },
      "cell_type": "code",
      "source": "# Define colors for seaborn\nfive_thirty_eight = [\n    \"#30a2da\",\n    \"#fc4f30\",\n    \"#e5ae38\",\n    \"#6d904f\",\n    \"#8b8b8b\",\n]\n# Tell seaborn to use the 538 colors\nsns.set(palette=five_thirty_eight)",
      "execution_count": null,
      "outputs": []
    },
    {
      "metadata": {
        "_uuid": "0a74ae9884ea54defea617f3162d92e469480c79",
        "_cell_guid": "bcb8ead3-d431-4b9c-a6b8-7b75493861d1"
      },
      "cell_type": "markdown",
      "source": "## The data\nThe data is taken from [Moro et al., 2014](https://archive.ics.uci.edu/ml/datasets/bank+marketing) via the UCI machine learning repository. The balanced version we are working with is included in the GitHub repository."
    },
    {
      "metadata": {
        "_uuid": "f1b5362d9b3c71262aafa9f4fd9934d909af8d55",
        "collapsed": true,
        "_cell_guid": "7611ac11-390e-41a2-9016-31b66731c784",
        "trusted": false
      },
      "cell_type": "code",
      "source": "# Load data with pandas\ndf = pd.read_csv('../input/balanced_bank.csv',index_col=0)",
      "execution_count": null,
      "outputs": []
    },
    {
      "metadata": {
        "_uuid": "d5743a67cd5675f729286acd87fb093e9b9f6e28",
        "_cell_guid": "bef41161-9c2b-45cc-9d68-df637600a496"
      },
      "cell_type": "markdown",
      "source": "## Getting an overview\nThe first step in data preparation is to check what we are actually working with. After we have surveyed the dataset as a whole we will look at the individual features in it. As a start we can use pandas ```head()```function to get the first few rows of the dataset for a manual overview."
    },
    {
      "metadata": {
        "_uuid": "6f98ef46cff7f59bc6b2f46f1b709d62796a650d",
        "collapsed": true,
        "_cell_guid": "de684017-121d-4078-8c65-78ea67fb3c91",
        "trusted": false
      },
      "cell_type": "code",
      "source": "# Display first five rows for a rough overview\ndf.head()",
      "execution_count": null,
      "outputs": []
    },
    {
      "metadata": {
        "_uuid": "2dcebaf12388ed21f2bc01dd20fceee581bc3e60",
        "_cell_guid": "6d07825f-21d0-493f-9c23-ca0d435c7bf0"
      },
      "cell_type": "markdown",
      "source": "As we can see, there are 21 columns, 20 features plus the output. We can also see that categorical data is saved in text form. That is, instead of using numbers to indicate a category it uses text such as 'married' to indicate a marital status. We can also see an 'unknown' in the default column. That is, the value is not missing, but it is set to the text 'unknown'. We will have to decide later on how we want to deal with unknowns, first, lets check whether there is any actual data missing:"
    },
    {
      "metadata": {
        "_uuid": "2beb992210443743b20c603a4d6d68306fcbb385",
        "collapsed": true,
        "_cell_guid": "875f5fba-535a-4f56-9b23-8c6fe716bb51",
        "trusted": false
      },
      "cell_type": "code",
      "source": "# Count missing values per column\ndf.isnull().sum()",
      "execution_count": null,
      "outputs": []
    },
    {
      "metadata": {
        "_uuid": "e49bd7ea9043c96cab5b875dd51dd6d5336d9a6b",
        "_cell_guid": "952ec755-4502-44bf-b12d-3bb859e7d9f6"
      },
      "cell_type": "markdown",
      "source": "There seem to be no missing values, good! But as we noted earlier, some values might be 'unknown'. Let's check the data types we are dealing with. There are three common datatypes we might encounter:\n- int: integers (1,2,3,4,...)\n- float: floating point numbers with decimals (1.123,1.124,...)\n- object: some non numeric data type, often text"
    },
    {
      "metadata": {
        "_uuid": "a535ec02524cdc6245de2c1aaba2aff981500812",
        "collapsed": true,
        "_cell_guid": "296a9214-45f6-4218-b271-6208f413c5f8",
        "trusted": false
      },
      "cell_type": "code",
      "source": "# Display datatypes\ndf.dtypes",
      "execution_count": null,
      "outputs": []
    },
    {
      "metadata": {
        "_uuid": "17e20950f5d08679cfb04051f299861472de2011",
        "_cell_guid": "8abb6ec4-4b3d-4fbc-bb99-1bebcef9edeb"
      },
      "cell_type": "markdown",
      "source": "### Job\nNext on our feature list is the job that people have. This is a categorical variable currently in text form. We will search for obvious correlations with the output and see whether we can do any clever feature engineering. Since this is a categorical variable, we need to define a new function to draw the frequencies by outcome."
    },
    {
      "metadata": {
        "_uuid": "48d0790f246aa7ae56ed5a1600eca5b864f4f9df",
        "collapsed": true,
        "_cell_guid": "5864cc54-4daa-447c-a532-e5f55f37928e",
        "trusted": false
      },
      "cell_type": "code",
      "source": "# Function to draw frequencies by outcome\ndef draw_conditional_barplot(feature,df):\n    # Set matplotlib style\n    plt.style.use('fivethirtyeight')\n    # Count the total yes responses in our dataset\n    n_yes = len(df[df.y == 'yes'])\n    # Count the total no responses in our dataset\n    n_no = len(df[df.y == 'no'])\n    # Count the frequencies of the different jobs for the yes people\n    yes_cnts = df[df.y == 'yes'][feature].value_counts() / n_yes * 100\n    # Count frequencies of jobs for the nay sayers\n    no_cnts = df[df.y == 'no'][feature].value_counts() / n_no * 100\n    \n    # A potential problem of creating two different frequency tables is that if one group (perhaps the yes crowd)...\n    # ... does not include a certain category (like a certain job) then it will not be in the frequency tables at all\n    # ... So we have to join them in one table to ensure that all categories are included\n    # ... When merging the frequncy tables, missing categories will be marked with 'NA'\n    # ... We can then replace all NAs with zeros, which is the correct frequency\n    \n    # Create a new dataframe that includes all frequencies\n    res = pd.concat([yes_cnts,no_cnts],axis=1)\n    # Name the columns of the new dataframe (yes crowd and nay sayers)\n    res.columns = ['yes','no']\n    # Fill empty fields with zeros\n    res = res.fillna(0)\n    \n    # N = number of categories\n    N = len(res['yes'])\n    # Create an array for the locations of the group (creates an array [0,1,2,...,N])\n    ind = np.arange(N) \n    # Specify width of bars\n    width = 0.35   \n    # Create empty matplotlib plot\n    fig, ax = plt.subplots()\n    # Add bars of the nay sayers\n    rects1 = ax.bar(ind, res['no'], width)\n    # Add bars of the yes crowd\n    rects2 = ax.bar(ind + width, res['yes'], width)\n\n    # Add label: feature name (e.g. job) in percent\n    ax.set_ylabel(feature + ' in percent')\n    # Add title\n    ax.set_title(feature + ' by conversion')\n    # Add ticks \n    ax.set_xticks(ind + width / 2)\n    # Add categorie names as tick labels\n    ax.set_xticklabels(res.index.values)\n    # Rotate labels 90 degrees\n    labels = ax.get_xticklabels()\n    plt.setp(labels, rotation=90)\n\n    # Add legend\n    ax.legend((rects1[0], rects2[0]), ('No', 'Yes'))\n    \n    # Render plot\n    plt.show()",
      "execution_count": null,
      "outputs": []
    },
    {
      "metadata": {
        "_uuid": "9828b106fb27f7aff880847cafbc7758cde4ccfa",
        "_cell_guid": "d96261ac-14d6-4fed-a763-2a9af3d93370"
      },
      "cell_type": "markdown",
      "source": "Now we can draw our conditional barplot"
    },
    {
      "metadata": {
        "_uuid": "c6291ed42a03262dfd523494f06a6f43ad2ab1ec",
        "collapsed": true,
        "_cell_guid": "b1ae13ed-b4ff-4dc3-b571-e91c01e154d4",
        "trusted": false
      },
      "cell_type": "code",
      "source": "draw_conditional_barplot('job',df)",
      "execution_count": null,
      "outputs": []
    },
    {
      "metadata": {
        "_uuid": "ff54c604aa68677d0e8b85a3a11134c01570bacf",
        "_cell_guid": "eddd7334-eebd-4e5d-ab75-18724ac31e4b"
      },
      "cell_type": "markdown",
      "source": "Students and retirees seem to be eager to subscribe. Both jobs are highly correlated with age, so we might have captured this already. The other jobs seem to be a bit more mixed. What we can also see from this chart is that there is a relatively small number of different jobs in the dataset, with just three groups (administrators, blue-collar workers, technicians) making up the bulk of customers in the data set. We also see that there are relatively few customers whose jobs are unknown. We will simply treat it as its own category here. Now we can convert this categorical variable into a set of dummy variables:"
    },
    {
      "metadata": {
        "_uuid": "5fd2b332ef97ca7a008cf19a7227d1df69c60c94",
        "collapsed": true,
        "_cell_guid": "d8b95be8-8dd1-462f-8108-60e29278e11e",
        "trusted": false
      },
      "cell_type": "code",
      "source": "# Add job_ to every value in jobs so that the dummies have readable names\ndf['job'] = 'job_' + df['job'].astype(str)\n\n# Get dummies\ndummies = pd.get_dummies(df['job'])\n\n# Add dummies to dataframe\ndf = pd.concat([df,dummies],axis=1)\n\n# Remove original job column\ndel df['job']",
      "execution_count": null,
      "outputs": []
    },
    {
      "metadata": {
        "_uuid": "31c0ad71d98cce4bb9fd62f4186f190a74330a2e",
        "_cell_guid": "211ebffd-c181-4d1e-aac1-16ce12578fec"
      },
      "cell_type": "markdown",
      "source": "## Theory: What are dummy variables and why do we use them?\n[Dummy variables](https://goo.gl/37nWD) are proxy variables for qualitative information. They convert cateogrical data into mutually exclusive features. So in the case of the jobs the turn the textual information ('admin', 'blue-collar', etc.) into new features that describe whether an instance is members of a certain category or not. Is this customers job admin (yes /no) is this customers job blue-collar (yes / no) and so on. This enables us to use qualitative information in our quantiative model. You can see how the single job feature was turned into a bunch of new features if we print out the data types again:"
    },
    {
      "metadata": {
        "_uuid": "6996d2e34e94970b9d00ad62bda218207b140f3f",
        "collapsed": true,
        "_cell_guid": "9028f40b-f5a5-4b18-8a4d-27c8da53813d",
        "trusted": false
      },
      "cell_type": "code",
      "source": "df.dtypes",
      "execution_count": null,
      "outputs": []
    },
    {
      "metadata": {
        "_uuid": "c4a251f5c9d163195033c0de3f0ffe326d2c874a",
        "_cell_guid": "495193a6-9b72-4f3d-b168-29c90d84fac0"
      },
      "cell_type": "markdown",
      "source": "### Age\nThe age is the age of the client in years. As we can see from the datatype, it is an integer. It might be interesting to see whether age has any direct influence on whether a customer subscribes. We will draw a conditional distribution plot that shows the age distribution of all customers that said yes and of those that said no."
    },
    {
      "metadata": {
        "_uuid": "9bd693035f6bc7d8a1c5207d93bb5e2ea68578ba",
        "collapsed": true,
        "_cell_guid": "b82451ba-79db-40a6-be35-da28f74e18fb",
        "trusted": false
      },
      "cell_type": "code",
      "source": "# Function to draw conditional distribution plot splot by whether the customer subscribed\ndef draw_conditional_distplot(feature,df):\n    # Seat seaborn to use nice colors\n    sns.set(palette=five_thirty_eight)\n    # Draw the no plot\n    sns.distplot(df[df.y == 'no'][feature],label='no')\n    # Draw the yes plot\n    sns.distplot(df[df.y == 'yes'][feature],label='yes')\n    # Draw the legend\n    plt.legend()\n    # Display the plot\n    plt.show()",
      "execution_count": null,
      "outputs": []
    },
    {
      "metadata": {
        "_uuid": "e99a63627ec7fbf1dbe087900f941bf6076a88f6",
        "collapsed": true,
        "_cell_guid": "e0b1f19c-eb4a-4ac6-b620-1d0e4856b5c3",
        "trusted": false
      },
      "cell_type": "code",
      "source": "# Now we can just use the function defined above\ndraw_conditional_distplot('age',df)",
      "execution_count": null,
      "outputs": []
    },
    {
      "metadata": {
        "_uuid": "7ca45a03047557e93d072163e89a88c3d8c0d36f",
        "_cell_guid": "060baf51-87a1-40df-8eda-0e221bb0ffd8"
      },
      "cell_type": "markdown",
      "source": "There is a couple of useful findings in here. First, over a certain age, around 60 a lot of people subscribed! Between 35 and 60 the nay sayers have the upper hand while below 35 it seems to be a little more of the yes crowd. We can probably improve our forcasts if we don't treat age as a [ratio variable](https://www.graphpad.com/support/faqid/1089/) but split it into three buckets and treat those as categorical variables."
    },
    {
      "metadata": {
        "_uuid": "2ac5aa56237ec097bd26417367899e39658ac0ed",
        "collapsed": true,
        "_cell_guid": "9bbc1dc0-7837-4be2-af43-69c2b7e18071",
        "trusted": false
      },
      "cell_type": "code",
      "source": "# Create old people group\ndf['age_old'] = np.where(df['age'] >= 60, 1,0)\n# Create mid age people group\ndf['age_mid'] = np.where((df['age'] <= 60) & (df['age'] >= 35), 1,0)\n# Create young people group\ndf['age_young'] = np.where(df['age'] <= 35, 1,0)",
      "execution_count": null,
      "outputs": []
    },
    {
      "metadata": {
        "_uuid": "489b27db46d09125e2ce8122da4d3aca5287370f",
        "_cell_guid": "562e714a-0817-48cf-a57d-a248cb3896d7"
      },
      "cell_type": "markdown",
      "source": "Now, the feature age itself is redundant and we can remove it"
    },
    {
      "metadata": {
        "_uuid": "143201931420026f60eec1e3aad786a88d779947",
        "collapsed": true,
        "_cell_guid": "929da730-cd95-4593-b759-9eab64695d9c",
        "trusted": false
      },
      "cell_type": "code",
      "source": "# Remove original age\ndel df['age']",
      "execution_count": null,
      "outputs": []
    },
    {
      "metadata": {
        "_uuid": "a307d9ca89068cbb12f700b931006ac9d2dc8c83",
        "_cell_guid": "838e6a8f-57f9-4cb6-a59d-e4dffd6f435f"
      },
      "cell_type": "markdown",
      "source": "Now we can see that the original age is gone but we have three new categorical variables"
    },
    {
      "metadata": {
        "_uuid": "e45484532fd01dd1719f7f0537bade95ebe12c3c",
        "_cell_guid": "f02f07d8-036e-4a93-babe-ad0491893c68"
      },
      "cell_type": "markdown",
      "source": "### Marital status\nMarital status is one of the common variables many firms collect about their customers. It usually correlates highly with age, although through the rise of divorce rates this relationship is in decline. We will plot our conditional barplot again to get an overview."
    },
    {
      "metadata": {
        "_uuid": "b5ac42bab9cfb7417385ed9afd07d545116d2b3b",
        "collapsed": true,
        "_cell_guid": "79113ae7-c2e5-47af-b4d7-7ad78114c02d",
        "trusted": false
      },
      "cell_type": "code",
      "source": "draw_conditional_barplot('marital',df)",
      "execution_count": null,
      "outputs": []
    },
    {
      "metadata": {
        "_uuid": "2f947bf60a0544c9f005b938b33a3b5510e17777",
        "_cell_guid": "d1d3913c-d539-4362-852f-3a175cc023b4"
      },
      "cell_type": "markdown",
      "source": "The majority of people called where married, there seems to be no category 'widow', only 'single' which decreases the correlation with age. While there are some unknowns, they make up for a tiny fraction, so again, we will just treat it as its own category. There seem to be some differences between married and single people, but the difference is quite small. However, there might be some higher order correlation of combined features and the outcome of which marital status is a part. We will convert this one to dummy variables as well."
    },
    {
      "metadata": {
        "_uuid": "b471f24df9c35cdf0525907e1f2d41c9500ff047",
        "collapsed": true,
        "_cell_guid": "75619e93-dd61-4789-b155-a43582b4700a",
        "trusted": false
      },
      "cell_type": "code",
      "source": "# Add marital_ to every value in marital so that the dummies have readable names\ndf['marital'] = 'marital_' + df['marital'].astype(str)\n\n# Get dummies\ndummies = pd.get_dummies(df['marital'])\n\n# Add dummies to df\ndf = pd.concat([df,dummies],axis=1)\n\n#remove original column\ndel df['marital']",
      "execution_count": null,
      "outputs": []
    },
    {
      "metadata": {
        "_uuid": "315aa9f53bcdb68b7d0a48593fbd753ccece00d5",
        "_cell_guid": "d3d11aa8-f4cd-4323-8dc5-75bc88eb214a"
      },
      "cell_type": "markdown",
      "source": "### Education\nEducation is another standard demographic variable, so we will proceed as we did with the marital status."
    },
    {
      "metadata": {
        "_uuid": "098c76b218ac5b5b56e95844a7e06b415e770df2",
        "collapsed": true,
        "_cell_guid": "85e7ce8a-ec80-4284-bd9e-7fa72cf8e1b1",
        "trusted": false
      },
      "cell_type": "code",
      "source": "draw_conditional_barplot('education',df)",
      "execution_count": null,
      "outputs": []
    },
    {
      "metadata": {
        "_uuid": "7777ce892fe81e2a60575219f5301b7eb53dca7f",
        "collapsed": true,
        "_cell_guid": "052c4ca4-0baf-4b0d-9ff0-14b8e34b4459",
        "trusted": false
      },
      "cell_type": "code",
      "source": "# Add education_ to every value in education so that the dummies have readable names\ndf['education'] = 'education_' + df['education'].astype(str)\n\n# Get dummies\ndummies = pd.get_dummies(df['education'])\n\n# Add dummies to df\ndf = pd.concat([df,dummies],axis=1)\n\n#remove original column\ndel df['education']",
      "execution_count": null,
      "outputs": []
    },
    {
      "metadata": {
        "_uuid": "a8997ba65b960f85d8b5baee9d4fd8670b5a2e90",
        "_cell_guid": "d9ad1cf9-b6da-4bbf-94df-92d18a63942c"
      },
      "cell_type": "markdown",
      "source": "### Default\nWhether the client has a credit in default."
    },
    {
      "metadata": {
        "_uuid": "c46a9829ce6609b79a7ab9f3721b6a58b9fe3b94",
        "collapsed": true,
        "_cell_guid": "940538ce-f031-43eb-8327-fa2d9431c3c0",
        "trusted": false
      },
      "cell_type": "code",
      "source": "draw_conditional_barplot('default',df)",
      "execution_count": null,
      "outputs": []
    },
    {
      "metadata": {
        "_uuid": "c691f5e2216bde3865ab3f8e2b9c49cc35cdc835",
        "_cell_guid": "de4f8bd7-872f-4dd4-8a69-2a4fdff41b9c"
      },
      "cell_type": "markdown",
      "source": "Here, 'unknown' makes for an interesting feature. If the bank does not know whether the client defaulted before, the sales agent might have to ask because the bank might not want to sign up defaulting customers. We can see, that relatively more members of the nay sayers have unknowns default status than of the yes crowd. There are very few people who have defaulted, it is not even visible in the chart. We will give the numbers a closer look."
    },
    {
      "metadata": {
        "_uuid": "d4f1c6d16579a1dd7aa68a117bbdc88ea353ccc8",
        "collapsed": true,
        "_cell_guid": "31d5bd03-1f66-4c7e-aa32-dc1605944081",
        "trusted": false
      },
      "cell_type": "code",
      "source": "# This code was copied from our barchart plotting function, but we will print out the numbers instead of plotting them\n# Count total yes responses\nn_yes = len(df[df.y == 'yes'])\n# Count the total no responses in our dataset\nn_no = len(df[df.y == 'no'])\n# Count the frequencies of the different jobs for the yes people\nyes_cnts = df[df.y == 'yes']['default'].value_counts() / n_yes * 100\n# Count frequencies of jobs for the nay sayers\nno_cnts = df[df.y == 'no']['default'].value_counts() / n_no * 100\n\n# Create a new dataframe that includes all frequencies\nres = pd.concat([yes_cnts,no_cnts],axis=1)\n# Name the columns of the new dataframe (yes crowd and nay sayers)\nres.columns = ['yes','no']\n# Fill empty fields with zeros\nres = res.fillna(0)\n\nprint(res)",
      "execution_count": null,
      "outputs": []
    },
    {
      "metadata": {
        "_uuid": "330ef898e8e9227282a7c76935006f2f96187c3f",
        "_cell_guid": "fc8288eb-9c66-43ce-9efd-080d3b42779f"
      },
      "cell_type": "markdown",
      "source": "A tiny share of the nay sayers defaulted earlier, while none of the yes crowd did. A significant higher share of the nay sayers had an unknown status. This will make for an interesting feature, we will convert it to dummy variables as well."
    },
    {
      "metadata": {
        "_uuid": "b8e3013b9b959dfdcb4e857a6ed0e8d49181ea15",
        "collapsed": true,
        "_cell_guid": "cd60b303-7219-412a-ac8e-beffe54da6c1",
        "trusted": false
      },
      "cell_type": "code",
      "source": "# Ensure dummy names are well readable\ndf['default'] = 'default_' + df['default'].astype(str)\n# Get dummies\ndummies = pd.get_dummies(df['default'])\n# Get dummies\ndummies = pd.get_dummies(df['default'])\n# Add dummies to df\ndf = pd.concat([df,dummies],axis=1)\n#remove original column\ndel df['default']",
      "execution_count": null,
      "outputs": []
    },
    {
      "metadata": {
        "_uuid": "ac08f5f4250f75727bee89458cf22d1bd8b7278f",
        "_cell_guid": "51e3697a-3138-45a1-9ac2-f49d703c6719"
      },
      "cell_type": "markdown",
      "source": "### Housing\nWhether a customer has a housing loan."
    },
    {
      "metadata": {
        "_uuid": "11e1b3010d51188143471e47a088ec22e390d907",
        "collapsed": true,
        "_cell_guid": "3dfa9f88-200d-4538-ad9f-fdd5f77fc80d",
        "trusted": false
      },
      "cell_type": "code",
      "source": "draw_conditional_barplot('housing',df)",
      "execution_count": null,
      "outputs": []
    },
    {
      "metadata": {
        "_uuid": "22e8bdcad4d049d172818e6e754752a43d310b41",
        "_cell_guid": "dc2afd59-a227-4bbd-9a1f-f8bc63307e1b"
      },
      "cell_type": "markdown",
      "source": "While this one does not look very interesting, we will convert it to a dummy variable and add it in, as it might have a correlation to the outcome in correlation with other variables."
    },
    {
      "metadata": {
        "_uuid": "cd98de9243c0a3091bcf4f8982ec816296825410",
        "collapsed": true,
        "_cell_guid": "b1b15ddb-0acd-4d34-abee-8bd0f16b2cff",
        "trusted": false
      },
      "cell_type": "code",
      "source": "# Ensure dummy names are well readable\ndf['housing'] = 'housing_' + df['housing'].astype(str)\n\n# Get dummies\ndummies = pd.get_dummies(df['housing'])\n\n# Add dummies to df\ndf = pd.concat([df,dummies],axis=1)\n\n#remove original column\ndel df['housing']",
      "execution_count": null,
      "outputs": []
    },
    {
      "metadata": {
        "_uuid": "f11404138e5d9d03c9e24d501146831481008150",
        "_cell_guid": "c01720ec-fdd2-4638-83f6-c9c881ad415d"
      },
      "cell_type": "markdown",
      "source": "### Loan\nWhether the customer has a personal loan."
    },
    {
      "metadata": {
        "_uuid": "2f7bdba74129769aae87d85ffe35c2e7903bfd45",
        "collapsed": true,
        "_cell_guid": "e924d0b6-2e3b-4f81-b74a-da56a9f9c23a",
        "trusted": false
      },
      "cell_type": "code",
      "source": "draw_conditional_barplot('loan',df)",
      "execution_count": null,
      "outputs": []
    },
    {
      "metadata": {
        "_uuid": "2520ef5c103c605cddbc2e886937db477ad4ffa7",
        "_cell_guid": "08701ce8-7f6c-41eb-8af6-0a0291cb81a5"
      },
      "cell_type": "markdown",
      "source": "No obvious observations here, convert to dummies and proceed."
    },
    {
      "metadata": {
        "_uuid": "986c0b7809cfb4decc05540ccf5a1104105ed0b3",
        "collapsed": true,
        "_cell_guid": "e5cc1490-47db-4c25-91c3-301713187576",
        "trusted": false
      },
      "cell_type": "code",
      "source": "# Ensure dummy names are well readable\ndf['loan'] = 'loan_' + df['loan'].astype(str)\n\n# Get dummies\ndummies = pd.get_dummies(df['loan'])\n\n# Add dummies to df\ndf = pd.concat([df,dummies],axis=1)\n\n#remove original column\ndel df['loan']",
      "execution_count": null,
      "outputs": []
    },
    {
      "metadata": {
        "_uuid": "11210bc5230b77de5211b871ea6309e2b1e5d599",
        "_cell_guid": "c5fcd2af-0a37-4086-972a-78e8d4340db4"
      },
      "cell_type": "markdown",
      "source": "### Type of contact\nHow the customer is contacted, cellphone or land line (marked as 'telephone')"
    },
    {
      "metadata": {
        "_uuid": "f520554626a2e9f99c4942243ed66948c7c94b12",
        "collapsed": true,
        "_cell_guid": "deca330b-ca57-4ee0-8b15-cb2bbe8bf895",
        "trusted": false
      },
      "cell_type": "code",
      "source": "draw_conditional_barplot('contact',df)",
      "execution_count": null,
      "outputs": []
    },
    {
      "metadata": {
        "_uuid": "4a045943624ecdaa10a739eedea909059058bdc7",
        "_cell_guid": "345580e0-b8fa-4130-93cc-8b102a807edd"
      },
      "cell_type": "markdown",
      "source": "Cellphones seem to be more popular overall but also a bit more successful. Probably calls on landlines are missed more often."
    },
    {
      "metadata": {
        "_uuid": "efe1500d3d52e9b0b3f3364c7c884b6e48636378",
        "collapsed": true,
        "_cell_guid": "86d12e41-2389-4e71-a901-37527aa3c3df",
        "trusted": false
      },
      "cell_type": "code",
      "source": "# Ensure dummy names are well readable\ndf['contact'] = 'contact_' + df['contact'].astype(str)\n\n# Get dummies\ndummies = pd.get_dummies(df['contact'])\n\n# Add dummies to df\ndf = pd.concat([df,dummies],axis=1)\n\n#remove original column\ndel df['contact']",
      "execution_count": null,
      "outputs": []
    },
    {
      "metadata": {
        "_uuid": "b151d9500c15ed1469cc5c45f660c2413a3c227b",
        "_cell_guid": "793e1acc-223c-4ca5-8c9f-316190112cff"
      },
      "cell_type": "markdown",
      "source": "### Month of the call\nThe month in which the call was made."
    },
    {
      "metadata": {
        "_uuid": "f5b4b6b012ddca5acd9e7282f7c722b99c0a300f",
        "collapsed": true,
        "_cell_guid": "2a549395-485d-414a-a851-4f9ac231fb84",
        "trusted": false
      },
      "cell_type": "code",
      "source": "draw_conditional_barplot('month',df)",
      "execution_count": null,
      "outputs": []
    },
    {
      "metadata": {
        "_uuid": "13e1a35a2b6a8b4651bb80fadd7feb3ecf9a6041",
        "_cell_guid": "5b63fd2b-1ed3-44d3-b86c-505a0848fe00"
      },
      "cell_type": "markdown",
      "source": "This graph is quite interesting: In december, there seems to have been very little calling. And while the yes crowd signed up pretty equally through the year, the nay sayers are more unevenly spread. There seems to have been a bigger push in the summer, in which many calls where made, but the share of successful calls declined. Again, this one will be converted into dummy variables."
    },
    {
      "metadata": {
        "_uuid": "20dce172c168cbd560a38988418262d9962a5854",
        "collapsed": true,
        "_cell_guid": "0a5ead66-48ed-42a0-af84-a0f99aff5514",
        "trusted": false
      },
      "cell_type": "code",
      "source": "# Ensure dummy names are well readable\ndf['month'] = 'month_' + df['month'].astype(str)\n\n# Get dummies\ndummies = pd.get_dummies(df['month'])\n\n# Add dummies to df\ndf = pd.concat([df,dummies],axis=1)\n\n#remove original column\ndel df['month']",
      "execution_count": null,
      "outputs": []
    },
    {
      "metadata": {
        "_uuid": "91ce263d95ea4ad4336484cef8d6ef296a10c027",
        "_cell_guid": "c9a24a56-13a1-4cb1-a632-f1a4841eb4ce"
      },
      "cell_type": "markdown",
      "source": "### Day of the call\nThe week day the call was made."
    },
    {
      "metadata": {
        "_uuid": "521af88682d8fc809563296e7ec2beffabf8853b",
        "collapsed": true,
        "_cell_guid": "3818e88c-1ca6-4715-b6e3-d47e5fc62188",
        "trusted": false
      },
      "cell_type": "code",
      "source": "draw_conditional_barplot('day_of_week',df)",
      "execution_count": null,
      "outputs": []
    },
    {
      "metadata": {
        "_uuid": "319e38ab7c1c89cd20c1768b7c4fd199ab927b52",
        "_cell_guid": "dd9cca55-de65-4a26-b8b9-793c15edc5ea"
      },
      "cell_type": "markdown",
      "source": "Interestingly, this bank does not seem to call people on the weekend. There also seem to be a bit fewer calls on fridays. Thursday seems to be the best day with the most total calls made and the most customers signed on."
    },
    {
      "metadata": {
        "_uuid": "127e4decacf246631be9bede88af53b81e15d070",
        "collapsed": true,
        "_cell_guid": "10012da9-455c-41d9-b1a5-3fa1f6e8fa55",
        "trusted": false
      },
      "cell_type": "code",
      "source": "# Add job_ to every value in jobs so that the dummies have readable names\ndf['day_of_week'] = 'day_of_week_' + df['day_of_week'].astype(str)\n\n# Get dummies\ndummies = pd.get_dummies(df['day_of_week'])\n\n# Add dummies to df\ndf = pd.concat([df,dummies],axis=1)\n\n#remove original column\ndel df['day_of_week']",
      "execution_count": null,
      "outputs": []
    },
    {
      "metadata": {
        "_uuid": "f70d670a24fe5f02796fd0c72e44e381ac2a705e",
        "_cell_guid": "38788841-0aec-40e9-bc5b-9cf08f88b8f3"
      },
      "cell_type": "markdown",
      "source": "### Previous outcome\nThe outcome of previous calls to the customer."
    },
    {
      "metadata": {
        "_uuid": "a2fc9b8478381823ff41e39f6cc45f54336ceb78",
        "collapsed": true,
        "_cell_guid": "622d894f-48cc-48e6-9ca3-d5b002171326",
        "trusted": false
      },
      "cell_type": "code",
      "source": "draw_conditional_barplot('poutcome',df)",
      "execution_count": null,
      "outputs": []
    },
    {
      "metadata": {
        "_uuid": "c6a8fc88fe498c7559d0b963de8d9db840195563",
        "_cell_guid": "9b1f0c4e-8cdc-49a2-b799-97f151a1a064"
      },
      "cell_type": "markdown",
      "source": "Perhaps unsurprisingly, customers that said yes before are more likely to say yes again. Interestingly, customers that said no before, are also a little bit more likely to say yes this time. Customers that where not contacted before seem to say no most of the time."
    },
    {
      "metadata": {
        "_uuid": "0b1fce4460b85f6d2824db4da784eeeaf8df7b3b",
        "collapsed": true,
        "_cell_guid": "97ffef8a-920f-492f-b805-d881f1364f5c",
        "trusted": false
      },
      "cell_type": "code",
      "source": "# Add job_ to every value in jobs so that the dummies have readable names\ndf['poutcome'] = 'poutcome_' + df['poutcome'].astype(str)\n\n# Get dummies\ndummies = pd.get_dummies(df['poutcome'])\n\n# Add dummies to df\ndf = pd.concat([df,dummies],axis=1)\n\n#remove original column\ndel df['poutcome']",
      "execution_count": null,
      "outputs": []
    },
    {
      "metadata": {
        "_uuid": "a5e1c067a560215480e769c519c34138c471d94f",
        "_cell_guid": "efa72b27-782c-47c3-ba44-23e172ab0a64"
      },
      "cell_type": "markdown",
      "source": "### Duration of the call\nAs any sales person knows, how long the customer is willing to stay on the phone greatly influences the likely hood of success."
    },
    {
      "metadata": {
        "_uuid": "6cc765695641bd8dd9937b03dd11545462132dca",
        "collapsed": true,
        "_cell_guid": "30f59721-7c2e-45ff-a384-ba6eb27d1353",
        "trusted": false
      },
      "cell_type": "code",
      "source": "draw_conditional_distplot('duration',df)",
      "execution_count": null,
      "outputs": []
    },
    {
      "metadata": {
        "_uuid": "2d7fb389f25efa2db50e2c46e573badc177b19b9",
        "_cell_guid": "8a8d3415-826d-43f9-b7fd-a9d2a8032b34"
      },
      "cell_type": "markdown",
      "source": "And in fact, we can see that the duration of the call has a close correlation with the outcome. However, once the duration of the call is known, the outcome is also known, and we can not estimate the duration of the call in advance. So we can not use this feature for our forecast and have to remove it."
    },
    {
      "metadata": {
        "_uuid": "7843656af7a09bab6dea718246755de2d1ec5e75",
        "collapsed": true,
        "_cell_guid": "3b45c6b8-f703-4485-86f9-0bc8849db9c7",
        "trusted": false
      },
      "cell_type": "code",
      "source": "del df['duration']",
      "execution_count": null,
      "outputs": []
    },
    {
      "metadata": {
        "_uuid": "5097d7cb7da65437927087699dedcb622072e608",
        "_cell_guid": "e1e44da1-0889-41ab-a7f3-8bcac9cd44e6"
      },
      "cell_type": "markdown",
      "source": "### Number of contacts during this campaign\nFrom the dataset description:\n> Number of contacts performed during this campaign and for this client (numeric, includes last contact)"
    },
    {
      "metadata": {
        "_uuid": "8b2b3592191c20bd4ed17214a4dad94381d206c2",
        "collapsed": true,
        "_cell_guid": "332a7cc8-3797-4072-bb10-8f6756180f8c",
        "trusted": false
      },
      "cell_type": "code",
      "source": "draw_conditional_distplot('campaign',df)",
      "execution_count": null,
      "outputs": []
    },
    {
      "metadata": {
        "_uuid": "b1586b6bd32c847d67768a958ba40fc1aa7eeb0a",
        "_cell_guid": "acb0234d-68e0-4a0e-b2f0-36cd7d8a2e88"
      },
      "cell_type": "markdown",
      "source": "This graph is a little bit hard to read as there is a long tail of customers who have had many contacts. We will plot it again without the long tail."
    },
    {
      "metadata": {
        "_uuid": "5760e604cbed274530586a4a52c678b344b883c8",
        "collapsed": true,
        "_cell_guid": "012dc959-ffff-4061-b6d1-78bcec403f6b",
        "trusted": false
      },
      "cell_type": "code",
      "source": "draw_conditional_distplot('campaign',df[df.campaign < 10])",
      "execution_count": null,
      "outputs": []
    },
    {
      "metadata": {
        "_uuid": "22eb38b537baf1d0d5485c95eb2be98fda2c9049",
        "_cell_guid": "6d223b0e-50ad-4d6f-9581-b961e78ab928"
      },
      "cell_type": "markdown",
      "source": "In the smaller range, there seems to be a negative correlation between the number of contacts and the likely hood of a yes. Since there is a very long tail that will distort the actual data, we will clip the value to 10 before scaling the data."
    },
    {
      "metadata": {
        "_uuid": "c8ff088e73667bdce85c902dca850ee14a426020",
        "collapsed": true,
        "_cell_guid": "82901ad2-6ea7-46ac-a871-d8a23a1a3e94",
        "trusted": false
      },
      "cell_type": "code",
      "source": "df['campaign'] = df['campaign'].clip(upper = 10)",
      "execution_count": null,
      "outputs": []
    },
    {
      "metadata": {
        "_uuid": "9592e22c829323eb37a2ba40280935706cd27912",
        "collapsed": true,
        "_cell_guid": "f5ae945e-4ae0-44b4-bf5f-9986659582a4",
        "trusted": false
      },
      "cell_type": "code",
      "source": "df['campaign'] = (df['campaign'] - df['campaign'].mean())/(df['campaign'].std())",
      "execution_count": null,
      "outputs": []
    },
    {
      "metadata": {
        "_uuid": "32de8d65119bcf6b0722eb9d2e225256dd4bedc1",
        "_cell_guid": "684b8ba5-dd33-4730-b85e-f7712dde3a27"
      },
      "cell_type": "markdown",
      "source": "## Theory: Feature scaling\n[Feature scaling](https://en.wikipedia.org/wiki/Feature_scaling) through standardization is a method that ensures that all input features have the same mean and standard deviation. This makes it easier for our learning algorithm to work with them since all features have the same 'scale'. In raw data, age and economic indicators such as the euribor rate might have very different ranges. While age has values between 20 and 100, the euribor will never be this high. The learning algorithm might then detect stronger or weaker correlations between certain variables just because their scales are very different. When all input features have the same mean and standard deviation, this hurdle is resolved. We can also picture this graphically. Remember that our learning algorithm is using gradient descent to optimize parameters for a minimum loss. If the 'valley' is very narrow it can be hard to find the minimum as the learning algorithm is often jumping over it. Feature scaling makes the valley more round and therefore easier to find the minimum.\n![feature scaling](https://storage.googleapis.com/aibootcamp/Week%202/assets/feature_scaling.jpg)"
    },
    {
      "metadata": {
        "_uuid": "80e3b22571e1ac9cc751a2c3cdaa2df0f0583832",
        "_cell_guid": "0278918c-bf7c-40a1-a4f5-9eaef5acf834"
      },
      "cell_type": "markdown",
      "source": "### Days since last contact\nThe number of days that passed since the customer was last contacted. 999 means they where not contacted before. We will therefore plot it without this outlier data."
    },
    {
      "metadata": {
        "_uuid": "7f8817eedebb569cc27a83b387265d43af729095",
        "collapsed": true,
        "_cell_guid": "b16ce585-e54d-4a30-9a08-ae5f37448547",
        "trusted": false
      },
      "cell_type": "code",
      "source": "draw_conditional_distplot('pdays',df[df['pdays'] < 500])",
      "execution_count": null,
      "outputs": []
    },
    {
      "metadata": {
        "_uuid": "73e7e272da915bc31220b2d3cf5ef5ac14129893",
        "_cell_guid": "64419cd5-e33a-40b6-af8b-08ba9e11b74e"
      },
      "cell_type": "markdown",
      "source": "We can see that if we cut off the values greater than 500 the next greatest value seems to be around 30. For customers not contacted before we will create a new dummy variable not contacted before."
    },
    {
      "metadata": {
        "_uuid": "61d401d1252f817e45727cf012d9ce94c40fc17f",
        "collapsed": true,
        "_cell_guid": "d51ffc76-4b07-4225-bc04-50d6afe38f2c",
        "trusted": false
      },
      "cell_type": "code",
      "source": "df['contacted_before'] = np.where(df['pdays'] == 999, 0,1)",
      "execution_count": null,
      "outputs": []
    },
    {
      "metadata": {
        "_uuid": "2860bf7cc0be9e292ebcc381ca444846074f4b6c",
        "collapsed": true,
        "_cell_guid": "ce2d2b90-a2f3-48f6-8072-7a3247e0ba3f",
        "trusted": false
      },
      "cell_type": "code",
      "source": "draw_conditional_barplot('contacted_before',df)",
      "execution_count": null,
      "outputs": []
    },
    {
      "metadata": {
        "_uuid": "d22329709c867c3d68fce925fb972416fca53d42",
        "_cell_guid": "c3980a41-e129-48e0-bae5-9b8681e60902"
      },
      "cell_type": "markdown",
      "source": "As we can see, that most customers have not been contacted before, those that have are more likely to say yes. To not distort our data, we will set the value of days till contact for those which have not been contacted before to the mean contact time."
    },
    {
      "metadata": {
        "_uuid": "90927c7bf486a2b9e5caa3370b898ebe401e76e4",
        "collapsed": true,
        "_cell_guid": "8b44b4c3-8505-40cb-a9e3-1a774eac4e6e",
        "trusted": false
      },
      "cell_type": "code",
      "source": "df['pdays'] = np.where(df['pdays'] == 999,df[df['pdays'] < 999]['pdays'].mean(),df['pdays'])",
      "execution_count": null,
      "outputs": []
    },
    {
      "metadata": {
        "_uuid": "b64f86a7bc69e24357cf67c855812fb057d59742",
        "_cell_guid": "0b47311c-b59a-4910-ad9c-66db2deb18fc"
      },
      "cell_type": "markdown",
      "source": "We will see that now the large majority of values are at the mean of the distribution."
    },
    {
      "metadata": {
        "_uuid": "81837094a80dfcc6ce36512a8618fc574a0b932d",
        "collapsed": true,
        "_cell_guid": "66083f54-7aea-45cd-8623-b66c55a5626e",
        "trusted": false
      },
      "cell_type": "code",
      "source": "draw_conditional_distplot('pdays',df)",
      "execution_count": null,
      "outputs": []
    },
    {
      "metadata": {
        "_uuid": "545939ffdd95a9e0277f80a2d1b44c6b816ac541",
        "_cell_guid": "7da2157e-9baa-4e45-9b65-e6465b5dc5f9"
      },
      "cell_type": "markdown",
      "source": "Now we can scale the data:"
    },
    {
      "metadata": {
        "_uuid": "5e3c0c506353db1883b4366dd23c18a0e0fcfc93",
        "collapsed": true,
        "_cell_guid": "1cc947a6-7457-4801-bd5c-a0cdcf01e555",
        "trusted": false
      },
      "cell_type": "code",
      "source": "df['pdays'] = (df['pdays'] - df['pdays'].mean())/(df['pdays'].std())",
      "execution_count": null,
      "outputs": []
    },
    {
      "metadata": {
        "_uuid": "1f7a5ba1115ea90b01b48b5a19fd320ab792e60b",
        "_cell_guid": "70fb2d55-4764-47b7-92b2-3a1b48de2e4d"
      },
      "cell_type": "markdown",
      "source": "### Number of contacts without last contact\nOur data set also includes the number of contacts excluding the last one. Let's see whether it is different:"
    },
    {
      "metadata": {
        "_uuid": "afea70d70d6323c5b747f8adab9ceb9c4c770716",
        "collapsed": true,
        "_cell_guid": "85d95ccd-0c67-4293-8a97-00f56ce9386d",
        "trusted": false
      },
      "cell_type": "code",
      "source": "draw_conditional_distplot('previous',df)",
      "execution_count": null,
      "outputs": []
    },
    {
      "metadata": {
        "_uuid": "79d72692de9dddc85e1ef230582d62628896426b",
        "_cell_guid": "33543983-0c48-4cc1-9e9c-c8d20cf4d55f"
      },
      "cell_type": "markdown",
      "source": "We see that this feature shows a different pattern than the number of contacts including the last one. It now shows that more contacts are relatively better. We will scale the feature and include it:"
    },
    {
      "metadata": {
        "_uuid": "bb800da22607b15c17155d85dfd0869aea748038",
        "collapsed": true,
        "_cell_guid": "4e21a489-1b0f-4721-980e-536a8502aef7",
        "trusted": false
      },
      "cell_type": "code",
      "source": "df['previous'] = (df['previous'] - df['previous'].mean())/(df['previous'].std())",
      "execution_count": null,
      "outputs": []
    },
    {
      "metadata": {
        "_uuid": "e69a9ce47602e9ab29dded005dec66ceb7af203c",
        "_cell_guid": "e4168651-e203-4328-a300-b057296e8efb"
      },
      "cell_type": "markdown",
      "source": "## Economic indicators\nOur dataset also features a set of economic indicators. We will not discuss these in depth, instead we will just check them for distorting long tails and scale them."
    },
    {
      "metadata": {
        "_uuid": "5ba8a06b6973b25e709d17e97fdce5d584afa034",
        "_cell_guid": "df076fe1-aa0c-43ab-86a9-cade2c159b82"
      },
      "cell_type": "markdown",
      "source": "### Employment variation rate"
    },
    {
      "metadata": {
        "_uuid": "5a4f958823b1a75dce13939b0e7bf1c14dbf0500",
        "collapsed": true,
        "_cell_guid": "056c0128-30bc-430e-807f-6be5e1ac026e",
        "trusted": false
      },
      "cell_type": "code",
      "source": "draw_conditional_distplot('emp.var.rate',df)",
      "execution_count": null,
      "outputs": []
    },
    {
      "metadata": {
        "_uuid": "544df7842527ab61c5d57ec51f73e32026b7a865",
        "collapsed": true,
        "_cell_guid": "63500894-dfe5-49d6-8c17-e260828720fc",
        "trusted": false
      },
      "cell_type": "code",
      "source": "# Feature scaling\ndf['emp.var.rate'] = (df['emp.var.rate'] - df['emp.var.rate'].mean())/(df['emp.var.rate'].std())",
      "execution_count": null,
      "outputs": []
    },
    {
      "metadata": {
        "_uuid": "a98a31c7cbe4d647f55eeeaa304c8eb66d975c8e",
        "_cell_guid": "2a88d3f3-0e02-4e28-aadd-e95e9081b349"
      },
      "cell_type": "markdown",
      "source": "### Consumer price index"
    },
    {
      "metadata": {
        "_uuid": "d79cd0c25569a3c02fc95aae438e4319d2971cde",
        "collapsed": true,
        "_cell_guid": "d07ce615-a243-4fd0-be55-ccfe3ec68f77",
        "trusted": false
      },
      "cell_type": "code",
      "source": "draw_conditional_distplot('cons.price.idx',df)",
      "execution_count": null,
      "outputs": []
    },
    {
      "metadata": {
        "_uuid": "5370a62d1f2cb9ddb743144ff7de30995be21f26",
        "collapsed": true,
        "_cell_guid": "58f33bfa-3063-41c7-8b53-128cb9ed2462",
        "trusted": false
      },
      "cell_type": "code",
      "source": "# Feature scaling\ndf['cons.price.idx'] = (df['cons.price.idx'] - df['cons.price.idx'].mean())/(df['cons.price.idx'].std())",
      "execution_count": null,
      "outputs": []
    },
    {
      "metadata": {
        "_uuid": "b66a260f5467dbd186af3b34e91abebea5f7d017",
        "_cell_guid": "26f14df4-f1d6-4a3e-99b4-bcf87298e9bc"
      },
      "cell_type": "markdown",
      "source": "### Consumer confidence index"
    },
    {
      "metadata": {
        "_uuid": "ff43a029ee0bbb2850a1002cd3a505e01ec705e5",
        "collapsed": true,
        "_cell_guid": "8deec080-364e-4ac2-abd1-5a03e14c012c",
        "trusted": false
      },
      "cell_type": "code",
      "source": "draw_conditional_distplot('cons.conf.idx',df)",
      "execution_count": null,
      "outputs": []
    },
    {
      "metadata": {
        "_uuid": "5835b1915dde1cb51b296acc86c5be62236edfbd",
        "collapsed": true,
        "_cell_guid": "e5326b9f-c4c8-497d-aebb-6cfa154852e0",
        "trusted": false
      },
      "cell_type": "code",
      "source": "# Feature scaling\ndf['cons.conf.idx'] = (df['cons.conf.idx'] - df['cons.conf.idx'].mean())/(df['cons.conf.idx'].std())",
      "execution_count": null,
      "outputs": []
    },
    {
      "metadata": {
        "_uuid": "2df149f18a4184d55071699c23d0078e569e36fb",
        "_cell_guid": "b5ddba71-1fd2-480b-a05c-e9fad3fb60e7"
      },
      "cell_type": "markdown",
      "source": "### 3 month euribor"
    },
    {
      "metadata": {
        "_uuid": "b314ecbf654e19529c41c82c7ddd5f7237bb9e13",
        "collapsed": true,
        "_cell_guid": "64d6970a-e12a-4b58-8686-b0ff81a0b1d7",
        "trusted": false
      },
      "cell_type": "code",
      "source": "draw_conditional_distplot('euribor3m',df)",
      "execution_count": null,
      "outputs": []
    },
    {
      "metadata": {
        "_uuid": "cb25e8bf59f3fc174805f291b0560116d7cfeb31",
        "collapsed": true,
        "_cell_guid": "1478a29c-c272-4a78-a4b6-6d7f8ec09076",
        "trusted": false
      },
      "cell_type": "code",
      "source": "df['euribor3m'] = (df['euribor3m'] - df['euribor3m'].mean())/(df['euribor3m'].std())",
      "execution_count": null,
      "outputs": []
    },
    {
      "metadata": {
        "_uuid": "812e08000565f963f29652f997c42f4468c0d35e",
        "_cell_guid": "6dc349cb-2d9f-4c0c-b2ac-42f74ad35119"
      },
      "cell_type": "markdown",
      "source": "### Employment number"
    },
    {
      "metadata": {
        "_uuid": "38545e9dda824eeff2c4b1fdb39d7604c49a607c",
        "collapsed": true,
        "_cell_guid": "d67f35a4-eb7b-414f-85e0-528f3ae0d27a",
        "trusted": false
      },
      "cell_type": "code",
      "source": "draw_conditional_distplot('nr.employed',df)",
      "execution_count": null,
      "outputs": []
    },
    {
      "metadata": {
        "_uuid": "008f8fd32719ba167497da60daf9285c6b03a26b",
        "collapsed": true,
        "_cell_guid": "2363f0f0-a9bd-4e47-83a9-f36e855ffd28",
        "trusted": false
      },
      "cell_type": "code",
      "source": "# Feature scaling\ndf['nr.employed'] = (df['nr.employed'] - df['nr.employed'].mean())/(df['nr.employed'].std())",
      "execution_count": null,
      "outputs": []
    },
    {
      "metadata": {
        "_uuid": "bdebd39ef859e0a662fc2a8025e650ddd61ca421",
        "_cell_guid": "c4451753-c1bf-4d2b-9be6-e4226437ec49"
      },
      "cell_type": "markdown",
      "source": "## The output $y$\nOur output $y$ is whether a customer subscribed (yes) or not (no)."
    },
    {
      "metadata": {
        "_uuid": "7ee270c5f89b4335a8958b7479f0fdaf7fb0023a",
        "collapsed": true,
        "_cell_guid": "5cbd6cdc-c748-4651-ab67-980fbec3e783",
        "trusted": false
      },
      "cell_type": "code",
      "source": "cnts = df.y.value_counts()\ncnts.plot(kind='bar')",
      "execution_count": null,
      "outputs": []
    },
    {
      "metadata": {
        "_uuid": "6e842a619f953e788c238510c68f1051bc170e53",
        "_cell_guid": "b6d7cacf-c980-4e73-8bc0-1e544c00df81"
      },
      "cell_type": "markdown",
      "source": "As you can see our outcome is balanced, as many customers subscribed as customer did not subscribed. You can also see that our output is still a text, we will convert it so that a yes is indicated by a 1, a no indicated by a 0."
    },
    {
      "metadata": {
        "_uuid": "294448b8aaa5482255b2e1c119cbc7c6450f4b16",
        "collapsed": true,
        "_cell_guid": "fbd74ee1-c309-4279-9060-1d766ecfdcd1",
        "trusted": false
      },
      "cell_type": "code",
      "source": "# Conversion\ndf['y'] = np.where(df['y'] == 'yes', 1,0)",
      "execution_count": null,
      "outputs": []
    },
    {
      "metadata": {
        "_uuid": "3b4f8b01e3b1bf9e292067d542bab4e9f94bb305",
        "_cell_guid": "6e008e6c-8bd9-4b00-b56d-a2ebd49201e9"
      },
      "cell_type": "markdown",
      "source": "## Overview of new features\nWe have created a lot of new features in this chapter, we will now look at them all and check whether we have left any features as text."
    },
    {
      "metadata": {
        "_uuid": "b84de9f566160b297226ede1d3ec016e34f9852c",
        "collapsed": true,
        "_cell_guid": "ddab0b3a-8a71-472c-a217-b3088d19936c",
        "trusted": false
      },
      "cell_type": "code",
      "source": "pd.set_option('display.max_rows', 100)\ndf.dtypes",
      "execution_count": null,
      "outputs": []
    },
    {
      "metadata": {
        "_uuid": "2cde1b998abc79c5b183d8016b58044576ef1ccb",
        "_cell_guid": "c027671f-a6b6-4639-8811-59c70083ab1a"
      },
      "cell_type": "markdown",
      "source": "## Saving the processed file\nOur data looks good, so we will now save our processed data so we have it ready for building our model in the next chapter."
    },
    {
      "metadata": {
        "_uuid": "80d1dee9abbbed2fe49ba2749e535cf59addd6ab",
        "collapsed": true,
        "_cell_guid": "6eec2ac7-cf00-4ff5-8642-6d6aeac960b8",
        "trusted": false
      },
      "cell_type": "code",
      "source": "df.to_csv('processed_bank.csv')",
      "execution_count": null,
      "outputs": []
    },
    {
      "metadata": {
        "_uuid": "8845500648c1929a70842f309cd767dfc1bb1c0d",
        "_cell_guid": "e13cce33-449a-4745-b9b3-ceae82ac3e35"
      },
      "cell_type": "markdown",
      "source": "### Summary\nIn this chapter you have seen an example data processing step. You have learned about dummy variables, feature scaling and how clever feature engineering can get better results out of the data. Data preprocessing actually makes up for the majority of time engineers spend when they build industry applications. It can easily make the difference between a well working system and one that does not work at all. Sometimes, it makes sense to come back to the feature engineering step after you have tried out some models. Often, insights from model building help you to do your feature engineering even better. And perhaps you have find something that could be done better in this chapter. If so, please file an issue on [GitHub](https://github.com/JannesKlaas/MLiFC) so we can improve. In the next chapter we will build a model on top of our processed data."
    }
  ],
  "metadata": {
    "language_info": {
      "pygments_lexer": "ipython3",
      "mimetype": "text/x-python",
      "nbconvert_exporter": "python",
      "name": "python",
      "codemirror_mode": {
        "name": "ipython",
        "version": 3
      },
      "file_extension": ".py",
      "version": "3.6.4"
    },
    "kernelspec": {
      "display_name": "Python 3",
      "language": "python",
      "name": "python3"
    },
    "anaconda-cloud": {}
  },
  "nbformat": 4,
  "nbformat_minor": 1
}