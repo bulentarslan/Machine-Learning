{
 "cells": [
  {
   "cell_type": "markdown",
   "metadata": {},
   "source": [
    "<a href=\"https://www.bigdatauniversity.com\"><img src = \"https://ibm.box.com/shared/static/ugcqz6ohbvff804xp84y4kqnvvk3bq1g.png\" width = 300, align = \"center\"></a>"
   ]
  },
  {
   "cell_type": "markdown",
   "metadata": {},
   "source": [
    "# <center>Regression Method on CEO Salary Data </center>"
   ]
  },
  {
   "cell_type": "markdown",
   "metadata": {},
   "source": [
    "# Table of Contents\n",
    "\n",
    "\n",
    "<div class=\"alert alert-block alert-info\" style=\"margin-top: 20px\">\n",
    "<li><a href=\"#ref0\">Data Formatting and Preprocessing    </a></li>\n",
    "<li><a href=\"#ref1\"> Data Analysis</a></li>\n",
    "<li><a href=\"#ref3\">  Data Exploration </a></li>\n",
    "\n",
    "<li><a href=\"#ref4\"> Creating a Model </a></li>\n",
    "\n",
    "\n",
    "\n",
    "</div>"
   ]
  },
  {
   "cell_type": "markdown",
   "metadata": {},
   "source": [
    " In this dataset, we will predict CEO pay using features such as the age of the CEO, company profits and sales. The dataset is from the Wisconsin School of Business's Regression and Modeling with Actual and Finance Applications  Datasets: "
   ]
  },
  {
   "cell_type": "code",
   "execution_count": 1,
   "metadata": {
    "collapsed": false
   },
   "outputs": [],
   "source": [
    "import pandas as pd\n",
    "import numpy as np\n",
    "import seaborn as sns\n",
    "import matplotlib.pyplot as plt\n",
    "%matplotlib inline"
   ]
  },
  {
   "cell_type": "markdown",
   "metadata": {},
   "source": [
    " Let's load the dataset using Pandas:"
   ]
  },
  {
   "cell_type": "code",
   "execution_count": 2,
   "metadata": {
    "collapsed": false
   },
   "outputs": [
    {
     "data": {
      "text/html": [
       "<div>\n",
       "<style>\n",
       "    .dataframe thead tr:only-child th {\n",
       "        text-align: right;\n",
       "    }\n",
       "\n",
       "    .dataframe thead th {\n",
       "        text-align: left;\n",
       "    }\n",
       "\n",
       "    .dataframe tbody tr th {\n",
       "        vertical-align: top;\n",
       "    }\n",
       "</style>\n",
       "<table border=\"1\" class=\"dataframe\">\n",
       "  <thead>\n",
       "    <tr style=\"text-align: right;\">\n",
       "      <th></th>\n",
       "      <th>COMP</th>\n",
       "      <th>AGE</th>\n",
       "      <th>EDUCATN</th>\n",
       "      <th>BACKGRD</th>\n",
       "      <th>TENURE</th>\n",
       "      <th>EXPER</th>\n",
       "      <th>SALES</th>\n",
       "      <th>VAL</th>\n",
       "      <th>PCNTOWN</th>\n",
       "      <th>PROF</th>\n",
       "      <th>COMPANY</th>\n",
       "      <th>BIRTH</th>\n",
       "    </tr>\n",
       "  </thead>\n",
       "  <tbody>\n",
       "    <tr>\n",
       "      <th>0</th>\n",
       "      <td>1948</td>\n",
       "      <td>55</td>\n",
       "      <td>1</td>\n",
       "      <td>1</td>\n",
       "      <td>23</td>\n",
       "      <td>23.0</td>\n",
       "      <td>1227</td>\n",
       "      <td>7.6</td>\n",
       "      <td>0.55</td>\n",
       "      <td>145</td>\n",
       "      <td>AdvM</td>\n",
       "      <td>chi</td>\n",
       "    </tr>\n",
       "    <tr>\n",
       "      <th>1</th>\n",
       "      <td>809</td>\n",
       "      <td>59</td>\n",
       "      <td>1</td>\n",
       "      <td>2</td>\n",
       "      <td>38</td>\n",
       "      <td>0.5</td>\n",
       "      <td>19196</td>\n",
       "      <td>0.4</td>\n",
       "      <td>0.01</td>\n",
       "      <td>505</td>\n",
       "      <td>aetna</td>\n",
       "      <td>chi</td>\n",
       "    </tr>\n",
       "    <tr>\n",
       "      <th>2</th>\n",
       "      <td>721</td>\n",
       "      <td>53</td>\n",
       "      <td>2</td>\n",
       "      <td>1</td>\n",
       "      <td>26</td>\n",
       "      <td>0.5</td>\n",
       "      <td>839</td>\n",
       "      <td>1.5</td>\n",
       "      <td>0.10</td>\n",
       "      <td>-60</td>\n",
       "      <td>aller</td>\n",
       "      <td>sanf</td>\n",
       "    </tr>\n",
       "    <tr>\n",
       "      <th>3</th>\n",
       "      <td>2027</td>\n",
       "      <td>62</td>\n",
       "      <td>2</td>\n",
       "      <td>2</td>\n",
       "      <td>25</td>\n",
       "      <td>5.0</td>\n",
       "      <td>8379</td>\n",
       "      <td>3.4</td>\n",
       "      <td>0.04</td>\n",
       "      <td>806</td>\n",
       "      <td>amer</td>\n",
       "      <td>vertx</td>\n",
       "    </tr>\n",
       "    <tr>\n",
       "      <th>4</th>\n",
       "      <td>2094</td>\n",
       "      <td>63</td>\n",
       "      <td>1</td>\n",
       "      <td>3</td>\n",
       "      <td>41</td>\n",
       "      <td>8.0</td>\n",
       "      <td>10818</td>\n",
       "      <td>5.9</td>\n",
       "      <td>0.04</td>\n",
       "      <td>1166</td>\n",
       "      <td>ameri</td>\n",
       "      <td>bigrun</td>\n",
       "    </tr>\n",
       "  </tbody>\n",
       "</table>\n",
       "</div>"
      ],
      "text/plain": [
       "   COMP  AGE  EDUCATN  BACKGRD  TENURE  EXPER  SALES  VAL  PCNTOWN  PROF  \\\n",
       "0  1948   55        1        1      23   23.0   1227  7.6     0.55   145   \n",
       "1   809   59        1        2      38    0.5  19196  0.4     0.01   505   \n",
       "2   721   53        2        1      26    0.5    839  1.5     0.10   -60   \n",
       "3  2027   62        2        2      25    5.0   8379  3.4     0.04   806   \n",
       "4  2094   63        1        3      41    8.0  10818  5.9     0.04  1166   \n",
       "\n",
       "  COMPANY   BIRTH  \n",
       "0    AdvM     chi  \n",
       "1   aetna     chi  \n",
       "2   aller    sanf  \n",
       "3    amer   vertx  \n",
       "4   ameri  bigrun  "
      ]
     },
     "execution_count": 2,
     "metadata": {},
     "output_type": "execute_result"
    }
   ],
   "source": [
    "file_name='https://ibm.box.com/shared/static/worxgoibhvr53yccwmwx71iuly491h6u.csv'\n",
    "df=pd.read_csv(file_name)\n",
    "df.head()"
   ]
  },
  {
   "cell_type": "markdown",
   "metadata": {},
   "source": [
    "## <a id=\"ref0\"></a> Data Formatting and Preprocessing  \n"
   ]
  },
  {
   "cell_type": "markdown",
   "metadata": {},
   "source": [
    " Let us re-scale the data:"
   ]
  },
  {
   "cell_type": "code",
   "execution_count": 3,
   "metadata": {
    "collapsed": true
   },
   "outputs": [],
   "source": [
    "df[\"COMP\"]=1000*df[\"COMP\"]\n",
    "df[\"PROF\"]=1000000*df[\"PROF\"]"
   ]
  },
  {
   "cell_type": "code",
   "execution_count": 4,
   "metadata": {
    "collapsed": false
   },
   "outputs": [
    {
     "data": {
      "text/html": [
       "<div>\n",
       "<style>\n",
       "    .dataframe thead tr:only-child th {\n",
       "        text-align: right;\n",
       "    }\n",
       "\n",
       "    .dataframe thead th {\n",
       "        text-align: left;\n",
       "    }\n",
       "\n",
       "    .dataframe tbody tr th {\n",
       "        vertical-align: top;\n",
       "    }\n",
       "</style>\n",
       "<table border=\"1\" class=\"dataframe\">\n",
       "  <thead>\n",
       "    <tr style=\"text-align: right;\">\n",
       "      <th></th>\n",
       "      <th>COMP</th>\n",
       "      <th>AGE</th>\n",
       "      <th>EDUCATN</th>\n",
       "      <th>BACKGRD</th>\n",
       "      <th>TENURE</th>\n",
       "      <th>EXPER</th>\n",
       "      <th>SALES</th>\n",
       "      <th>VAL</th>\n",
       "      <th>PCNTOWN</th>\n",
       "      <th>PROF</th>\n",
       "      <th>COMPANY</th>\n",
       "      <th>BIRTH</th>\n",
       "    </tr>\n",
       "  </thead>\n",
       "  <tbody>\n",
       "    <tr>\n",
       "      <th>0</th>\n",
       "      <td>1948000</td>\n",
       "      <td>55</td>\n",
       "      <td>1</td>\n",
       "      <td>1</td>\n",
       "      <td>23</td>\n",
       "      <td>23.0</td>\n",
       "      <td>1227</td>\n",
       "      <td>7.6</td>\n",
       "      <td>0.55</td>\n",
       "      <td>145000000</td>\n",
       "      <td>AdvM</td>\n",
       "      <td>chi</td>\n",
       "    </tr>\n",
       "    <tr>\n",
       "      <th>1</th>\n",
       "      <td>809000</td>\n",
       "      <td>59</td>\n",
       "      <td>1</td>\n",
       "      <td>2</td>\n",
       "      <td>38</td>\n",
       "      <td>0.5</td>\n",
       "      <td>19196</td>\n",
       "      <td>0.4</td>\n",
       "      <td>0.01</td>\n",
       "      <td>505000000</td>\n",
       "      <td>aetna</td>\n",
       "      <td>chi</td>\n",
       "    </tr>\n",
       "    <tr>\n",
       "      <th>2</th>\n",
       "      <td>721000</td>\n",
       "      <td>53</td>\n",
       "      <td>2</td>\n",
       "      <td>1</td>\n",
       "      <td>26</td>\n",
       "      <td>0.5</td>\n",
       "      <td>839</td>\n",
       "      <td>1.5</td>\n",
       "      <td>0.10</td>\n",
       "      <td>-60000000</td>\n",
       "      <td>aller</td>\n",
       "      <td>sanf</td>\n",
       "    </tr>\n",
       "    <tr>\n",
       "      <th>3</th>\n",
       "      <td>2027000</td>\n",
       "      <td>62</td>\n",
       "      <td>2</td>\n",
       "      <td>2</td>\n",
       "      <td>25</td>\n",
       "      <td>5.0</td>\n",
       "      <td>8379</td>\n",
       "      <td>3.4</td>\n",
       "      <td>0.04</td>\n",
       "      <td>806000000</td>\n",
       "      <td>amer</td>\n",
       "      <td>vertx</td>\n",
       "    </tr>\n",
       "    <tr>\n",
       "      <th>4</th>\n",
       "      <td>2094000</td>\n",
       "      <td>63</td>\n",
       "      <td>1</td>\n",
       "      <td>3</td>\n",
       "      <td>41</td>\n",
       "      <td>8.0</td>\n",
       "      <td>10818</td>\n",
       "      <td>5.9</td>\n",
       "      <td>0.04</td>\n",
       "      <td>1166000000</td>\n",
       "      <td>ameri</td>\n",
       "      <td>bigrun</td>\n",
       "    </tr>\n",
       "  </tbody>\n",
       "</table>\n",
       "</div>"
      ],
      "text/plain": [
       "      COMP  AGE  EDUCATN  BACKGRD  TENURE  EXPER  SALES  VAL  PCNTOWN  \\\n",
       "0  1948000   55        1        1      23   23.0   1227  7.6     0.55   \n",
       "1   809000   59        1        2      38    0.5  19196  0.4     0.01   \n",
       "2   721000   53        2        1      26    0.5    839  1.5     0.10   \n",
       "3  2027000   62        2        2      25    5.0   8379  3.4     0.04   \n",
       "4  2094000   63        1        3      41    8.0  10818  5.9     0.04   \n",
       "\n",
       "         PROF COMPANY   BIRTH  \n",
       "0   145000000    AdvM     chi  \n",
       "1   505000000   aetna     chi  \n",
       "2   -60000000   aller    sanf  \n",
       "3   806000000    amer   vertx  \n",
       "4  1166000000   ameri  bigrun  "
      ]
     },
     "execution_count": 4,
     "metadata": {},
     "output_type": "execute_result"
    }
   ],
   "source": [
    "df.head()"
   ]
  },
  {
   "cell_type": "markdown",
   "metadata": {},
   "source": [
    "Let's see the number of samples and features:"
   ]
  },
  {
   "cell_type": "code",
   "execution_count": 5,
   "metadata": {
    "collapsed": false
   },
   "outputs": [
    {
     "data": {
      "text/plain": [
       "(100, 12)"
      ]
     },
     "execution_count": 5,
     "metadata": {},
     "output_type": "execute_result"
    }
   ],
   "source": [
    "df.shape"
   ]
  },
  {
   "cell_type": "markdown",
   "metadata": {},
   "source": [
    "We have 100 samples, 11 features and one target. "
   ]
  },
  {
   "cell_type": "markdown",
   "metadata": {},
   "source": [
    " Let's look at the different data types:"
   ]
  },
  {
   "cell_type": "code",
   "execution_count": 6,
   "metadata": {
    "collapsed": false
   },
   "outputs": [
    {
     "data": {
      "text/plain": [
       "COMP         int64\n",
       "AGE          int64\n",
       "EDUCATN      int64\n",
       "BACKGRD      int64\n",
       "TENURE       int64\n",
       "EXPER      float64\n",
       "SALES        int64\n",
       "VAL        float64\n",
       "PCNTOWN    float64\n",
       "PROF         int64\n",
       "COMPANY     object\n",
       "BIRTH       object\n",
       "dtype: object"
      ]
     },
     "execution_count": 6,
     "metadata": {},
     "output_type": "execute_result"
    }
   ],
   "source": [
    "df.dtypes"
   ]
  },
  {
   "cell_type": "markdown",
   "metadata": {},
   "source": [
    "The columns **COMPANY** and **BIRTH** are not numerical. "
   ]
  },
  {
   "cell_type": "markdown",
   "metadata": {},
   "source": [
    " Let’s see if we have missing data:"
   ]
  },
  {
   "cell_type": "code",
   "execution_count": 7,
   "metadata": {
    "collapsed": false
   },
   "outputs": [
    {
     "data": {
      "text/plain": [
       "1"
      ]
     },
     "execution_count": 7,
     "metadata": {},
     "output_type": "execute_result"
    }
   ],
   "source": [
    "df.isnull().values.sum()"
   ]
  },
  {
   "cell_type": "markdown",
   "metadata": {},
   "source": [
    "We have one missing data point, we can just drop the row using the method **dropna**.\n",
    "Don’t forget if you don’t set the parameter **inplace** to **True** the dataframe will not change. \n"
   ]
  },
  {
   "cell_type": "code",
   "execution_count": 8,
   "metadata": {
    "collapsed": true
   },
   "outputs": [],
   "source": [
    "df.dropna(axis=0, inplace=True)"
   ]
  },
  {
   "cell_type": "markdown",
   "metadata": {},
   "source": [
    "We can verify that there is no missing data:  \n"
   ]
  },
  {
   "cell_type": "code",
   "execution_count": 9,
   "metadata": {
    "collapsed": false
   },
   "outputs": [
    {
     "data": {
      "text/plain": [
       "0"
      ]
     },
     "execution_count": 9,
     "metadata": {},
     "output_type": "execute_result"
    }
   ],
   "source": [
    "df.isnull().values.sum()"
   ]
  },
  {
   "cell_type": "markdown",
   "metadata": {},
   "source": [
    "## <a id=\"#ref2\"> </a> Data Analysis"
   ]
  },
  {
   "cell_type": "markdown",
   "metadata": {},
   "source": [
    "Let us get the summary statistics:"
   ]
  },
  {
   "cell_type": "code",
   "execution_count": 10,
   "metadata": {
    "collapsed": false
   },
   "outputs": [
    {
     "data": {
      "text/html": [
       "<div>\n",
       "<style>\n",
       "    .dataframe thead tr:only-child th {\n",
       "        text-align: right;\n",
       "    }\n",
       "\n",
       "    .dataframe thead th {\n",
       "        text-align: left;\n",
       "    }\n",
       "\n",
       "    .dataframe tbody tr th {\n",
       "        vertical-align: top;\n",
       "    }\n",
       "</style>\n",
       "<table border=\"1\" class=\"dataframe\">\n",
       "  <thead>\n",
       "    <tr style=\"text-align: right;\">\n",
       "      <th></th>\n",
       "      <th>COMP</th>\n",
       "      <th>AGE</th>\n",
       "      <th>EDUCATN</th>\n",
       "      <th>BACKGRD</th>\n",
       "      <th>TENURE</th>\n",
       "      <th>EXPER</th>\n",
       "      <th>SALES</th>\n",
       "      <th>VAL</th>\n",
       "      <th>PCNTOWN</th>\n",
       "      <th>PROF</th>\n",
       "    </tr>\n",
       "  </thead>\n",
       "  <tbody>\n",
       "    <tr>\n",
       "      <th>count</th>\n",
       "      <td>9.900000e+01</td>\n",
       "      <td>99.000000</td>\n",
       "      <td>99.000000</td>\n",
       "      <td>99.000000</td>\n",
       "      <td>99.000000</td>\n",
       "      <td>99.000000</td>\n",
       "      <td>99.000000</td>\n",
       "      <td>99.000000</td>\n",
       "      <td>99.000000</td>\n",
       "      <td>9.900000e+01</td>\n",
       "    </tr>\n",
       "    <tr>\n",
       "      <th>mean</th>\n",
       "      <td>1.124879e+06</td>\n",
       "      <td>56.949495</td>\n",
       "      <td>1.555556</td>\n",
       "      <td>4.959596</td>\n",
       "      <td>23.878788</td>\n",
       "      <td>8.949495</td>\n",
       "      <td>4117.676768</td>\n",
       "      <td>47.706061</td>\n",
       "      <td>1.774444</td>\n",
       "      <td>1.383939e+08</td>\n",
       "    </tr>\n",
       "    <tr>\n",
       "      <th>std</th>\n",
       "      <td>8.564561e+05</td>\n",
       "      <td>6.206274</td>\n",
       "      <td>0.609821</td>\n",
       "      <td>2.721491</td>\n",
       "      <td>12.460773</td>\n",
       "      <td>8.312609</td>\n",
       "      <td>4717.194561</td>\n",
       "      <td>186.564716</td>\n",
       "      <td>4.655538</td>\n",
       "      <td>3.440305e+08</td>\n",
       "    </tr>\n",
       "    <tr>\n",
       "      <th>min</th>\n",
       "      <td>1.550000e+05</td>\n",
       "      <td>37.000000</td>\n",
       "      <td>0.000000</td>\n",
       "      <td>1.000000</td>\n",
       "      <td>1.000000</td>\n",
       "      <td>0.500000</td>\n",
       "      <td>228.000000</td>\n",
       "      <td>0.100000</td>\n",
       "      <td>0.010000</td>\n",
       "      <td>-1.086000e+09</td>\n",
       "    </tr>\n",
       "    <tr>\n",
       "      <th>25%</th>\n",
       "      <td>5.750000e+05</td>\n",
       "      <td>52.500000</td>\n",
       "      <td>1.000000</td>\n",
       "      <td>3.000000</td>\n",
       "      <td>13.500000</td>\n",
       "      <td>2.500000</td>\n",
       "      <td>1275.000000</td>\n",
       "      <td>0.850000</td>\n",
       "      <td>0.040000</td>\n",
       "      <td>1.200000e+07</td>\n",
       "    </tr>\n",
       "    <tr>\n",
       "      <th>50%</th>\n",
       "      <td>8.090000e+05</td>\n",
       "      <td>58.000000</td>\n",
       "      <td>2.000000</td>\n",
       "      <td>5.000000</td>\n",
       "      <td>27.000000</td>\n",
       "      <td>6.000000</td>\n",
       "      <td>2344.000000</td>\n",
       "      <td>3.600000</td>\n",
       "      <td>0.160000</td>\n",
       "      <td>8.200000e+07</td>\n",
       "    </tr>\n",
       "    <tr>\n",
       "      <th>75%</th>\n",
       "      <td>1.458500e+06</td>\n",
       "      <td>61.500000</td>\n",
       "      <td>2.000000</td>\n",
       "      <td>7.000000</td>\n",
       "      <td>35.000000</td>\n",
       "      <td>12.000000</td>\n",
       "      <td>4408.000000</td>\n",
       "      <td>12.300000</td>\n",
       "      <td>0.755000</td>\n",
       "      <td>2.275000e+08</td>\n",
       "    </tr>\n",
       "    <tr>\n",
       "      <th>max</th>\n",
       "      <td>4.657000e+06</td>\n",
       "      <td>74.000000</td>\n",
       "      <td>2.000000</td>\n",
       "      <td>10.000000</td>\n",
       "      <td>46.000000</td>\n",
       "      <td>35.000000</td>\n",
       "      <td>21351.000000</td>\n",
       "      <td>1689.000000</td>\n",
       "      <td>34.040001</td>\n",
       "      <td>1.618000e+09</td>\n",
       "    </tr>\n",
       "  </tbody>\n",
       "</table>\n",
       "</div>"
      ],
      "text/plain": [
       "               COMP        AGE    EDUCATN    BACKGRD     TENURE      EXPER  \\\n",
       "count  9.900000e+01  99.000000  99.000000  99.000000  99.000000  99.000000   \n",
       "mean   1.124879e+06  56.949495   1.555556   4.959596  23.878788   8.949495   \n",
       "std    8.564561e+05   6.206274   0.609821   2.721491  12.460773   8.312609   \n",
       "min    1.550000e+05  37.000000   0.000000   1.000000   1.000000   0.500000   \n",
       "25%    5.750000e+05  52.500000   1.000000   3.000000  13.500000   2.500000   \n",
       "50%    8.090000e+05  58.000000   2.000000   5.000000  27.000000   6.000000   \n",
       "75%    1.458500e+06  61.500000   2.000000   7.000000  35.000000  12.000000   \n",
       "max    4.657000e+06  74.000000   2.000000  10.000000  46.000000  35.000000   \n",
       "\n",
       "              SALES          VAL    PCNTOWN          PROF  \n",
       "count     99.000000    99.000000  99.000000  9.900000e+01  \n",
       "mean    4117.676768    47.706061   1.774444  1.383939e+08  \n",
       "std     4717.194561   186.564716   4.655538  3.440305e+08  \n",
       "min      228.000000     0.100000   0.010000 -1.086000e+09  \n",
       "25%     1275.000000     0.850000   0.040000  1.200000e+07  \n",
       "50%     2344.000000     3.600000   0.160000  8.200000e+07  \n",
       "75%     4408.000000    12.300000   0.755000  2.275000e+08  \n",
       "max    21351.000000  1689.000000  34.040001  1.618000e+09  "
      ]
     },
     "execution_count": 10,
     "metadata": {},
     "output_type": "execute_result"
    }
   ],
   "source": [
    "df.describe()"
   ]
  },
  {
   "cell_type": "markdown",
   "metadata": {},
   "source": [
    " Let’s see the most popular birth places  of the CEO’s  using the method  **value_counts()**, just a note **[0:10].plot(kind='bar')** will only take the top ten values and plot a bar graph."
   ]
  },
  {
   "cell_type": "code",
   "execution_count": 11,
   "metadata": {
    "collapsed": false
   },
   "outputs": [
    {
     "data": {
      "text/plain": [
       "<matplotlib.axes._subplots.AxesSubplot at 0x1139296d8>"
      ]
     },
     "execution_count": 11,
     "metadata": {},
     "output_type": "execute_result"
    },
    {
     "data": {
      "image/png": "[encoded data removed]",
      "text/plain": [
       "<matplotlib.figure.Figure at 0x113927cf8>"
      ]
     },
     "metadata": {},
     "output_type": "display_data"
    }
   ],
   "source": [
    "df['BIRTH'].value_counts(normalize=True)[0:10].plot(kind='bar')"
   ]
  },
  {
   "cell_type": "markdown",
   "metadata": {},
   "source": [
    "We see 6% of the CEOs are from New York.\n"
   ]
  },
  {
   "cell_type": "markdown",
   "metadata": {},
   "source": [
    " In this Lab we will not use categorical features so will drop the columns using the method **drop **, let’s see the dataframe before we drop the columns. \n"
   ]
  },
  {
   "cell_type": "code",
   "execution_count": 12,
   "metadata": {
    "collapsed": false
   },
   "outputs": [
    {
     "data": {
      "text/html": [
       "<div>\n",
       "<style>\n",
       "    .dataframe thead tr:only-child th {\n",
       "        text-align: right;\n",
       "    }\n",
       "\n",
       "    .dataframe thead th {\n",
       "        text-align: left;\n",
       "    }\n",
       "\n",
       "    .dataframe tbody tr th {\n",
       "        vertical-align: top;\n",
       "    }\n",
       "</style>\n",
       "<table border=\"1\" class=\"dataframe\">\n",
       "  <thead>\n",
       "    <tr style=\"text-align: right;\">\n",
       "      <th></th>\n",
       "      <th>COMP</th>\n",
       "      <th>AGE</th>\n",
       "      <th>EDUCATN</th>\n",
       "      <th>BACKGRD</th>\n",
       "      <th>TENURE</th>\n",
       "      <th>EXPER</th>\n",
       "      <th>SALES</th>\n",
       "      <th>VAL</th>\n",
       "      <th>PCNTOWN</th>\n",
       "      <th>PROF</th>\n",
       "      <th>COMPANY</th>\n",
       "      <th>BIRTH</th>\n",
       "    </tr>\n",
       "  </thead>\n",
       "  <tbody>\n",
       "    <tr>\n",
       "      <th>0</th>\n",
       "      <td>1948000</td>\n",
       "      <td>55</td>\n",
       "      <td>1</td>\n",
       "      <td>1</td>\n",
       "      <td>23</td>\n",
       "      <td>23.0</td>\n",
       "      <td>1227</td>\n",
       "      <td>7.6</td>\n",
       "      <td>0.55</td>\n",
       "      <td>145000000</td>\n",
       "      <td>AdvM</td>\n",
       "      <td>chi</td>\n",
       "    </tr>\n",
       "    <tr>\n",
       "      <th>1</th>\n",
       "      <td>809000</td>\n",
       "      <td>59</td>\n",
       "      <td>1</td>\n",
       "      <td>2</td>\n",
       "      <td>38</td>\n",
       "      <td>0.5</td>\n",
       "      <td>19196</td>\n",
       "      <td>0.4</td>\n",
       "      <td>0.01</td>\n",
       "      <td>505000000</td>\n",
       "      <td>aetna</td>\n",
       "      <td>chi</td>\n",
       "    </tr>\n",
       "    <tr>\n",
       "      <th>2</th>\n",
       "      <td>721000</td>\n",
       "      <td>53</td>\n",
       "      <td>2</td>\n",
       "      <td>1</td>\n",
       "      <td>26</td>\n",
       "      <td>0.5</td>\n",
       "      <td>839</td>\n",
       "      <td>1.5</td>\n",
       "      <td>0.10</td>\n",
       "      <td>-60000000</td>\n",
       "      <td>aller</td>\n",
       "      <td>sanf</td>\n",
       "    </tr>\n",
       "    <tr>\n",
       "      <th>3</th>\n",
       "      <td>2027000</td>\n",
       "      <td>62</td>\n",
       "      <td>2</td>\n",
       "      <td>2</td>\n",
       "      <td>25</td>\n",
       "      <td>5.0</td>\n",
       "      <td>8379</td>\n",
       "      <td>3.4</td>\n",
       "      <td>0.04</td>\n",
       "      <td>806000000</td>\n",
       "      <td>amer</td>\n",
       "      <td>vertx</td>\n",
       "    </tr>\n",
       "    <tr>\n",
       "      <th>4</th>\n",
       "      <td>2094000</td>\n",
       "      <td>63</td>\n",
       "      <td>1</td>\n",
       "      <td>3</td>\n",
       "      <td>41</td>\n",
       "      <td>8.0</td>\n",
       "      <td>10818</td>\n",
       "      <td>5.9</td>\n",
       "      <td>0.04</td>\n",
       "      <td>1166000000</td>\n",
       "      <td>ameri</td>\n",
       "      <td>bigrun</td>\n",
       "    </tr>\n",
       "  </tbody>\n",
       "</table>\n",
       "</div>"
      ],
      "text/plain": [
       "      COMP  AGE  EDUCATN  BACKGRD  TENURE  EXPER  SALES  VAL  PCNTOWN  \\\n",
       "0  1948000   55        1        1      23   23.0   1227  7.6     0.55   \n",
       "1   809000   59        1        2      38    0.5  19196  0.4     0.01   \n",
       "2   721000   53        2        1      26    0.5    839  1.5     0.10   \n",
       "3  2027000   62        2        2      25    5.0   8379  3.4     0.04   \n",
       "4  2094000   63        1        3      41    8.0  10818  5.9     0.04   \n",
       "\n",
       "         PROF COMPANY   BIRTH  \n",
       "0   145000000    AdvM     chi  \n",
       "1   505000000   aetna     chi  \n",
       "2   -60000000   aller    sanf  \n",
       "3   806000000    amer   vertx  \n",
       "4  1166000000   ameri  bigrun  "
      ]
     },
     "execution_count": 12,
     "metadata": {},
     "output_type": "execute_result"
    }
   ],
   "source": [
    "df.head()"
   ]
  },
  {
   "cell_type": "markdown",
   "metadata": {},
   "source": [
    "We drop the columns and view the results :"
   ]
  },
  {
   "cell_type": "code",
   "execution_count": 13,
   "metadata": {
    "collapsed": false
   },
   "outputs": [
    {
     "data": {
      "text/html": [
       "<div>\n",
       "<style>\n",
       "    .dataframe thead tr:only-child th {\n",
       "        text-align: right;\n",
       "    }\n",
       "\n",
       "    .dataframe thead th {\n",
       "        text-align: left;\n",
       "    }\n",
       "\n",
       "    .dataframe tbody tr th {\n",
       "        vertical-align: top;\n",
       "    }\n",
       "</style>\n",
       "<table border=\"1\" class=\"dataframe\">\n",
       "  <thead>\n",
       "    <tr style=\"text-align: right;\">\n",
       "      <th></th>\n",
       "      <th>COMP</th>\n",
       "      <th>AGE</th>\n",
       "      <th>EDUCATN</th>\n",
       "      <th>BACKGRD</th>\n",
       "      <th>TENURE</th>\n",
       "      <th>EXPER</th>\n",
       "      <th>SALES</th>\n",
       "      <th>VAL</th>\n",
       "      <th>PCNTOWN</th>\n",
       "      <th>PROF</th>\n",
       "    </tr>\n",
       "  </thead>\n",
       "  <tbody>\n",
       "    <tr>\n",
       "      <th>0</th>\n",
       "      <td>1948000</td>\n",
       "      <td>55</td>\n",
       "      <td>1</td>\n",
       "      <td>1</td>\n",
       "      <td>23</td>\n",
       "      <td>23.0</td>\n",
       "      <td>1227</td>\n",
       "      <td>7.6</td>\n",
       "      <td>0.55</td>\n",
       "      <td>145000000</td>\n",
       "    </tr>\n",
       "    <tr>\n",
       "      <th>1</th>\n",
       "      <td>809000</td>\n",
       "      <td>59</td>\n",
       "      <td>1</td>\n",
       "      <td>2</td>\n",
       "      <td>38</td>\n",
       "      <td>0.5</td>\n",
       "      <td>19196</td>\n",
       "      <td>0.4</td>\n",
       "      <td>0.01</td>\n",
       "      <td>505000000</td>\n",
       "    </tr>\n",
       "    <tr>\n",
       "      <th>2</th>\n",
       "      <td>721000</td>\n",
       "      <td>53</td>\n",
       "      <td>2</td>\n",
       "      <td>1</td>\n",
       "      <td>26</td>\n",
       "      <td>0.5</td>\n",
       "      <td>839</td>\n",
       "      <td>1.5</td>\n",
       "      <td>0.10</td>\n",
       "      <td>-60000000</td>\n",
       "    </tr>\n",
       "    <tr>\n",
       "      <th>3</th>\n",
       "      <td>2027000</td>\n",
       "      <td>62</td>\n",
       "      <td>2</td>\n",
       "      <td>2</td>\n",
       "      <td>25</td>\n",
       "      <td>5.0</td>\n",
       "      <td>8379</td>\n",
       "      <td>3.4</td>\n",
       "      <td>0.04</td>\n",
       "      <td>806000000</td>\n",
       "    </tr>\n",
       "    <tr>\n",
       "      <th>4</th>\n",
       "      <td>2094000</td>\n",
       "      <td>63</td>\n",
       "      <td>1</td>\n",
       "      <td>3</td>\n",
       "      <td>41</td>\n",
       "      <td>8.0</td>\n",
       "      <td>10818</td>\n",
       "      <td>5.9</td>\n",
       "      <td>0.04</td>\n",
       "      <td>1166000000</td>\n",
       "    </tr>\n",
       "  </tbody>\n",
       "</table>\n",
       "</div>"
      ],
      "text/plain": [
       "      COMP  AGE  EDUCATN  BACKGRD  TENURE  EXPER  SALES  VAL  PCNTOWN  \\\n",
       "0  1948000   55        1        1      23   23.0   1227  7.6     0.55   \n",
       "1   809000   59        1        2      38    0.5  19196  0.4     0.01   \n",
       "2   721000   53        2        1      26    0.5    839  1.5     0.10   \n",
       "3  2027000   62        2        2      25    5.0   8379  3.4     0.04   \n",
       "4  2094000   63        1        3      41    8.0  10818  5.9     0.04   \n",
       "\n",
       "         PROF  \n",
       "0   145000000  \n",
       "1   505000000  \n",
       "2   -60000000  \n",
       "3   806000000  \n",
       "4  1166000000  "
      ]
     },
     "execution_count": 13,
     "metadata": {},
     "output_type": "execute_result"
    }
   ],
   "source": [
    "df=df.drop(labels=[\"COMPANY\",\"BIRTH\"], axis=1)\n",
    "df.head()"
   ]
  },
  {
   "cell_type": "markdown",
   "metadata": {},
   "source": [
    "## <a id='ref3'></a> Data Exploration "
   ]
  },
  {
   "cell_type": "code",
   "execution_count": 14,
   "metadata": {
    "collapsed": true
   },
   "outputs": [],
   "source": [
    "import seaborn as sns"
   ]
  },
  {
   "cell_type": "markdown",
   "metadata": {},
   "source": [
    " Let’s examine the distribution of the data:  \n"
   ]
  },
  {
   "cell_type": "code",
   "execution_count": 15,
   "metadata": {
    "collapsed": false
   },
   "outputs": [
    {
     "data": {
      "image/png": "[encoded data removed]",
      "text/plain": [
       "<matplotlib.figure.Figure at 0x114219f60>"
      ]
     },
     "metadata": {},
     "output_type": "display_data"
    }
   ],
   "source": [
    "df.hist(bins=10, figsize=(20,15))\n",
    "plt.show()"
   ]
  },
  {
   "cell_type": "markdown",
   "metadata": {},
   "source": [
    "We can view the correlation between the variables;"
   ]
  },
  {
   "cell_type": "code",
   "execution_count": 16,
   "metadata": {
    "collapsed": false
   },
   "outputs": [
    {
     "data": {
      "text/html": [
       "<div>\n",
       "<style>\n",
       "    .dataframe thead tr:only-child th {\n",
       "        text-align: right;\n",
       "    }\n",
       "\n",
       "    .dataframe thead th {\n",
       "        text-align: left;\n",
       "    }\n",
       "\n",
       "    .dataframe tbody tr th {\n",
       "        vertical-align: top;\n",
       "    }\n",
       "</style>\n",
       "<table border=\"1\" class=\"dataframe\">\n",
       "  <thead>\n",
       "    <tr style=\"text-align: right;\">\n",
       "      <th></th>\n",
       "      <th>COMP</th>\n",
       "      <th>AGE</th>\n",
       "      <th>EDUCATN</th>\n",
       "      <th>BACKGRD</th>\n",
       "      <th>TENURE</th>\n",
       "      <th>EXPER</th>\n",
       "      <th>SALES</th>\n",
       "      <th>VAL</th>\n",
       "      <th>PCNTOWN</th>\n",
       "      <th>PROF</th>\n",
       "    </tr>\n",
       "  </thead>\n",
       "  <tbody>\n",
       "    <tr>\n",
       "      <th>COMP</th>\n",
       "      <td>1.000000</td>\n",
       "      <td>0.151334</td>\n",
       "      <td>-0.295490</td>\n",
       "      <td>-0.173020</td>\n",
       "      <td>0.217544</td>\n",
       "      <td>0.226651</td>\n",
       "      <td>0.374019</td>\n",
       "      <td>0.029302</td>\n",
       "      <td>-0.124839</td>\n",
       "      <td>0.374252</td>\n",
       "    </tr>\n",
       "    <tr>\n",
       "      <th>AGE</th>\n",
       "      <td>0.151334</td>\n",
       "      <td>1.000000</td>\n",
       "      <td>-0.237858</td>\n",
       "      <td>-0.122762</td>\n",
       "      <td>0.407107</td>\n",
       "      <td>0.408289</td>\n",
       "      <td>0.086256</td>\n",
       "      <td>-0.056541</td>\n",
       "      <td>-0.059366</td>\n",
       "      <td>0.129604</td>\n",
       "    </tr>\n",
       "    <tr>\n",
       "      <th>EDUCATN</th>\n",
       "      <td>-0.295490</td>\n",
       "      <td>-0.237858</td>\n",
       "      <td>1.000000</td>\n",
       "      <td>-0.010931</td>\n",
       "      <td>-0.264988</td>\n",
       "      <td>-0.233950</td>\n",
       "      <td>-0.110699</td>\n",
       "      <td>-0.095065</td>\n",
       "      <td>-0.242444</td>\n",
       "      <td>-0.090791</td>\n",
       "    </tr>\n",
       "    <tr>\n",
       "      <th>BACKGRD</th>\n",
       "      <td>-0.173020</td>\n",
       "      <td>-0.122762</td>\n",
       "      <td>-0.010931</td>\n",
       "      <td>1.000000</td>\n",
       "      <td>-0.106664</td>\n",
       "      <td>0.062831</td>\n",
       "      <td>-0.080802</td>\n",
       "      <td>0.188867</td>\n",
       "      <td>0.253175</td>\n",
       "      <td>-0.189782</td>\n",
       "    </tr>\n",
       "    <tr>\n",
       "      <th>TENURE</th>\n",
       "      <td>0.217544</td>\n",
       "      <td>0.407107</td>\n",
       "      <td>-0.264988</td>\n",
       "      <td>-0.106664</td>\n",
       "      <td>1.000000</td>\n",
       "      <td>0.391971</td>\n",
       "      <td>0.282398</td>\n",
       "      <td>0.064759</td>\n",
       "      <td>0.142685</td>\n",
       "      <td>0.279963</td>\n",
       "    </tr>\n",
       "    <tr>\n",
       "      <th>EXPER</th>\n",
       "      <td>0.226651</td>\n",
       "      <td>0.408289</td>\n",
       "      <td>-0.233950</td>\n",
       "      <td>0.062831</td>\n",
       "      <td>0.391971</td>\n",
       "      <td>1.000000</td>\n",
       "      <td>-0.071970</td>\n",
       "      <td>0.297009</td>\n",
       "      <td>0.338720</td>\n",
       "      <td>0.076616</td>\n",
       "    </tr>\n",
       "    <tr>\n",
       "      <th>SALES</th>\n",
       "      <td>0.374019</td>\n",
       "      <td>0.086256</td>\n",
       "      <td>-0.110699</td>\n",
       "      <td>-0.080802</td>\n",
       "      <td>0.282398</td>\n",
       "      <td>-0.071970</td>\n",
       "      <td>1.000000</td>\n",
       "      <td>-0.013182</td>\n",
       "      <td>-0.129747</td>\n",
       "      <td>0.395860</td>\n",
       "    </tr>\n",
       "    <tr>\n",
       "      <th>VAL</th>\n",
       "      <td>0.029302</td>\n",
       "      <td>-0.056541</td>\n",
       "      <td>-0.095065</td>\n",
       "      <td>0.188867</td>\n",
       "      <td>0.064759</td>\n",
       "      <td>0.297009</td>\n",
       "      <td>-0.013182</td>\n",
       "      <td>1.000000</td>\n",
       "      <td>0.782573</td>\n",
       "      <td>0.094131</td>\n",
       "    </tr>\n",
       "    <tr>\n",
       "      <th>PCNTOWN</th>\n",
       "      <td>-0.124839</td>\n",
       "      <td>-0.059366</td>\n",
       "      <td>-0.242444</td>\n",
       "      <td>0.253175</td>\n",
       "      <td>0.142685</td>\n",
       "      <td>0.338720</td>\n",
       "      <td>-0.129747</td>\n",
       "      <td>0.782573</td>\n",
       "      <td>1.000000</td>\n",
       "      <td>-0.047327</td>\n",
       "    </tr>\n",
       "    <tr>\n",
       "      <th>PROF</th>\n",
       "      <td>0.374252</td>\n",
       "      <td>0.129604</td>\n",
       "      <td>-0.090791</td>\n",
       "      <td>-0.189782</td>\n",
       "      <td>0.279963</td>\n",
       "      <td>0.076616</td>\n",
       "      <td>0.395860</td>\n",
       "      <td>0.094131</td>\n",
       "      <td>-0.047327</td>\n",
       "      <td>1.000000</td>\n",
       "    </tr>\n",
       "  </tbody>\n",
       "</table>\n",
       "</div>"
      ],
      "text/plain": [
       "             COMP       AGE   EDUCATN   BACKGRD    TENURE     EXPER     SALES  \\\n",
       "COMP     1.000000  0.151334 -0.295490 -0.173020  0.217544  0.226651  0.374019   \n",
       "AGE      0.151334  1.000000 -0.237858 -0.122762  0.407107  0.408289  0.086256   \n",
       "EDUCATN -0.295490 -0.237858  1.000000 -0.010931 -0.264988 -0.233950 -0.110699   \n",
       "BACKGRD -0.173020 -0.122762 -0.010931  1.000000 -0.106664  0.062831 -0.080802   \n",
       "TENURE   0.217544  0.407107 -0.264988 -0.106664  1.000000  0.391971  0.282398   \n",
       "EXPER    0.226651  0.408289 -0.233950  0.062831  0.391971  1.000000 -0.071970   \n",
       "SALES    0.374019  0.086256 -0.110699 -0.080802  0.282398 -0.071970  1.000000   \n",
       "VAL      0.029302 -0.056541 -0.095065  0.188867  0.064759  0.297009 -0.013182   \n",
       "PCNTOWN -0.124839 -0.059366 -0.242444  0.253175  0.142685  0.338720 -0.129747   \n",
       "PROF     0.374252  0.129604 -0.090791 -0.189782  0.279963  0.076616  0.395860   \n",
       "\n",
       "              VAL   PCNTOWN      PROF  \n",
       "COMP     0.029302 -0.124839  0.374252  \n",
       "AGE     -0.056541 -0.059366  0.129604  \n",
       "EDUCATN -0.095065 -0.242444 -0.090791  \n",
       "BACKGRD  0.188867  0.253175 -0.189782  \n",
       "TENURE   0.064759  0.142685  0.279963  \n",
       "EXPER    0.297009  0.338720  0.076616  \n",
       "SALES   -0.013182 -0.129747  0.395860  \n",
       "VAL      1.000000  0.782573  0.094131  \n",
       "PCNTOWN  0.782573  1.000000 -0.047327  \n",
       "PROF     0.094131 -0.047327  1.000000  "
      ]
     },
     "execution_count": 16,
     "metadata": {},
     "output_type": "execute_result"
    }
   ],
   "source": [
    "corr=df.corr()\n",
    "corr"
   ]
  },
  {
   "cell_type": "markdown",
   "metadata": {},
   "source": [
    "Let us view the correlation with a heat map:"
   ]
  },
  {
   "cell_type": "code",
   "execution_count": 17,
   "metadata": {
    "collapsed": false
   },
   "outputs": [
    {
     "data": {
      "image/png": "[encoded data removed]",
      "text/plain": [
       "<matplotlib.figure.Figure at 0x1145a7e10>"
      ]
     },
     "metadata": {},
     "output_type": "display_data"
    }
   ],
   "source": [
    "fig, ax = plt.subplots()\n",
    "fig.set_size_inches(11.7, 8.27)\n",
    "sns.heatmap(corr, mask=np.zeros_like(corr, dtype=np.bool), cmap=sns.diverging_palette(220, 10, as_cmap=True),square=True)\n",
    "plt.show()"
   ]
  },
  {
   "cell_type": "markdown",
   "metadata": {},
   "source": [
    "### <a id='ref4'></a> Creating a Model \n"
   ]
  },
  {
   "cell_type": "markdown",
   "metadata": {},
   "source": [
    " We will need the following modules to build and test the model: "
   ]
  },
  {
   "cell_type": "code",
   "execution_count": 18,
   "metadata": {
    "collapsed": true
   },
   "outputs": [],
   "source": [
    "from sklearn.model_selection import train_test_split\n",
    "from sklearn import linear_model"
   ]
  },
  {
   "cell_type": "markdown",
   "metadata": {},
   "source": [
    " Let’s create a linear regression object:  \n"
   ]
  },
  {
   "cell_type": "code",
   "execution_count": 19,
   "metadata": {
    "collapsed": true
   },
   "outputs": [],
   "source": [
    "lr = linear_model.LinearRegression(normalize=True)"
   ]
  },
  {
   "cell_type": "markdown",
   "metadata": {},
   "source": [
    "We extract the target data:"
   ]
  },
  {
   "cell_type": "code",
   "execution_count": 20,
   "metadata": {
    "collapsed": true
   },
   "outputs": [],
   "source": [
    "y=df[[\"COMP\"]]"
   ]
  },
  {
   "cell_type": "code",
   "execution_count": 21,
   "metadata": {
    "collapsed": false
   },
   "outputs": [],
   "source": [
    "X=df.drop(labels=\"COMP\", axis=1)"
   ]
  },
  {
   "cell_type": "markdown",
   "metadata": {},
   "source": [
    "We split the data into a training and testing set: "
   ]
  },
  {
   "cell_type": "code",
   "execution_count": 22,
   "metadata": {
    "collapsed": false
   },
   "outputs": [],
   "source": [
    "X_train, X_test, y_train,y_test = train_test_split(X, y, test_size=0.33,random_state=0)"
   ]
  },
  {
   "cell_type": "markdown",
   "metadata": {},
   "source": [
    "We can fit the model and calculate the R^2:"
   ]
  },
  {
   "cell_type": "code",
   "execution_count": 23,
   "metadata": {
    "collapsed": false
   },
   "outputs": [
    {
     "data": {
      "text/plain": [
       "0.05390979388924578"
      ]
     },
     "execution_count": 23,
     "metadata": {},
     "output_type": "execute_result"
    }
   ],
   "source": [
    "lr.fit(X_train[[\"PROF\"]],y_train)\n",
    "lr.score(X_test[[\"PROF\"]], y_test)"
   ]
  },
  {
   "cell_type": "markdown",
   "metadata": {},
   "source": [
    "We can make a prediction:"
   ]
  },
  {
   "cell_type": "code",
   "execution_count": 24,
   "metadata": {
    "collapsed": false
   },
   "outputs": [
    {
     "data": {
      "text/plain": [
       "array([[1032847.54697765],\n",
       "       [1018699.47908082],\n",
       "       [ 962814.61088836],\n",
       "       [1043812.29959769],\n",
       "       [1025773.51302924]])"
      ]
     },
     "execution_count": 24,
     "metadata": {},
     "output_type": "execute_result"
    }
   ],
   "source": [
    "yhat=lr.predict(X_test[['PROF']])\n",
    "yhat[0:5]"
   ]
  },
  {
   "cell_type": "markdown",
   "metadata": {},
   "source": [
    " We can find the intercept and the coefficient: "
   ]
  },
  {
   "cell_type": "code",
   "execution_count": 25,
   "metadata": {
    "collapsed": false
   },
   "outputs": [
    {
     "data": {
      "text/plain": [
       "array([984036.7127336])"
      ]
     },
     "execution_count": 25,
     "metadata": {},
     "output_type": "execute_result"
    }
   ],
   "source": [
    "lr.intercept_"
   ]
  },
  {
   "cell_type": "code",
   "execution_count": 26,
   "metadata": {
    "collapsed": false
   },
   "outputs": [
    {
     "data": {
      "text/plain": [
       "array([[0.0003537]])"
      ]
     },
     "execution_count": 26,
     "metadata": {},
     "output_type": "execute_result"
    }
   ],
   "source": [
    "lr.coef_"
   ]
  },
  {
   "cell_type": "markdown",
   "metadata": {},
   "source": [
    "We can calculate the R^2 for every feature:   "
   ]
  },
  {
   "cell_type": "code",
   "execution_count": 27,
   "metadata": {
    "collapsed": false
   },
   "outputs": [],
   "source": [
    "Feature_Name=[]\n",
    "Feature_Rsq=[]\n",
    "\n",
    "for name in list(X):\n",
    "    lr.fit(X_train[[name]], y_train)\n",
    "    lr.score(X_test[[name]], y_test)\n",
    "    Feature_Rsq.append(lr.score(X_test[[name]], y_test))"
   ]
  },
  {
   "cell_type": "markdown",
   "metadata": {},
   "source": [
    "The following plot shows correlation and R^2  for the different features. We see a larger correlation implies a larger R^2.      \n"
   ]
  },
  {
   "cell_type": "code",
   "execution_count": 28,
   "metadata": {
    "collapsed": false
   },
   "outputs": [
    {
     "name": "stderr",
     "output_type": "stream",
     "text": [
      "/Users/bulent/anaconda3/lib/python3.6/site-packages/ipykernel_launcher.py:6: DeprecationWarning: \n",
      ".ix is deprecated. Please use\n",
      ".loc for label based indexing or\n",
      ".iloc for positional indexing\n",
      "\n",
      "See the documentation here:\n",
      "http://pandas.pydata.org/pandas-docs/stable/indexing.html#ix-indexer-is-deprecated\n",
      "  \n"
     ]
    },
    {
     "data": {
      "image/png": "[encoded data removed]",
      "text/plain": [
       "<matplotlib.figure.Figure at 0x1142d65f8>"
      ]
     },
     "metadata": {},
     "output_type": "display_data"
    }
   ],
   "source": [
    "x_ax=np.arange(len(list(X)))\n",
    "x_ax\n",
    "\n",
    "plt.figure(figsize=(20,10))\n",
    "\n",
    "plt.bar(x_ax, np.abs(corr.ix['COMP',1:].values), align='center', alpha=0.5,label='absolute value of correlation ')\n",
    "plt.bar(x_ax, Feature_Rsq, align='center',label='R^2')\n",
    "plt.xticks(x_ax, list(X))\n",
    "\n",
    "plt.legend()\n",
    "\n",
    "plt.title('Correlation vs R^2 of individual variables')\n",
    "plt.show()"
   ]
  },
  {
   "cell_type": "markdown",
   "metadata": {},
   "source": [
    " We can use multiple linear regression as well. This leads to a higher R^2."
   ]
  },
  {
   "cell_type": "markdown",
   "metadata": {},
   "source": [
    "## Multiple Linear Regression"
   ]
  },
  {
   "cell_type": "markdown",
   "metadata": {},
   "source": [
    " We can also use multiple linear regression, the R^2 is approximately 0.155."
   ]
  },
  {
   "cell_type": "code",
   "execution_count": 31,
   "metadata": {
    "collapsed": false
   },
   "outputs": [
    {
     "data": {
      "text/plain": [
       "0.15481178748651514"
      ]
     },
     "execution_count": 31,
     "metadata": {},
     "output_type": "execute_result"
    }
   ],
   "source": [
    "lr.fit(X_train, y_train)\n",
    "lr.score(X_test, y_test)"
   ]
  },
  {
   "cell_type": "markdown",
   "metadata": {},
   "source": [
    " We can make a prediction:"
   ]
  },
  {
   "cell_type": "code",
   "execution_count": 32,
   "metadata": {
    "collapsed": false
   },
   "outputs": [
    {
     "data": {
      "text/plain": [
       "array([[ 562458.34472309],\n",
       "       [ 749644.13998889],\n",
       "       [ 499093.87868935],\n",
       "       [1035118.30347602],\n",
       "       [1643937.05383063]])"
      ]
     },
     "execution_count": 32,
     "metadata": {},
     "output_type": "execute_result"
    }
   ],
   "source": [
    "yhat=lr.predict(X_test)\n",
    "yhat[0:5]"
   ]
  },
  {
   "cell_type": "markdown",
   "metadata": {},
   "source": [
    "## Polynomial Features"
   ]
  },
  {
   "cell_type": "markdown",
   "metadata": {},
   "source": [
    " We can use Polynomial Features, the function has the form:"
   ]
  },
  {
   "cell_type": "markdown",
   "metadata": {},
   "source": [
    " \\begin{equation*}\n",
    "yhat = a + b_1 X_1 +b_2 X_2 +b_3 X_1 X_2+b_4 X_1^2+b_5 X_2^2\n",
    "\\end{equation*}"
   ]
  },
  {
   "cell_type": "markdown",
   "metadata": {},
   "source": [
    "We import **PolynomialFeatures**  from the module **preprocessing**:"
   ]
  },
  {
   "cell_type": "code",
   "execution_count": 33,
   "metadata": {
    "collapsed": true
   },
   "outputs": [],
   "source": [
    "from sklearn.preprocessing import PolynomialFeatures"
   ]
  },
  {
   "cell_type": "markdown",
   "metadata": {},
   "source": [
    " We create a polynomial features object:\n"
   ]
  },
  {
   "cell_type": "code",
   "execution_count": 34,
   "metadata": {
    "collapsed": false
   },
   "outputs": [
    {
     "data": {
      "text/plain": [
       "PolynomialFeatures(degree=2, include_bias=True, interaction_only=False)"
      ]
     },
     "execution_count": 34,
     "metadata": {},
     "output_type": "execute_result"
    }
   ],
   "source": [
    "pr=PolynomialFeatures(degree=2)\n",
    "pr"
   ]
  },
  {
   "cell_type": "markdown",
   "metadata": {},
   "source": [
    "We transform the data:"
   ]
  },
  {
   "cell_type": "code",
   "execution_count": 35,
   "metadata": {
    "collapsed": false
   },
   "outputs": [],
   "source": [
    "Z_test=pr.fit_transform(X_test)\n",
    "Z_train=pr.fit_transform(X_train)"
   ]
  },
  {
   "cell_type": "markdown",
   "metadata": {},
   "source": [
    " We can fit the model and calculate the R^2:"
   ]
  },
  {
   "cell_type": "code",
   "execution_count": 36,
   "metadata": {
    "collapsed": false
   },
   "outputs": [
    {
     "data": {
      "text/plain": [
       "-108.39278589280669"
      ]
     },
     "execution_count": 36,
     "metadata": {},
     "output_type": "execute_result"
    }
   ],
   "source": [
    "lr.fit(Z_train, y_train)\n",
    "lr.score(Z_test, y_test)"
   ]
  },
  {
   "cell_type": "markdown",
   "metadata": {},
   "source": [
    " We can make a prediction:\n"
   ]
  },
  {
   "cell_type": "code",
   "execution_count": 37,
   "metadata": {
    "collapsed": false
   },
   "outputs": [
    {
     "data": {
      "text/plain": [
       "array([[  691200.],\n",
       "       [-1237248.],\n",
       "       [  397568.],\n",
       "       [ 1284352.]])"
      ]
     },
     "execution_count": 37,
     "metadata": {},
     "output_type": "execute_result"
    }
   ],
   "source": [
    "yhat=lr.predict(Z_test)\n",
    "yhat[0:4]"
   ]
  },
  {
   "cell_type": "markdown",
   "metadata": {},
   "source": [
    "We see a negative R^2, this implies overfitting, we can use Ridge Regression to help remedy this.\n"
   ]
  },
  {
   "cell_type": "markdown",
   "metadata": {},
   "source": [
    "## Ridge Regression"
   ]
  },
  {
   "cell_type": "markdown",
   "metadata": {},
   "source": [
    " We import ** Ridge** from the module **linear_model**:"
   ]
  },
  {
   "cell_type": "code",
   "execution_count": 38,
   "metadata": {
    "collapsed": true
   },
   "outputs": [],
   "source": [
    "from sklearn.linear_model import Ridge"
   ]
  },
  {
   "cell_type": "markdown",
   "metadata": {},
   "source": [
    " We create a Ridge Regression object and fit the model:"
   ]
  },
  {
   "cell_type": "code",
   "execution_count": 39,
   "metadata": {
    "collapsed": false
   },
   "outputs": [
    {
     "data": {
      "text/plain": [
       "Ridge(alpha=0.1, copy_X=True, fit_intercept=True, max_iter=None,\n",
       "   normalize=True, random_state=None, solver='auto', tol=0.001)"
      ]
     },
     "execution_count": 39,
     "metadata": {},
     "output_type": "execute_result"
    }
   ],
   "source": [
    "rr = Ridge(alpha=0.1,normalize=True)\n",
    "rr.fit(X, y)"
   ]
  },
  {
   "cell_type": "markdown",
   "metadata": {},
   "source": [
    " We calculate the R^2:"
   ]
  },
  {
   "cell_type": "code",
   "execution_count": 40,
   "metadata": {
    "collapsed": false
   },
   "outputs": [
    {
     "data": {
      "text/plain": [
       "0.3405548258895231"
      ]
     },
     "execution_count": 40,
     "metadata": {},
     "output_type": "execute_result"
    }
   ],
   "source": [
    "\n",
    "rr.score(X_test, y_test)"
   ]
  },
  {
   "cell_type": "markdown",
   "metadata": {},
   "source": [
    "We test the R^2  for different Alpha: "
   ]
  },
  {
   "cell_type": "code",
   "execution_count": 41,
   "metadata": {
    "collapsed": false
   },
   "outputs": [
    {
     "name": "stdout",
     "output_type": "stream",
     "text": [
      "0.15467618605519184\n",
      "0.15467618605519184\n",
      "0.15349326092243554\n",
      "0.1439430098716279\n",
      "0.08561448674277528\n"
     ]
    }
   ],
   "source": [
    "Alpha=[0.001, 0.001,0.01,0.1,1]\n",
    "Rsq_ridge=[]\n",
    "for a in Alpha:\n",
    "    rr = Ridge(alpha=a,normalize=True)\n",
    "    rr.fit(X_train, y_train)\n",
    "    print(rr.score(X_test, y_test))\n",
    "    Rsq_ridge.append(rr.score(X_test, y_test))"
   ]
  },
  {
   "cell_type": "markdown",
   "metadata": {},
   "source": [
    "The max R^2 is 0.155,  we can plot out the R^2:"
   ]
  },
  {
   "cell_type": "code",
   "execution_count": 42,
   "metadata": {
    "collapsed": false
   },
   "outputs": [
    {
     "data": {
      "image/png": "[encoded data removed]",
      "text/plain": [
       "<matplotlib.figure.Figure at 0x114411ac8>"
      ]
     },
     "metadata": {},
     "output_type": "display_data"
    }
   ],
   "source": [
    "plt.plot(Alpha,Rsq_ridge)\n",
    "plt.xlabel('Alpha')\n",
    "plt.ylabel('R^2')\n",
    "plt.show()"
   ]
  },
  {
   "cell_type": "markdown",
   "metadata": {},
   "source": [
    " We can perform the same set of operations with polynomial features:  \n"
   ]
  },
  {
   "cell_type": "code",
   "execution_count": 43,
   "metadata": {
    "collapsed": false
   },
   "outputs": [],
   "source": [
    "Rsq_ridge_poly=[]\n",
    "\n",
    "for a in Alpha:\n",
    "    clf = Ridge(alpha=a,normalize=True)\n",
    "    clf.fit(Z_train, y_train)\n",
    "\n",
    "    Rsq_ridge_poly.append(clf.score(Z_test, y_test))"
   ]
  },
  {
   "cell_type": "markdown",
   "metadata": {},
   "source": [
    " We can plot out the R^2 for different values of Alpha: "
   ]
  },
  {
   "cell_type": "code",
   "execution_count": 44,
   "metadata": {
    "collapsed": false
   },
   "outputs": [
    {
     "data": {
      "image/png": "[encoded data removed]",
      "text/plain": [
       "<matplotlib.figure.Figure at 0x1142e0160>"
      ]
     },
     "metadata": {},
     "output_type": "display_data"
    }
   ],
   "source": [
    "plt.plot(Alpha,Rsq_ridge_poly)\n",
    "plt.xlabel('Alpha')\n",
    "plt.ylabel('R^2')\n",
    "plt.show()"
   ]
  },
  {
   "cell_type": "markdown",
   "metadata": {},
   "source": [
    " The max value of R^2 is approximately 0.33:"
   ]
  },
  {
   "cell_type": "code",
   "execution_count": 45,
   "metadata": {
    "collapsed": false
   },
   "outputs": [
    {
     "data": {
      "text/plain": [
       "0.3294061367808033"
      ]
     },
     "execution_count": 45,
     "metadata": {},
     "output_type": "execute_result"
    }
   ],
   "source": [
    "max(Rsq_ridge_poly)"
   ]
  },
  {
   "cell_type": "markdown",
   "metadata": {},
   "source": [
    "#### About the Authors:  \n",
    "\n",
    "[Joseph Santarcangelo]( https://www.linkedin.com/in/joseph-s-50398b136/) has a PhD in Electrical Engineering, his research focused on using machine learning, signal processing, and computer vision to determine how videos impact human cognition. Joseph has been working for IBM since he completed his PhD."
   ]
  }
 ],
 "metadata": {
  "kernelspec": {
   "display_name": "Python 3",
   "language": "python",
   "name": "python3"
  },
  "language_info": {
   "codemirror_mode": {
    "name": "ipython",
    "version": 3
   },
   "file_extension": ".py",
   "mimetype": "text/x-python",
   "name": "python",
   "nbconvert_exporter": "python",
   "pygments_lexer": "ipython3",
   "version": "3.6.4"
  }
 },
 "nbformat": 4,
 "nbformat_minor": 2
}
