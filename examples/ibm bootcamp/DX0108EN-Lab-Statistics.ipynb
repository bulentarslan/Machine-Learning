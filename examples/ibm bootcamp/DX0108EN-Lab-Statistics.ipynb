{
 "cells": [
  {
   "cell_type": "markdown",
   "metadata": {},
   "source": [
    "<img src = https://ibm.box.com/shared/static/ugcqz6ohbvff804xp84y4kqnvvk3bq1g.png width = 200>"
   ]
  },
  {
   "cell_type": "markdown",
   "metadata": {},
   "source": [
    "<div>\n",
    "## <center> Statistics in Python"
   ]
  },
  {
   "cell_type": "code",
   "execution_count": 1,
   "metadata": {
    "collapsed": true
   },
   "outputs": [],
   "source": [
    "import matplotlib.pyplot as plt\n",
    "import numpy as np\n",
    "%matplotlib inline"
   ]
  },
  {
   "cell_type": "code",
   "execution_count": 2,
   "metadata": {
    "collapsed": false
   },
   "outputs": [
    {
     "data": {
      "text/html": [
       "\n",
       "<iframe height=\"600\" allowTransparency=\"true\" frameborder=\"0\" scrolling=\"no\" style=\"width:100%;border:none\"  src=\"https://bigdatamaven.wufoo.eu/embed/x1oara2h0aeawsv/\"><a href=\"https://bigdatamaven.wufoo.com/forms/x1oara2h0aeawsv/\">Fill out my Wufoo form!</a></iframe>\n"
      ],
      "text/plain": [
       "<IPython.core.display.HTML object>"
      ]
     },
     "metadata": {},
     "output_type": "display_data"
    }
   ],
   "source": [
    "from IPython.display import display, HTML\n",
    "page = '''\n",
    "<iframe height=\"600\" allowTransparency=\"true\" frameborder=\"0\" scrolling=\"no\" style=\"width:100%;border:none\"  src=\"https://bigdatamaven.wufoo.eu/embed/x1oara2h0aeawsv/\"><a href=\"https://bigdatamaven.wufoo.com/forms/x1oara2h0aeawsv/\">Fill out my Wufoo form!</a></iframe>\n",
    "'''\n",
    "display(HTML(page))"
   ]
  },
  {
   "cell_type": "markdown",
   "metadata": {},
   "source": [
    "### Analyze results"
   ]
  },
  {
   "cell_type": "markdown",
   "metadata": {},
   "source": [
    "Data import & cleaning"
   ]
  },
  {
   "cell_type": "code",
   "execution_count": 3,
   "metadata": {
    "collapsed": false
   },
   "outputs": [
    {
     "data": {
      "text/html": [
       "<div>\n",
       "<style>\n",
       "    .dataframe thead tr:only-child th {\n",
       "        text-align: right;\n",
       "    }\n",
       "\n",
       "    .dataframe thead th {\n",
       "        text-align: left;\n",
       "    }\n",
       "\n",
       "    .dataframe tbody tr th {\n",
       "        vertical-align: top;\n",
       "    }\n",
       "</style>\n",
       "<table border=\"1\" class=\"dataframe\">\n",
       "  <thead>\n",
       "    <tr style=\"text-align: right;\">\n",
       "      <th></th>\n",
       "      <th>ID</th>\n",
       "      <th>ROOM</th>\n",
       "      <th>AGE</th>\n",
       "      <th>GENDER</th>\n",
       "      <th>DEGREE</th>\n",
       "      <th>EDUYEARS</th>\n",
       "      <th>PICK1TO10</th>\n",
       "      <th>PICK10TO1</th>\n",
       "      <th>EXP_PY</th>\n",
       "      <th>EXP_ST</th>\n",
       "      <th>EXP_ML</th>\n",
       "      <th>EXP_BD</th>\n",
       "      <th>EXP_DL</th>\n",
       "      <th>RECALL</th>\n",
       "      <th>PARISROME3</th>\n",
       "      <th>PARISROME2</th>\n",
       "      <th>SNORE</th>\n",
       "      <th>SKY</th>\n",
       "      <th>SLEEP</th>\n",
       "      <th>awake</th>\n",
       "      <th>dream</th>\n",
       "      <th>snore</th>\n",
       "      <th>bed</th>\n",
       "      <th>peace</th>\n",
       "      <th>tired</th>\n",
       "      <th>yawn</th>\n",
       "      <th>sleep</th>\n",
       "      <th>RECALLSCORE</th>\n",
       "    </tr>\n",
       "  </thead>\n",
       "  <tbody>\n",
       "    <tr>\n",
       "      <th>0</th>\n",
       "      <td>34</td>\n",
       "      <td>LEFT SIDE</td>\n",
       "      <td>NaN</td>\n",
       "      <td>NaN</td>\n",
       "      <td>High school degree</td>\n",
       "      <td>15</td>\n",
       "      <td>1.0</td>\n",
       "      <td>NaN</td>\n",
       "      <td>0</td>\n",
       "      <td>0</td>\n",
       "      <td>1</td>\n",
       "      <td>1</td>\n",
       "      <td>1</td>\n",
       "      <td>bed,snore,peace,yawn,sleep,dream</td>\n",
       "      <td>A trip to Paris with free breakfast</td>\n",
       "      <td>NaN</td>\n",
       "      <td>0</td>\n",
       "      <td>0</td>\n",
       "      <td>0</td>\n",
       "      <td>0</td>\n",
       "      <td>1</td>\n",
       "      <td>1</td>\n",
       "      <td>1</td>\n",
       "      <td>1</td>\n",
       "      <td>0</td>\n",
       "      <td>1</td>\n",
       "      <td>1</td>\n",
       "      <td>5</td>\n",
       "    </tr>\n",
       "    <tr>\n",
       "      <th>1</th>\n",
       "      <td>35</td>\n",
       "      <td>LEFT SIDE</td>\n",
       "      <td>55.0</td>\n",
       "      <td>Male</td>\n",
       "      <td>Doctorate degree (PhD, MD)</td>\n",
       "      <td>20</td>\n",
       "      <td>4.0</td>\n",
       "      <td>NaN</td>\n",
       "      <td>1</td>\n",
       "      <td>1</td>\n",
       "      <td>2</td>\n",
       "      <td>2</td>\n",
       "      <td>3</td>\n",
       "      <td>bed,snore</td>\n",
       "      <td>A trip to Rome with free breakfast</td>\n",
       "      <td>NaN</td>\n",
       "      <td>0</td>\n",
       "      <td>0</td>\n",
       "      <td>1</td>\n",
       "      <td>0</td>\n",
       "      <td>0</td>\n",
       "      <td>1</td>\n",
       "      <td>1</td>\n",
       "      <td>0</td>\n",
       "      <td>0</td>\n",
       "      <td>0</td>\n",
       "      <td>0</td>\n",
       "      <td>2</td>\n",
       "    </tr>\n",
       "    <tr>\n",
       "      <th>2</th>\n",
       "      <td>36</td>\n",
       "      <td>LEFT SIDE</td>\n",
       "      <td>34.0</td>\n",
       "      <td>Female</td>\n",
       "      <td>Doctorate degree (PhD, MD)</td>\n",
       "      <td>22</td>\n",
       "      <td>5.0</td>\n",
       "      <td>NaN</td>\n",
       "      <td>1</td>\n",
       "      <td>2</td>\n",
       "      <td>1</td>\n",
       "      <td>1</td>\n",
       "      <td>1</td>\n",
       "      <td>bed,snore,sleep,dream,awake,yawn,tired,snore</td>\n",
       "      <td>A trip to Paris with free breakfast</td>\n",
       "      <td>NaN</td>\n",
       "      <td>1</td>\n",
       "      <td>1</td>\n",
       "      <td>0</td>\n",
       "      <td>1</td>\n",
       "      <td>1</td>\n",
       "      <td>1</td>\n",
       "      <td>1</td>\n",
       "      <td>0</td>\n",
       "      <td>1</td>\n",
       "      <td>1</td>\n",
       "      <td>1</td>\n",
       "      <td>6</td>\n",
       "    </tr>\n",
       "    <tr>\n",
       "      <th>3</th>\n",
       "      <td>37</td>\n",
       "      <td>RIGHT SIDE</td>\n",
       "      <td>55.0</td>\n",
       "      <td>Female</td>\n",
       "      <td>Doctorate degree (PhD, MD)</td>\n",
       "      <td>24</td>\n",
       "      <td>NaN</td>\n",
       "      <td>8.0</td>\n",
       "      <td>0</td>\n",
       "      <td>1</td>\n",
       "      <td>1</td>\n",
       "      <td>2</td>\n",
       "      <td>2</td>\n",
       "      <td>snore</td>\n",
       "      <td>NaN</td>\n",
       "      <td>A trip to Paris with free breakfast</td>\n",
       "      <td>0</td>\n",
       "      <td>1</td>\n",
       "      <td>0</td>\n",
       "      <td>0</td>\n",
       "      <td>0</td>\n",
       "      <td>1</td>\n",
       "      <td>0</td>\n",
       "      <td>0</td>\n",
       "      <td>0</td>\n",
       "      <td>0</td>\n",
       "      <td>0</td>\n",
       "      <td>1</td>\n",
       "    </tr>\n",
       "    <tr>\n",
       "      <th>4</th>\n",
       "      <td>38</td>\n",
       "      <td>RIGHT SIDE</td>\n",
       "      <td>44.0</td>\n",
       "      <td>Male</td>\n",
       "      <td>Master's or equivalent degree</td>\n",
       "      <td>12</td>\n",
       "      <td>NaN</td>\n",
       "      <td>7.0</td>\n",
       "      <td>1</td>\n",
       "      <td>1</td>\n",
       "      <td>2</td>\n",
       "      <td>0</td>\n",
       "      <td>1</td>\n",
       "      <td>yawn,tired,sleep</td>\n",
       "      <td>NaN</td>\n",
       "      <td>A trip to Rome with free breakfast</td>\n",
       "      <td>1</td>\n",
       "      <td>1</td>\n",
       "      <td>0</td>\n",
       "      <td>0</td>\n",
       "      <td>0</td>\n",
       "      <td>0</td>\n",
       "      <td>0</td>\n",
       "      <td>0</td>\n",
       "      <td>1</td>\n",
       "      <td>1</td>\n",
       "      <td>1</td>\n",
       "      <td>2</td>\n",
       "    </tr>\n",
       "  </tbody>\n",
       "</table>\n",
       "</div>"
      ],
      "text/plain": [
       "   ID        ROOM   AGE  GENDER                         DEGREE  EDUYEARS  \\\n",
       "0  34   LEFT SIDE   NaN     NaN             High school degree        15   \n",
       "1  35   LEFT SIDE  55.0    Male     Doctorate degree (PhD, MD)        20   \n",
       "2  36   LEFT SIDE  34.0  Female     Doctorate degree (PhD, MD)        22   \n",
       "3  37  RIGHT SIDE  55.0  Female     Doctorate degree (PhD, MD)        24   \n",
       "4  38  RIGHT SIDE  44.0    Male  Master's or equivalent degree        12   \n",
       "\n",
       "   PICK1TO10  PICK10TO1  EXP_PY  EXP_ST  EXP_ML  EXP_BD  EXP_DL  \\\n",
       "0        1.0        NaN       0       0       1       1       1   \n",
       "1        4.0        NaN       1       1       2       2       3   \n",
       "2        5.0        NaN       1       2       1       1       1   \n",
       "3        NaN        8.0       0       1       1       2       2   \n",
       "4        NaN        7.0       1       1       2       0       1   \n",
       "\n",
       "                                         RECALL  \\\n",
       "0              bed,snore,peace,yawn,sleep,dream   \n",
       "1                                     bed,snore   \n",
       "2  bed,snore,sleep,dream,awake,yawn,tired,snore   \n",
       "3                                         snore   \n",
       "4                              yawn,tired,sleep   \n",
       "\n",
       "                            PARISROME3                           PARISROME2  \\\n",
       "0  A trip to Paris with free breakfast                                  NaN   \n",
       "1   A trip to Rome with free breakfast                                  NaN   \n",
       "2  A trip to Paris with free breakfast                                  NaN   \n",
       "3                                  NaN  A trip to Paris with free breakfast   \n",
       "4                                  NaN   A trip to Rome with free breakfast   \n",
       "\n",
       "   SNORE  SKY  SLEEP  awake  dream  snore  bed  peace  tired  yawn  sleep  \\\n",
       "0      0    0      0      0      1      1    1      1      0     1      1   \n",
       "1      0    0      1      0      0      1    1      0      0     0      0   \n",
       "2      1    1      0      1      1      1    1      0      1     1      1   \n",
       "3      0    1      0      0      0      1    0      0      0     0      0   \n",
       "4      1    1      0      0      0      0    0      0      1     1      1   \n",
       "\n",
       "   RECALLSCORE  \n",
       "0            5  \n",
       "1            2  \n",
       "2            6  \n",
       "3            1  \n",
       "4            2  "
      ]
     },
     "execution_count": 3,
     "metadata": {},
     "output_type": "execute_result"
    }
   ],
   "source": [
    "import pandas as pd\n",
    "pd.set_option('display.max_columns', None)\n",
    "\n",
    "df = pd.read_csv('https://ibm.box.com/shared/static/0eaja6mux56kb0bjtsestmg5lq5gapaz.csv')\n",
    "\n",
    "#Data Cleaning\n",
    "\n",
    "#Keep completed surveys only\n",
    "df = df[df['Completion Status'] == 1]\n",
    "\n",
    "#Remove irrelevant columns\n",
    "df.drop(['Date Created', 'Created By', 'Last Updated', 'Updated By',\n",
    "       'IP Address', 'Last Page Accessed', 'Completion Status'], 1, inplace=True)\n",
    "\n",
    "#Rename columns\n",
    "df.columns = ['ID','ROOM','AGE','GENDER','DEGREE','EDUYEARS',\n",
    "              'PICK1TO10','PICK10TO1',\n",
    "              'EXP_PY','EXP_ST','EXP_ML','EXP_BD','EXP_DL',\n",
    "              'RECALL',\n",
    "              'PARISROME3','PARISROME2',\n",
    "              'SNORE','SKY','SLEEP']\n",
    "\n",
    "#Codify string responses into numeric values\n",
    "df[['EXP_PY']] = df['EXP_PY'].map({'0 - No experience': 0, \n",
    "                                 '1 - Little experience': 1,\n",
    "                                 '2 - Some experience': 2,\n",
    "                                 '3 - Very experienced': 3\n",
    "                                })\n",
    "df['EXP_ST'] = df['EXP_ST'].map({'0 - No experience': 0, \n",
    "                                 '1 - Little experience': 1,\n",
    "                                 '2 - Some experience': 2,\n",
    "                                 '3 - Very experienced': 3\n",
    "                                })\n",
    "df['EXP_ML'] = df['EXP_ML'].map({'0 - No experience': 0, \n",
    "                                 '1 - Little experience': 1,\n",
    "                                 '2 - Some experience': 2,\n",
    "                                 '3 - Very experienced': 3\n",
    "                                })\n",
    "df['EXP_BD'] = df['EXP_BD'].map({'0 - No experience': 0, \n",
    "                                 '1 - Little experience': 1,\n",
    "                                 '2 - Some experience': 2,\n",
    "                                 '3 - Very experienced': 3\n",
    "                                })\n",
    "df['EXP_DL'] = df['EXP_DL'].map({'0 - No experience': 0, \n",
    "                                 '1 - Little experience': 1,\n",
    "                                 '2 - Some experience': 2,\n",
    "                                 '3 - Very experienced': 3\n",
    "                                })\n",
    "df['SNORE'] = df['SNORE'].map({'No': 0, 'Yes': 1})\n",
    "df['SKY'] = df['SKY'].map({'No': 0, 'Yes': 1})\n",
    "df['SLEEP'] = df['SLEEP'].map({'No': 0, 'Yes': 1})\n",
    "\n",
    "#Dummify each recall word\n",
    "df_dummies = df['RECALL'].str.get_dummies(sep=',') #create a new column for each word\n",
    "memorylist = ['bed',\n",
    "'rest',\n",
    "'awake',\n",
    "'tired',\n",
    "'dream',\n",
    "'wake',\n",
    "'snooze',\n",
    "'blanket',\n",
    "'doze',\n",
    "'slumber',\n",
    "'snore',\n",
    "'nap',\n",
    "'peace',\n",
    "'yawn',\n",
    "'drowsy',\n",
    "'sleep']\n",
    "df_dummies = df_dummies[list(set(memorylist).intersection(df_dummies.columns.values))] #reduce to wordlist items only\n",
    "df_dummies_nosleep = df_dummies.drop('sleep', 1) #remove sleep\n",
    "df_dummies['RECALLSCORE'] = df_dummies_nosleep.sum(axis=1) #get recallscore for non-\"sleep\" word items\n",
    "df = pd.concat([df, df_dummies], axis=1) #concatenate with original df\n",
    "df.head()"
   ]
  },
  {
   "cell_type": "markdown",
   "metadata": {},
   "source": [
    "**ID**: Response ID  \n",
    "**ROOM**: LEFTSIDE or RIGHTSIDE  \n",
    "**AGE**: Age in years, or NaN  \n",
    "**GENDER**: Male, Female, or NaN  \n",
    "**DEGREE**: High School degree, Master's or equivalent degree, or Doctorate degree (PhD, MD)  \n",
    "**EDUYEARS**: Number of years of education  \n",
    "**PICK1TO10**: Number between 1 and 10, chosen from an increasing list starting at 1  \n",
    "**PICK1TO10**: Number between 1 and 10, chosen from a decreasing list starting at 10  \n",
    "**EXP_PY**: Experience with Python from 0 (No Experience) to 3 (Very Experienced)  \n",
    "**EXPT_ST**: Experience with Statistics and Data Analysis from 0 (No Experience) to 3 (Very Experienced)  \n",
    "**EXPT_ML**: Experience with Machine Learning from 0 (No Experience) to 3 (Very Experienced)  \n",
    "**EXPT_BD**: Experience with Big Data from 0 (No Experience) to 3 (Very Experienced)  \n",
    "**EXPT_DL**: Experience with Deep Learning from 0 (No Experience) to 3 (Very Experienced)  \n",
    "**RECALL**: Raw list of words recalled from list: _bed, rest, awake, tired, dream, wake, snooze, blanket, doze, slumber, snore, nap, peace, yawn, drowsy, sleep_  \n",
    "**PARISROME3**: Choice from THREE options: _A trip to Rome with free breakfast_, _A trip to Paris with free breakfast_, _A trip to Paris without free breakfast_  \n",
    "**PARISROME2**: Choice from TWO options: _A trip to Rome with free breakfast_, _A trip to Paris with free breakfast_  \n",
    "**SNORE**: Did they recall an actual word \"snore\" from the original word list (Yes - 1, No - 0)  \n",
    "**SKY**: Did they recall \"sky\" that was NOT in the original word list (Yes - 1, No - 0)  \n",
    "**SLEEP**: Did they recall \"sleep\" that was a related word but NOT in the original word list (Yes - 1, No - 0)  \n",
    "**{words}**: Columns for recall of each word from the word list  \n",
    "**RECALLSCORE**: Total number of correctly recalled words  "
   ]
  },
  {
   "cell_type": "markdown",
   "metadata": {},
   "source": [
    "# Descriptive Statistics"
   ]
  },
  {
   "cell_type": "markdown",
   "metadata": {},
   "source": [
    "#### Number of survey responses"
   ]
  },
  {
   "cell_type": "code",
   "execution_count": 4,
   "metadata": {
    "collapsed": false
   },
   "outputs": [
    {
     "name": "stdout",
     "output_type": "stream",
     "text": [
      "5\n",
      "There were [5] complete survey responses.\n"
     ]
    }
   ],
   "source": [
    "print(len(df))\n",
    "\n",
    "print('There were [%s] complete survey responses.' % len(df))"
   ]
  },
  {
   "cell_type": "markdown",
   "metadata": {},
   "source": [
    "### Distribution of Academic Degrees"
   ]
  },
  {
   "cell_type": "code",
   "execution_count": 5,
   "metadata": {
    "collapsed": false
   },
   "outputs": [
    {
     "data": {
      "text/plain": [
       "<matplotlib.axes._subplots.AxesSubplot at 0x10c1effd0>"
      ]
     },
     "execution_count": 5,
     "metadata": {},
     "output_type": "execute_result"
    },
    {
     "data": {
      "image/png": "[encoded data removed]",
      "text/plain": [
       "<matplotlib.figure.Figure at 0x10c1ef630>"
      ]
     },
     "metadata": {},
     "output_type": "display_data"
    }
   ],
   "source": [
    "df.DEGREE.value_counts().plot(kind='barh')"
   ]
  },
  {
   "cell_type": "code",
   "execution_count": 6,
   "metadata": {
    "collapsed": false
   },
   "outputs": [
    {
     "data": {
      "text/plain": [
       "Text(0.5,1,'DEGREE')"
      ]
     },
     "execution_count": 6,
     "metadata": {},
     "output_type": "execute_result"
    },
    {
     "data": {
      "image/png": "[encoded data removed]",
      "text/plain": [
       "<matplotlib.figure.Figure at 0x10e2a1470>"
      ]
     },
     "metadata": {},
     "output_type": "display_data"
    }
   ],
   "source": [
    "df.DEGREE.value_counts().plot(kind='pie', autopct='%.f')\n",
    "plt.axis('equal')\n",
    "plt.title(\"DEGREE\")"
   ]
  },
  {
   "cell_type": "markdown",
   "metadata": {},
   "source": [
    "## AGE"
   ]
  },
  {
   "cell_type": "code",
   "execution_count": 7,
   "metadata": {
    "collapsed": false
   },
   "outputs": [
    {
     "name": "stdout",
     "output_type": "stream",
     "text": [
      "0     NaN\n",
      "1    55.0\n",
      "2    34.0\n",
      "3    55.0\n",
      "4    44.0\n",
      "Name: AGE, dtype: float64\n"
     ]
    }
   ],
   "source": [
    "print(df.AGE)"
   ]
  },
  {
   "cell_type": "markdown",
   "metadata": {},
   "source": [
    "#### Mean, SD, var"
   ]
  },
  {
   "cell_type": "code",
   "execution_count": 8,
   "metadata": {
    "collapsed": false
   },
   "outputs": [
    {
     "name": "stdout",
     "output_type": "stream",
     "text": [
      "The AGE of respondents: \n",
      " MEAN = 47.0\n",
      " STANDARD DEVIATION = 10.1\n",
      " VARIANCE = 102.0\n"
     ]
    }
   ],
   "source": [
    "age_mean = df.AGE.mean() #mean\n",
    "age_std = df.AGE.std() #standard deviation\n",
    "age_var = df.AGE.var() #variance\n",
    "\n",
    "print('The AGE of respondents: \\n MEAN = ' + str(age_mean) +\n",
    "      '\\n STANDARD DEVIATION = ' + str( round(age_std,2) ) +\n",
    "      '\\n VARIANCE = ' + str(age_var)\n",
    "    )"
   ]
  },
  {
   "cell_type": "code",
   "execution_count": null,
   "metadata": {
    "collapsed": false
   },
   "outputs": [],
   "source": [
    "df.boxplot('AGE')"
   ]
  },
  {
   "cell_type": "markdown",
   "metadata": {},
   "source": [
    "#### Quick summary of numeric columns"
   ]
  },
  {
   "cell_type": "code",
   "execution_count": null,
   "metadata": {
    "collapsed": false
   },
   "outputs": [],
   "source": [
    "df.describe()"
   ]
  },
  {
   "cell_type": "markdown",
   "metadata": {},
   "source": [
    "## Normal distribution, Z-scores & Probability"
   ]
  },
  {
   "cell_type": "markdown",
   "metadata": {},
   "source": [
    "<img src = https://upload.wikimedia.org/wikipedia/commons/thumb/8/8c/Standard_deviation_diagram.svg/2000px-Standard_deviation_diagram.svg.png width = 400>"
   ]
  },
  {
   "cell_type": "markdown",
   "metadata": {},
   "source": [
    "Import Scipy Statistics module"
   ]
  },
  {
   "cell_type": "code",
   "execution_count": null,
   "metadata": {
    "collapsed": false
   },
   "outputs": [],
   "source": [
    "import scipy.stats as st"
   ]
  },
  {
   "cell_type": "markdown",
   "metadata": {},
   "source": [
    "### Cumulative Density Function"
   ]
  },
  {
   "cell_type": "code",
   "execution_count": null,
   "metadata": {
    "collapsed": false
   },
   "outputs": [],
   "source": [
    "## P(Z = 0)\n",
    "st.norm.cdf(0)"
   ]
  },
  {
   "cell_type": "markdown",
   "metadata": {},
   "source": [
    "#### What is the probability of a value that falls between -1 SD and 0 SD?"
   ]
  },
  {
   "cell_type": "code",
   "execution_count": null,
   "metadata": {
    "collapsed": false
   },
   "outputs": [],
   "source": [
    "## P(-1 < Z < 0)\n",
    "st.norm.cdf(0) - st.norm.cdf(-1)"
   ]
  },
  {
   "cell_type": "markdown",
   "metadata": {},
   "source": [
    "#### What is the probability density between -1 SD and +1 SD?"
   ]
  },
  {
   "cell_type": "code",
   "execution_count": null,
   "metadata": {
    "collapsed": false
   },
   "outputs": [],
   "source": [
    "## P(-1 < Z < 1)\n",
    "st.norm.cdf(1) - st.norm.cdf(-1)"
   ]
  },
  {
   "cell_type": "markdown",
   "metadata": {},
   "source": [
    "#### What is $P(-2 < Z < 2)$?"
   ]
  },
  {
   "cell_type": "code",
   "execution_count": null,
   "metadata": {
    "collapsed": false
   },
   "outputs": [],
   "source": [
    "## P(-2 < Z < 2)\n",
    "st.norm.cdf(2) - st.norm.cdf(-2)"
   ]
  },
  {
   "cell_type": "markdown",
   "metadata": {},
   "source": [
    "#### What is $P(-3 < Z < 3)$?"
   ]
  },
  {
   "cell_type": "code",
   "execution_count": null,
   "metadata": {
    "collapsed": false
   },
   "outputs": [],
   "source": [
    "st.norm.cdf(3) - st.norm.cdf(-3)"
   ]
  },
  {
   "cell_type": "markdown",
   "metadata": {},
   "source": [
    "### Survey Results\n",
    "\n",
    "Let's assume we have a normal distribution, with mean & SD from our survey respondents"
   ]
  },
  {
   "cell_type": "code",
   "execution_count": null,
   "metadata": {
    "collapsed": false
   },
   "outputs": [],
   "source": [
    "print('The AGE of respondents: \\n MEAN = ' + str(age_mean) +\n",
    "      '\\n STANDARD DEVIATION = ' + str( round(age_std,2) ) +\n",
    "      '\\n VARIANCE = ' + str(age_var)\n",
    "    )"
   ]
  },
  {
   "cell_type": "markdown",
   "metadata": {},
   "source": [
    "#### What is the probability of  age $30 < X < 40$?"
   ]
  },
  {
   "cell_type": "code",
   "execution_count": null,
   "metadata": {
    "collapsed": false
   },
   "outputs": [],
   "source": [
    "x1 = 30\n",
    "x1_zscore = (x1 - age_mean) / age_std\n",
    "print(x1_zscore)"
   ]
  },
  {
   "cell_type": "code",
   "execution_count": null,
   "metadata": {
    "collapsed": false
   },
   "outputs": [],
   "source": [
    "x2 = 40\n",
    "x2_zscore = (x2 - age_mean) / age_std\n",
    "print(x2_zscore)"
   ]
  },
  {
   "cell_type": "code",
   "execution_count": null,
   "metadata": {
    "collapsed": false
   },
   "outputs": [],
   "source": [
    "p30to40 = st.norm.cdf(x2_zscore) - st.norm.cdf(x1_zscore)\n",
    "\n",
    "print(\"The probability of an age between 30 and 40 \\n\" + \n",
    "      \"in a normal distribution with mean = %s and SD = %s \\n is %s\") % (age_mean, round(age_std,2), round(p30to40,2))"
   ]
  },
  {
   "cell_type": "markdown",
   "metadata": {},
   "source": [
    "## Memory: Recall of Word List"
   ]
  },
  {
   "cell_type": "markdown",
   "metadata": {},
   "source": [
    "- bed\n",
    "- rest\n",
    "- awake\n",
    "- tired\n",
    "- dream\n",
    "- wake\n",
    "- snooze\n",
    "- blanket\n",
    "- doze\n",
    "- slumber\n",
    "- snore\n",
    "- nap\n",
    "- peace\n",
    "- yawn\n",
    "- drowsy"
   ]
  },
  {
   "cell_type": "code",
   "execution_count": null,
   "metadata": {
    "collapsed": false
   },
   "outputs": [],
   "source": [
    "df.ix[:,19:]"
   ]
  },
  {
   "cell_type": "code",
   "execution_count": null,
   "metadata": {
    "collapsed": false
   },
   "outputs": [],
   "source": [
    "df.ix[:,19:-1].sum().plot(kind='barh')"
   ]
  },
  {
   "cell_type": "markdown",
   "metadata": {},
   "source": [
    "#### Memory: by Gender"
   ]
  },
  {
   "cell_type": "code",
   "execution_count": null,
   "metadata": {
    "collapsed": false
   },
   "outputs": [],
   "source": [
    "df.groupby('GENDER').RECALLSCORE.mean()"
   ]
  },
  {
   "cell_type": "code",
   "execution_count": null,
   "metadata": {
    "collapsed": false
   },
   "outputs": [],
   "source": [
    "df.boxplot(column=['RECALLSCORE'], by=\"GENDER\")\n",
    "\n",
    "print(df.groupby('GENDER').RECALLSCORE.describe())"
   ]
  },
  {
   "cell_type": "markdown",
   "metadata": {},
   "source": [
    "To compare means between two groups, we can use a simple ANOVA or t-test."
   ]
  },
  {
   "cell_type": "code",
   "execution_count": null,
   "metadata": {
    "collapsed": false
   },
   "outputs": [],
   "source": [
    "from scipy import stats\n",
    "#ANOVA\n",
    "F, p = stats.f_oneway(df[df.GENDER == \"Male\"].RECALLSCORE, \n",
    "                      df[df.GENDER == \"Female\"].RECALLSCORE)\n",
    "\n",
    "\n",
    "#Report results\n",
    "if p < 0.05:\n",
    "    print(\"A statistically significant difference was found\")\n",
    "else:\n",
    "    print(\"No statistically significant difference was found\")\n",
    "    \n",
    "print(\"between MALE (mean = %s, SD = %s) and \\n \\\n",
    "        FEMALE (mean = %s, SD = %s)\" % (df[df.GENDER==\"Male\"].AGE.mean(),\n",
    "                                        round(df[df.GENDER==\"Male\"].AGE.std(),1),\n",
    "                                        df[df.GENDER==\"Female\"].AGE.mean(),\n",
    "                                        round(df[df.GENDER==\"Female\"].AGE.std(),1))\n",
    "     )\n",
    "                                                             \n",
    "print(\"F(1,%s) = %s, p = %s\" % (len(df.RECALLSCORE)-2,\n",
    "                                F,\n",
    "                                round(p,3))\n",
    "     )\n",
    "\n",
    "\n",
    "### T-test\n",
    "#from scipy.stats import ttest_ind\n",
    "#t, p = ttest_ind(df[df.GENDER == \"Male\"].RECALLSCORE, \n",
    "#                      df[df.GENDER == \"Female\"].RECALLSCORE, equal_var=True)\n",
    "#\n",
    "#print(t)\n",
    "#print(p)"
   ]
  },
  {
   "cell_type": "markdown",
   "metadata": {},
   "source": [
    "#### Recall Rate x Age"
   ]
  },
  {
   "cell_type": "code",
   "execution_count": null,
   "metadata": {
    "collapsed": false
   },
   "outputs": [],
   "source": [
    "df[[\"AGE\",\"RECALLSCORE\"]]"
   ]
  },
  {
   "cell_type": "code",
   "execution_count": null,
   "metadata": {
    "collapsed": false
   },
   "outputs": [],
   "source": [
    "df.plot.scatter(\"AGE\",\"RECALLSCORE\")"
   ]
  },
  {
   "cell_type": "code",
   "execution_count": null,
   "metadata": {
    "collapsed": false
   },
   "outputs": [],
   "source": [
    "df[pd.notnull(df['AGE'])]['AGE']"
   ]
  },
  {
   "cell_type": "markdown",
   "metadata": {},
   "source": [
    "### Does age correlate with word recall?\n",
    "Correlation: AGE x RECALLSCORE"
   ]
  },
  {
   "cell_type": "code",
   "execution_count": null,
   "metadata": {
    "collapsed": false
   },
   "outputs": [],
   "source": [
    "age_val = df[pd.notnull(df['AGE'])]['AGE']\n",
    "recall_val = df[pd.notnull(df['AGE'])]['RECALLSCORE']\n",
    "\n",
    "age_pearson, age_pval = stats.pearsonr(age_val, recall_val)\n",
    "print \"The Pearson Correlation Coefficient \\n \\\n",
    "    between AGE and RECALLSCORE is %s (p = %s).\" % (round(age_pearson,2), round(age_pval,3))"
   ]
  },
  {
   "cell_type": "markdown",
   "metadata": {},
   "source": [
    "### Does education correlate with word recall?\n",
    "Correlation: EDUYEARS (Years of Education) x RECALLSCORE"
   ]
  },
  {
   "cell_type": "code",
   "execution_count": null,
   "metadata": {
    "collapsed": false
   },
   "outputs": [],
   "source": [
    "edu_val = df[pd.notnull(df['EDUYEARS'])]['EDUYEARS']\n",
    "recall_val = df[pd.notnull(df['EDUYEARS'])]['RECALLSCORE']\n",
    "\n",
    "edu_pearson, edu_pval = stats.pearsonr(edu_val, recall_val)\n",
    "print \"The Pearson Correlation Coefficient \\n \\\n",
    "    between AGE and RECALLSCORE is %s (p = %s).\" % (round(edu_pearson,2), round(edu_pval,3))"
   ]
  },
  {
   "cell_type": "markdown",
   "metadata": {},
   "source": [
    "### False Memory"
   ]
  },
  {
   "cell_type": "markdown",
   "metadata": {},
   "source": [
    "#### Did people incorrectly recall the word \"sleep\", even though it was not part of the wordlist?"
   ]
  },
  {
   "cell_type": "code",
   "execution_count": null,
   "metadata": {
    "collapsed": false
   },
   "outputs": [],
   "source": [
    "df.sleep.value_counts()"
   ]
  },
  {
   "cell_type": "code",
   "execution_count": null,
   "metadata": {
    "collapsed": false
   },
   "outputs": [],
   "source": [
    "df.sleep.value_counts().plot(kind='pie', autopct='%.f')\n",
    "plt.axis('equal')\n",
    "plt.title(\"Recall of 'sleep'? (0 = No, 1 = Yes)\")"
   ]
  },
  {
   "cell_type": "markdown",
   "metadata": {},
   "source": [
    "### Compare recall of actual word (SNORE), false word (SLEEP), and never-seen word (SKY)"
   ]
  },
  {
   "cell_type": "code",
   "execution_count": null,
   "metadata": {
    "collapsed": false
   },
   "outputs": [],
   "source": [
    "df[[\"SNORE\",\"SLEEP\",\"SKY\"]].sum().plot(kind='barh')\n",
    "plt.title(\"Did you see any of the following words in the word list?\")"
   ]
  },
  {
   "cell_type": "markdown",
   "metadata": {},
   "source": [
    "## Decoy Effect"
   ]
  },
  {
   "cell_type": "markdown",
   "metadata": {},
   "source": [
    "#### Null Hypothesis:   \n",
    "With or without a decoy, people should be equally likely to choose:  \n",
    "(\"A trip to **Paris with** free breakfast\") = (\"A trip to **Rome with** free breakfast\")\n",
    "\n",
    "#### Alternative Hypothesis:  \n",
    "With a decoy present (\"A trip to **Paris without** free breakfast\"), people will be more likely to choose:  \n",
    "\"A trip to **Paris with** free breakfast than \"A trip to **Rome with** free breakfast\"\n",
    "\n"
   ]
  },
  {
   "cell_type": "code",
   "execution_count": null,
   "metadata": {
    "collapsed": false
   },
   "outputs": [],
   "source": [
    "df.PARISROME3.value_counts().plot(kind='pie', autopct='%.f')\n",
    "plt.axis('equal')\n",
    "plt.title(\"WITH DECOY\")"
   ]
  },
  {
   "cell_type": "code",
   "execution_count": null,
   "metadata": {
    "collapsed": false
   },
   "outputs": [],
   "source": [
    "df.PARISROME2.value_counts().plot(kind='pie', autopct='%.f')\n",
    "plt.axis('equal')\n",
    "plt.title(\"WITHOUT DECOY\")"
   ]
  },
  {
   "cell_type": "code",
   "execution_count": null,
   "metadata": {
    "collapsed": false
   },
   "outputs": [],
   "source": [
    "df.PARISROME2"
   ]
  },
  {
   "cell_type": "code",
   "execution_count": null,
   "metadata": {
    "collapsed": false
   },
   "outputs": [],
   "source": [
    "df.PARISROME3[df.PARISROME3.notnull()]"
   ]
  },
  {
   "cell_type": "code",
   "execution_count": null,
   "metadata": {
    "collapsed": false
   },
   "outputs": [],
   "source": [
    "len(df.PARISROME3[df.PARISROME3.notnull()])"
   ]
  },
  {
   "cell_type": "code",
   "execution_count": null,
   "metadata": {
    "collapsed": false
   },
   "outputs": [],
   "source": [
    "df.PARISROME3 != \"A trip to Paris with free breakfast\""
   ]
  },
  {
   "cell_type": "code",
   "execution_count": null,
   "metadata": {
    "collapsed": false
   },
   "outputs": [],
   "source": [
    "withdecoy = sum(df.PARISROME3 == \"A trip to Paris with free breakfast\")/float(sum(df.PARISROME3.notnull()))\n",
    "\n",
    "withoutdecoy = sum(df.PARISROME2 == \"A trip to Paris with free breakfast\")/float(sum(df.PARISROME2.notnull()))\n",
    "\n",
    "\n",
    "\n",
    "print(\"With decoy: %s \\nWithout decoy: %s\" % (withdecoy, withoutdecoy))"
   ]
  },
  {
   "cell_type": "markdown",
   "metadata": {},
   "source": [
    "#### Chi-square test"
   ]
  },
  {
   "cell_type": "code",
   "execution_count": null,
   "metadata": {
    "collapsed": false
   },
   "outputs": [],
   "source": [
    "decoy_target = sum(df.PARISROME3 == \"A trip to Paris with free breakfast\")\n",
    "nodecoy_target = sum(df.PARISROME2 == \"A trip to Paris with free breakfast\")\n",
    "decoy_other = len(df.PARISROME3[df.PARISROME3.notnull()]) - decoy_target\n",
    "nodecoy_other = len(df.PARISROME2[df.PARISROME2.notnull()]) - nodecoy_target"
   ]
  },
  {
   "cell_type": "code",
   "execution_count": null,
   "metadata": {
    "collapsed": false,
    "scrolled": true
   },
   "outputs": [],
   "source": [
    "from scipy import stats\n",
    "prop_array = np.array([[decoy_target, decoy_other],\n",
    "                       [nodecoy_target,nodecoy_other]])\n",
    "x2, p, df, expected = stats.chi2_contingency(prop_array)\n",
    "\n",
    "print(prop_array)\n",
    "print(\"The chi-square value is %s, p = %s\" % (x2,round(p,3)))"
   ]
  },
  {
   "cell_type": "markdown",
   "metadata": {},
   "source": [
    "<hr>"
   ]
  },
  {
   "cell_type": "markdown",
   "metadata": {},
   "source": [
    "### Looking to learn more statistics? Check out the free [Statistics 101](https://cocl.us/statistics101-dsbootcamp) course:"
   ]
  },
  {
   "cell_type": "markdown",
   "metadata": {},
   "source": [
    "<a href=https://cocl.us/statistics101-dsbootcamp><img src=https://ibm.box.com/shared/static/0jm6371sdmir3w9mzaevx2x9j8s5qsrz.png></a>"
   ]
  },
  {
   "cell_type": "markdown",
   "metadata": {},
   "source": [
    "### <center> To learn more, check out the free courses available on [IBM Cognitive Class](https://cocl.us/cc_courses_dsbootcamp):\n",
    "\n",
    "<div>\n",
    "<a href = https://cocl.us/cc_courses_dsbootcamp><img src = https://ibm.box.com/shared/static/66h8iy2qwaai57ldjqj70jgkm9gq9ny3.png></a></div>"
   ]
  }
 ],
 "metadata": {
  "kernelspec": {
   "display_name": "Python 3",
   "language": "python",
   "name": "python3"
  },
  "language_info": {
   "codemirror_mode": {
    "name": "ipython",
    "version": 3
   },
   "file_extension": ".py",
   "mimetype": "text/x-python",
   "name": "python",
   "nbconvert_exporter": "python",
   "pygments_lexer": "ipython3",
   "version": "3.6.3"
  },
  "widgets": {
   "state": {},
   "version": "1.1.2"
  }
 },
 "nbformat": 4,
 "nbformat_minor": 2
}
