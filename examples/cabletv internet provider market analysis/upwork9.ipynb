{
 "cells": [
  {
   "cell_type": "code",
   "execution_count": 1,
   "metadata": {
    "collapsed": true
   },
   "outputs": [],
   "source": [
    "import pandas as pd\n",
    "import numpy as np\n",
    "import sklearn"
   ]
  },
  {
   "cell_type": "code",
   "execution_count": 2,
   "metadata": {
    "collapsed": true
   },
   "outputs": [],
   "source": [
    "import matplotlib.pyplot as plt\n",
    "%matplotlib inline \n",
    "import seaborn as sb"
   ]
  },
  {
   "cell_type": "code",
   "execution_count": 3,
   "metadata": {
    "collapsed": true
   },
   "outputs": [],
   "source": [
    "import pandas as pd\n",
    "from IPython.display import display"
   ]
  },
  {
   "cell_type": "code",
   "execution_count": 4,
   "metadata": {
    "collapsed": true
   },
   "outputs": [],
   "source": [
    "data = pd.read_csv('cancel1.csv')"
   ]
  },
  {
   "cell_type": "code",
   "execution_count": 5,
   "metadata": {
    "collapsed": true
   },
   "outputs": [],
   "source": [
    "pd.options.display.max_columns = None\n",
    "#display(data)"
   ]
  },
  {
   "cell_type": "code",
   "execution_count": 6,
   "metadata": {
    "collapsed": true
   },
   "outputs": [],
   "source": [
    "del data['mon'],data['salesrepid'],data['due_date'],data['BUNDLE'],data['order_create_date'],\\\n",
    "data['canceldate'],data['FIRSTOFFEREDDATE'],data['notruckrollrequiredreason']"
   ]
  },
  {
   "cell_type": "code",
   "execution_count": 7,
   "metadata": {
    "collapsed": true
   },
   "outputs": [],
   "source": [
    "data.strIsWinbackIndicator.replace(np.nan, 'NO' ,inplace=True)"
   ]
  },
  {
   "cell_type": "code",
   "execution_count": 8,
   "metadata": {
    "collapsed": true
   },
   "outputs": [],
   "source": [
    "data.hfws_ind.replace(np.nan, 'N' ,inplace=True)"
   ]
  },
  {
   "cell_type": "code",
   "execution_count": 9,
   "metadata": {
    "collapsed": true
   },
   "outputs": [],
   "source": [
    "data.ONTselfinstallcapable.replace(np.nan, 'N' ,inplace=True)"
   ]
  },
  {
   "cell_type": "code",
   "execution_count": 10,
   "metadata": {
    "collapsed": true
   },
   "outputs": [],
   "source": [
    "data.cancel_ind.replace(np.nan, 0 ,inplace=True)"
   ]
  },
  {
   "cell_type": "code",
   "execution_count": 11,
   "metadata": {
    "collapsed": true
   },
   "outputs": [],
   "source": [
    "data.waitingdayofcustomers.replace('#VALUE!', np.nan ,inplace=True)"
   ]
  },
  {
   "cell_type": "code",
   "execution_count": 12,
   "metadata": {
    "collapsed": true
   },
   "outputs": [],
   "source": [
    "data.waitingdayforcompany.replace('#VALUE!', np.nan ,inplace=True)"
   ]
  },
  {
   "cell_type": "code",
   "execution_count": 13,
   "metadata": {},
   "outputs": [
    {
     "data": {
      "text/plain": [
       "(52156, 23)"
      ]
     },
     "execution_count": 13,
     "metadata": {},
     "output_type": "execute_result"
    }
   ],
   "source": [
    "data.shape"
   ]
  },
  {
   "cell_type": "code",
   "execution_count": 14,
   "metadata": {},
   "outputs": [
    {
     "data": {
      "text/plain": [
       "31892"
      ]
     },
     "execution_count": 14,
     "metadata": {},
     "output_type": "execute_result"
    }
   ],
   "source": [
    "data.isnull().values.sum()"
   ]
  },
  {
   "cell_type": "code",
   "execution_count": 15,
   "metadata": {
    "collapsed": true
   },
   "outputs": [],
   "source": [
    "data.dropna(axis=0, inplace = True)"
   ]
  },
  {
   "cell_type": "code",
   "execution_count": 16,
   "metadata": {},
   "outputs": [
    {
     "data": {
      "text/html": [
       "<div>\n",
       "<style>\n",
       "    .dataframe thead tr:only-child th {\n",
       "        text-align: right;\n",
       "    }\n",
       "\n",
       "    .dataframe thead th {\n",
       "        text-align: left;\n",
       "    }\n",
       "\n",
       "    .dataframe tbody tr th {\n",
       "        vertical-align: top;\n",
       "    }\n",
       "</style>\n",
       "<table border=\"1\" class=\"dataframe\">\n",
       "  <thead>\n",
       "    <tr style=\"text-align: right;\">\n",
       "      <th></th>\n",
       "      <th>state</th>\n",
       "      <th>originalagency</th>\n",
       "      <th>speed</th>\n",
       "      <th>wirecenter</th>\n",
       "      <th>InstallType</th>\n",
       "      <th>competitorname</th>\n",
       "      <th>ContractType</th>\n",
       "      <th>endclientsystem</th>\n",
       "      <th>hfws_ind</th>\n",
       "      <th>waitingdayofcustomers</th>\n",
       "      <th>waitingdayforcompany</th>\n",
       "      <th>BundleType</th>\n",
       "      <th>ONTRequired</th>\n",
       "      <th>ONTInstall</th>\n",
       "      <th>strOrderType</th>\n",
       "      <th>strIsWinbackIndicator</th>\n",
       "      <th>droptype</th>\n",
       "      <th>premisetype</th>\n",
       "      <th>ONTselfinstallcapable</th>\n",
       "      <th>saleschannel</th>\n",
       "      <th>bundlename</th>\n",
       "      <th>smartcart</th>\n",
       "    </tr>\n",
       "    <tr>\n",
       "      <th>cancel_ind</th>\n",
       "      <th></th>\n",
       "      <th></th>\n",
       "      <th></th>\n",
       "      <th></th>\n",
       "      <th></th>\n",
       "      <th></th>\n",
       "      <th></th>\n",
       "      <th></th>\n",
       "      <th></th>\n",
       "      <th></th>\n",
       "      <th></th>\n",
       "      <th></th>\n",
       "      <th></th>\n",
       "      <th></th>\n",
       "      <th></th>\n",
       "      <th></th>\n",
       "      <th></th>\n",
       "      <th></th>\n",
       "      <th></th>\n",
       "      <th></th>\n",
       "      <th></th>\n",
       "      <th></th>\n",
       "    </tr>\n",
       "  </thead>\n",
       "  <tbody>\n",
       "    <tr>\n",
       "      <th>0.0</th>\n",
       "      <td>41372</td>\n",
       "      <td>41372</td>\n",
       "      <td>41372</td>\n",
       "      <td>41372</td>\n",
       "      <td>41372</td>\n",
       "      <td>41372</td>\n",
       "      <td>41372</td>\n",
       "      <td>41372</td>\n",
       "      <td>41372</td>\n",
       "      <td>41372</td>\n",
       "      <td>41372</td>\n",
       "      <td>41372</td>\n",
       "      <td>41372</td>\n",
       "      <td>41372</td>\n",
       "      <td>41372</td>\n",
       "      <td>41372</td>\n",
       "      <td>41372</td>\n",
       "      <td>41372</td>\n",
       "      <td>41372</td>\n",
       "      <td>41372</td>\n",
       "      <td>41372</td>\n",
       "      <td>41372</td>\n",
       "    </tr>\n",
       "    <tr>\n",
       "      <th>1.0</th>\n",
       "      <td>5522</td>\n",
       "      <td>5522</td>\n",
       "      <td>5522</td>\n",
       "      <td>5522</td>\n",
       "      <td>5522</td>\n",
       "      <td>5522</td>\n",
       "      <td>5522</td>\n",
       "      <td>5522</td>\n",
       "      <td>5522</td>\n",
       "      <td>5522</td>\n",
       "      <td>5522</td>\n",
       "      <td>5522</td>\n",
       "      <td>5522</td>\n",
       "      <td>5522</td>\n",
       "      <td>5522</td>\n",
       "      <td>5522</td>\n",
       "      <td>5522</td>\n",
       "      <td>5522</td>\n",
       "      <td>5522</td>\n",
       "      <td>5522</td>\n",
       "      <td>5522</td>\n",
       "      <td>5522</td>\n",
       "    </tr>\n",
       "  </tbody>\n",
       "</table>\n",
       "</div>"
      ],
      "text/plain": [
       "            state  originalagency  speed  wirecenter  InstallType  \\\n",
       "cancel_ind                                                          \n",
       "0.0         41372           41372  41372       41372        41372   \n",
       "1.0          5522            5522   5522        5522         5522   \n",
       "\n",
       "            competitorname  ContractType  endclientsystem  hfws_ind  \\\n",
       "cancel_ind                                                            \n",
       "0.0                  41372         41372            41372     41372   \n",
       "1.0                   5522          5522             5522      5522   \n",
       "\n",
       "            waitingdayofcustomers  waitingdayforcompany  BundleType  \\\n",
       "cancel_ind                                                            \n",
       "0.0                         41372                 41372       41372   \n",
       "1.0                          5522                  5522        5522   \n",
       "\n",
       "            ONTRequired  ONTInstall  strOrderType  strIsWinbackIndicator  \\\n",
       "cancel_ind                                                                 \n",
       "0.0               41372       41372         41372                  41372   \n",
       "1.0                5522        5522          5522                   5522   \n",
       "\n",
       "            droptype  premisetype  ONTselfinstallcapable  saleschannel  \\\n",
       "cancel_ind                                                               \n",
       "0.0            41372        41372                  41372         41372   \n",
       "1.0             5522         5522                   5522          5522   \n",
       "\n",
       "            bundlename  smartcart  \n",
       "cancel_ind                         \n",
       "0.0              41372      41372  \n",
       "1.0               5522       5522  "
      ]
     },
     "execution_count": 16,
     "metadata": {},
     "output_type": "execute_result"
    }
   ],
   "source": [
    "data.groupby('cancel_ind').count()"
   ]
  },
  {
   "cell_type": "code",
   "execution_count": 331,
   "metadata": {},
   "outputs": [
    {
     "data": {
      "text/html": [
       "<div>\n",
       "<style>\n",
       "    .dataframe thead tr:only-child th {\n",
       "        text-align: right;\n",
       "    }\n",
       "\n",
       "    .dataframe thead th {\n",
       "        text-align: left;\n",
       "    }\n",
       "\n",
       "    .dataframe tbody tr th {\n",
       "        vertical-align: top;\n",
       "    }\n",
       "</style>\n",
       "<table border=\"1\" class=\"dataframe\">\n",
       "  <thead>\n",
       "    <tr style=\"text-align: right;\">\n",
       "      <th></th>\n",
       "      <th>state</th>\n",
       "      <th>originalagency</th>\n",
       "      <th>speed</th>\n",
       "      <th>wirecenter</th>\n",
       "      <th>InstallType</th>\n",
       "      <th>competitorname</th>\n",
       "      <th>ContractType</th>\n",
       "      <th>endclientsystem</th>\n",
       "      <th>hfws_ind</th>\n",
       "      <th>waitingdayofcustomers</th>\n",
       "      <th>waitingdayforcompany</th>\n",
       "      <th>BundleType</th>\n",
       "      <th>ONTRequired</th>\n",
       "      <th>ONTInstall</th>\n",
       "      <th>strOrderType</th>\n",
       "      <th>strIsWinbackIndicator</th>\n",
       "      <th>droptype</th>\n",
       "      <th>premisetype</th>\n",
       "      <th>ONTselfinstallcapable</th>\n",
       "      <th>saleschannel</th>\n",
       "      <th>bundlename</th>\n",
       "      <th>smartcart</th>\n",
       "      <th>cancel_ind</th>\n",
       "    </tr>\n",
       "  </thead>\n",
       "  <tbody>\n",
       "    <tr>\n",
       "      <th>0</th>\n",
       "      <td>NY</td>\n",
       "      <td>REDVENT: REDVENT</td>\n",
       "      <td>FTTP_100M_100M</td>\n",
       "      <td>BREWSTER</td>\n",
       "      <td>TECH INSTALL</td>\n",
       "      <td>COMCAST</td>\n",
       "      <td>MONTHTOMONTH</td>\n",
       "      <td>COFEEANYWHERE</td>\n",
       "      <td>N</td>\n",
       "      <td>2</td>\n",
       "      <td>0</td>\n",
       "      <td>D</td>\n",
       "      <td>N</td>\n",
       "      <td>Y</td>\n",
       "      <td>N</td>\n",
       "      <td>NO</td>\n",
       "      <td>AERIAL</td>\n",
       "      <td>SFU</td>\n",
       "      <td>N</td>\n",
       "      <td>RED VENTURES</td>\n",
       "      <td>UNKNOWN</td>\n",
       "      <td>0</td>\n",
       "      <td>0.0</td>\n",
       "    </tr>\n",
       "    <tr>\n",
       "      <th>1</th>\n",
       "      <td>MD</td>\n",
       "      <td>CSSC: CSSC</td>\n",
       "      <td>FTTP_1000M_1000M</td>\n",
       "      <td>OWEN BROWN</td>\n",
       "      <td>TECH INSTALL</td>\n",
       "      <td>COMCAST</td>\n",
       "      <td>CONTRACT</td>\n",
       "      <td>COA2GO</td>\n",
       "      <td>N</td>\n",
       "      <td>3</td>\n",
       "      <td>3</td>\n",
       "      <td>TDV</td>\n",
       "      <td>N</td>\n",
       "      <td>Y</td>\n",
       "      <td>N</td>\n",
       "      <td>NO</td>\n",
       "      <td>BURIED</td>\n",
       "      <td>SFU</td>\n",
       "      <td>N</td>\n",
       "      <td>BIG BOX</td>\n",
       "      <td>1000M + TV Mundo + FDV Unlim</td>\n",
       "      <td>0</td>\n",
       "      <td>0.0</td>\n",
       "    </tr>\n",
       "    <tr>\n",
       "      <th>2</th>\n",
       "      <td>PA</td>\n",
       "      <td>ONLINE: ONLINE</td>\n",
       "      <td>FTTP_100M_100M</td>\n",
       "      <td>BRADDOCK</td>\n",
       "      <td>TECH INSTALL</td>\n",
       "      <td>COMCAST</td>\n",
       "      <td>MONTHTOMONTH</td>\n",
       "      <td>VZCOM</td>\n",
       "      <td>N</td>\n",
       "      <td>5</td>\n",
       "      <td>0</td>\n",
       "      <td>D</td>\n",
       "      <td>N</td>\n",
       "      <td>Y</td>\n",
       "      <td>N</td>\n",
       "      <td>NO</td>\n",
       "      <td>AERIAL</td>\n",
       "      <td>SFU</td>\n",
       "      <td>N</td>\n",
       "      <td>ONLINE CON</td>\n",
       "      <td>UNKNOWN</td>\n",
       "      <td>1</td>\n",
       "      <td>0.0</td>\n",
       "    </tr>\n",
       "    <tr>\n",
       "      <th>3</th>\n",
       "      <td>VA</td>\n",
       "      <td>CSSC: CSSC</td>\n",
       "      <td>FTTP_1000M_1000M</td>\n",
       "      <td>DRUMMONDS CORNER</td>\n",
       "      <td>TECH INSTALL</td>\n",
       "      <td>COX COMM</td>\n",
       "      <td>CONTRACT</td>\n",
       "      <td>COFEEANYWHERE</td>\n",
       "      <td>N</td>\n",
       "      <td>6</td>\n",
       "      <td>1</td>\n",
       "      <td>DV</td>\n",
       "      <td>Y</td>\n",
       "      <td>N</td>\n",
       "      <td>M</td>\n",
       "      <td>NO</td>\n",
       "      <td>BURIED</td>\n",
       "      <td>SFU</td>\n",
       "      <td>N</td>\n",
       "      <td>CSSC</td>\n",
       "      <td>1000M + Extreme HD - 2014 + NO FDV</td>\n",
       "      <td>0</td>\n",
       "      <td>0.0</td>\n",
       "    </tr>\n",
       "    <tr>\n",
       "      <th>4</th>\n",
       "      <td>NY</td>\n",
       "      <td>ONLINE: ONLINE</td>\n",
       "      <td>FTTP_1000M_1000M</td>\n",
       "      <td>LEVITTOWN</td>\n",
       "      <td>TECH INSTALL</td>\n",
       "      <td>CABLEVISION</td>\n",
       "      <td>CONTRACT</td>\n",
       "      <td>VZCOM</td>\n",
       "      <td>N</td>\n",
       "      <td>10</td>\n",
       "      <td>2</td>\n",
       "      <td>TDV</td>\n",
       "      <td>N</td>\n",
       "      <td>Y</td>\n",
       "      <td>N</td>\n",
       "      <td>NO</td>\n",
       "      <td>AERIAL</td>\n",
       "      <td>SFU</td>\n",
       "      <td>N</td>\n",
       "      <td>ONLINE CON</td>\n",
       "      <td>1000M + Preferred HD 2015 + FDV Unlim</td>\n",
       "      <td>1</td>\n",
       "      <td>0.0</td>\n",
       "    </tr>\n",
       "  </tbody>\n",
       "</table>\n",
       "</div>"
      ],
      "text/plain": [
       "  state    originalagency             speed        wirecenter   InstallType  \\\n",
       "0    NY  REDVENT: REDVENT    FTTP_100M_100M          BREWSTER  TECH INSTALL   \n",
       "1    MD        CSSC: CSSC  FTTP_1000M_1000M        OWEN BROWN  TECH INSTALL   \n",
       "2    PA    ONLINE: ONLINE    FTTP_100M_100M          BRADDOCK  TECH INSTALL   \n",
       "3    VA        CSSC: CSSC  FTTP_1000M_1000M  DRUMMONDS CORNER  TECH INSTALL   \n",
       "4    NY    ONLINE: ONLINE  FTTP_1000M_1000M         LEVITTOWN  TECH INSTALL   \n",
       "\n",
       "  competitorname  ContractType endclientsystem hfws_ind waitingdayofcustomers  \\\n",
       "0        COMCAST  MONTHTOMONTH   COFEEANYWHERE        N                     2   \n",
       "1        COMCAST      CONTRACT          COA2GO        N                     3   \n",
       "2        COMCAST  MONTHTOMONTH           VZCOM        N                     5   \n",
       "3       COX COMM      CONTRACT   COFEEANYWHERE        N                     6   \n",
       "4    CABLEVISION      CONTRACT           VZCOM        N                    10   \n",
       "\n",
       "  waitingdayforcompany BundleType ONTRequired ONTInstall strOrderType  \\\n",
       "0                    0          D           N          Y            N   \n",
       "1                    3        TDV           N          Y            N   \n",
       "2                    0          D           N          Y            N   \n",
       "3                    1         DV           Y          N            M   \n",
       "4                    2        TDV           N          Y            N   \n",
       "\n",
       "  strIsWinbackIndicator droptype premisetype ONTselfinstallcapable  \\\n",
       "0                    NO   AERIAL         SFU                     N   \n",
       "1                    NO   BURIED         SFU                     N   \n",
       "2                    NO   AERIAL         SFU                     N   \n",
       "3                    NO   BURIED         SFU                     N   \n",
       "4                    NO   AERIAL         SFU                     N   \n",
       "\n",
       "   saleschannel                             bundlename  smartcart  cancel_ind  \n",
       "0  RED VENTURES                                UNKNOWN          0         0.0  \n",
       "1       BIG BOX           1000M + TV Mundo + FDV Unlim          0         0.0  \n",
       "2    ONLINE CON                                UNKNOWN          1         0.0  \n",
       "3          CSSC     1000M + Extreme HD - 2014 + NO FDV          0         0.0  \n",
       "4    ONLINE CON  1000M + Preferred HD 2015 + FDV Unlim          1         0.0  "
      ]
     },
     "execution_count": 331,
     "metadata": {},
     "output_type": "execute_result"
    }
   ],
   "source": [
    "data.head(5)"
   ]
  },
  {
   "cell_type": "code",
   "execution_count": 17,
   "metadata": {},
   "outputs": [],
   "source": [
    "\n",
    "from sklearn import preprocessing\n",
    "le = preprocessing.LabelEncoder()\n"
   ]
  },
  {
   "cell_type": "code",
   "execution_count": 18,
   "metadata": {
    "collapsed": true
   },
   "outputs": [],
   "source": [
    "for x in data.columns:\n",
    "    if (x!=\"waitingdayofcustomers\") & (x!= \"waitingdayforcompany\"):\n",
    "        le.fit(data[x])\n",
    "        data[x]=le.transform(data[x])\n",
    "        data[x] = data[x].astype('category')\n",
    "    else:\n",
    "        data[x]=data[x].astype('float')\n",
    "\n",
    "#data[\"waitingdayofcustomers\"]=pd.to_numeric(data[\"waitingdayofcustomers\"])\n",
    "#data[\"waitingdayofcustomers\"]=data[\"waitingdayofcustomers\"].astype(str)"
   ]
  },
  {
   "cell_type": "code",
   "execution_count": 335,
   "metadata": {},
   "outputs": [
    {
     "data": {
      "text/plain": [
       "state                    category\n",
       "originalagency           category\n",
       "speed                    category\n",
       "wirecenter               category\n",
       "InstallType              category\n",
       "competitorname           category\n",
       "ContractType             category\n",
       "endclientsystem          category\n",
       "hfws_ind                 category\n",
       "waitingdayofcustomers     float64\n",
       "waitingdayforcompany      float64\n",
       "BundleType               category\n",
       "ONTRequired              category\n",
       "ONTInstall               category\n",
       "strOrderType             category\n",
       "strIsWinbackIndicator    category\n",
       "droptype                 category\n",
       "premisetype              category\n",
       "ONTselfinstallcapable    category\n",
       "saleschannel             category\n",
       "bundlename               category\n",
       "smartcart                category\n",
       "cancel_ind               category\n",
       "dtype: object"
      ]
     },
     "execution_count": 335,
     "metadata": {},
     "output_type": "execute_result"
    }
   ],
   "source": [
    "data.dtypes\n"
   ]
  },
  {
   "cell_type": "markdown",
   "metadata": {},
   "source": [
    "# Feature Selection With Boruta"
   ]
  },
  {
   "cell_type": "code",
   "execution_count": 19,
   "metadata": {
    "collapsed": true
   },
   "outputs": [],
   "source": [
    "from sklearn.ensemble import RandomForestClassifier\n",
    "from boruta import BorutaPy"
   ]
  },
  {
   "cell_type": "code",
   "execution_count": 20,
   "metadata": {
    "collapsed": true
   },
   "outputs": [],
   "source": [
    "y=data['cancel_ind']\n",
    "del data['cancel_ind']"
   ]
  },
  {
   "cell_type": "code",
   "execution_count": 21,
   "metadata": {
    "collapsed": true
   },
   "outputs": [],
   "source": [
    "from sklearn.model_selection import train_test_split"
   ]
  },
  {
   "cell_type": "code",
   "execution_count": 22,
   "metadata": {
    "collapsed": true
   },
   "outputs": [],
   "source": [
    "X_train, X_test, y_train, y_test = train_test_split(data,y,test_size=0.2, stratify=y)"
   ]
  },
  {
   "cell_type": "code",
   "execution_count": 23,
   "metadata": {
    "collapsed": true
   },
   "outputs": [],
   "source": [
    "y = y.ravel()"
   ]
  },
  {
   "cell_type": "code",
   "execution_count": 24,
   "metadata": {},
   "outputs": [
    {
     "name": "stdout",
     "output_type": "stream",
     "text": [
      "Iteration: \t1 / 100\n",
      "Confirmed: \t0\n",
      "Tentative: \t22\n",
      "Rejected: \t0\n",
      "Iteration: \t2 / 100\n",
      "Confirmed: \t0\n",
      "Tentative: \t22\n",
      "Rejected: \t0\n",
      "Iteration: \t3 / 100\n",
      "Confirmed: \t0\n",
      "Tentative: \t22\n",
      "Rejected: \t0\n",
      "Iteration: \t4 / 100\n",
      "Confirmed: \t0\n",
      "Tentative: \t22\n",
      "Rejected: \t0\n",
      "Iteration: \t5 / 100\n",
      "Confirmed: \t0\n",
      "Tentative: \t22\n",
      "Rejected: \t0\n",
      "Iteration: \t6 / 100\n",
      "Confirmed: \t0\n",
      "Tentative: \t22\n",
      "Rejected: \t0\n",
      "Iteration: \t7 / 100\n",
      "Confirmed: \t0\n",
      "Tentative: \t22\n",
      "Rejected: \t0\n",
      "Iteration: \t8 / 100\n",
      "Confirmed: \t18\n",
      "Tentative: \t1\n",
      "Rejected: \t3\n"
     ]
    },
    {
     "name": "stderr",
     "output_type": "stream",
     "text": [
      "/Users/muratyalcin/anaconda3/lib/python3.6/site-packages/boruta/boruta_py.py:418: RuntimeWarning: invalid value encountered in greater\n",
      "  hits = np.where(cur_imp[0] > imp_sha_max)[0]\n"
     ]
    },
    {
     "name": "stdout",
     "output_type": "stream",
     "text": [
      "Iteration: \t9 / 100\n",
      "Confirmed: \t18\n",
      "Tentative: \t1\n",
      "Rejected: \t3\n"
     ]
    },
    {
     "name": "stderr",
     "output_type": "stream",
     "text": [
      "/Users/muratyalcin/anaconda3/lib/python3.6/site-packages/boruta/boruta_py.py:418: RuntimeWarning: invalid value encountered in greater\n",
      "  hits = np.where(cur_imp[0] > imp_sha_max)[0]\n"
     ]
    },
    {
     "name": "stdout",
     "output_type": "stream",
     "text": [
      "Iteration: \t10 / 100\n",
      "Confirmed: \t18\n",
      "Tentative: \t1\n",
      "Rejected: \t3\n"
     ]
    },
    {
     "name": "stderr",
     "output_type": "stream",
     "text": [
      "/Users/muratyalcin/anaconda3/lib/python3.6/site-packages/boruta/boruta_py.py:418: RuntimeWarning: invalid value encountered in greater\n",
      "  hits = np.where(cur_imp[0] > imp_sha_max)[0]\n"
     ]
    },
    {
     "name": "stdout",
     "output_type": "stream",
     "text": [
      "Iteration: \t11 / 100\n",
      "Confirmed: \t18\n",
      "Tentative: \t1\n",
      "Rejected: \t3\n"
     ]
    },
    {
     "name": "stderr",
     "output_type": "stream",
     "text": [
      "/Users/muratyalcin/anaconda3/lib/python3.6/site-packages/boruta/boruta_py.py:418: RuntimeWarning: invalid value encountered in greater\n",
      "  hits = np.where(cur_imp[0] > imp_sha_max)[0]\n"
     ]
    },
    {
     "name": "stdout",
     "output_type": "stream",
     "text": [
      "Iteration: \t12 / 100\n",
      "Confirmed: \t18\n",
      "Tentative: \t1\n",
      "Rejected: \t3\n"
     ]
    },
    {
     "name": "stderr",
     "output_type": "stream",
     "text": [
      "/Users/muratyalcin/anaconda3/lib/python3.6/site-packages/boruta/boruta_py.py:418: RuntimeWarning: invalid value encountered in greater\n",
      "  hits = np.where(cur_imp[0] > imp_sha_max)[0]\n"
     ]
    },
    {
     "name": "stdout",
     "output_type": "stream",
     "text": [
      "Iteration: \t13 / 100\n",
      "Confirmed: \t18\n",
      "Tentative: \t1\n",
      "Rejected: \t3\n"
     ]
    },
    {
     "name": "stderr",
     "output_type": "stream",
     "text": [
      "/Users/muratyalcin/anaconda3/lib/python3.6/site-packages/boruta/boruta_py.py:418: RuntimeWarning: invalid value encountered in greater\n",
      "  hits = np.where(cur_imp[0] > imp_sha_max)[0]\n"
     ]
    },
    {
     "name": "stdout",
     "output_type": "stream",
     "text": [
      "Iteration: \t14 / 100\n",
      "Confirmed: \t18\n",
      "Tentative: \t1\n",
      "Rejected: \t3\n"
     ]
    },
    {
     "name": "stderr",
     "output_type": "stream",
     "text": [
      "/Users/muratyalcin/anaconda3/lib/python3.6/site-packages/boruta/boruta_py.py:418: RuntimeWarning: invalid value encountered in greater\n",
      "  hits = np.where(cur_imp[0] > imp_sha_max)[0]\n"
     ]
    },
    {
     "name": "stdout",
     "output_type": "stream",
     "text": [
      "Iteration: \t15 / 100\n",
      "Confirmed: \t18\n",
      "Tentative: \t1\n",
      "Rejected: \t3\n",
      "Iteration: \t16 / 100\n",
      "Confirmed: \t18\n",
      "Tentative: \t0\n",
      "Rejected: \t4\n",
      "\n",
      "\n",
      "BorutaPy finished running.\n",
      "\n",
      "Iteration: \t17 / 100\n",
      "Confirmed: \t18\n",
      "Tentative: \t0\n",
      "Rejected: \t4\n"
     ]
    },
    {
     "name": "stderr",
     "output_type": "stream",
     "text": [
      "/Users/muratyalcin/anaconda3/lib/python3.6/site-packages/boruta/boruta_py.py:418: RuntimeWarning: invalid value encountered in greater\n",
      "  hits = np.where(cur_imp[0] > imp_sha_max)[0]\n"
     ]
    }
   ],
   "source": [
    "# define random forest classifier, with utilising all cores and\n",
    "# sampling in proportion to y labels\n",
    "rf = RandomForestClassifier(n_jobs=-1, class_weight='balanced', max_depth=5)\n",
    "\n",
    "# define Boruta feature selection method\n",
    "feat_selector = BorutaPy(rf, n_estimators='auto', verbose=2, random_state=1)\n",
    "\n",
    "# find all relevant features - 5 features should be selected\n",
    "feat_selector.fit(X_train.as_matrix(),y_train.as_matrix())\n",
    "# check selected features - first 5 features are selected\n",
    "feat_selector.support_\n",
    "\n",
    "# check ranking of features\n",
    "feat_selector.ranking_\n",
    "\n",
    "# call transform() on X to filter it down to selected features\n",
    "X_filtered = feat_selector.transform(X_train.as_matrix())"
   ]
  },
  {
   "cell_type": "code",
   "execution_count": 25,
   "metadata": {},
   "outputs": [
    {
     "name": "stdout",
     "output_type": "stream",
     "text": [
      "18\n"
     ]
    }
   ],
   "source": [
    "print (feat_selector.n_features_)"
   ]
  },
  {
   "cell_type": "code",
   "execution_count": 26,
   "metadata": {
    "collapsed": true
   },
   "outputs": [],
   "source": [
    "feature_df = pd.DataFrame(X_train.columns.tolist(), columns=['features'])\n",
    "feature_df ['rank']=feat_selector.ranking_"
   ]
  },
  {
   "cell_type": "code",
   "execution_count": 27,
   "metadata": {},
   "outputs": [
    {
     "name": "stdout",
     "output_type": "stream",
     "text": [
      "                 features  rank\n",
      "0                   state     4\n",
      "1          originalagency     1\n",
      "2                   speed     1\n",
      "3              wirecenter     2\n",
      "4             InstallType     1\n",
      "5          competitorname     1\n",
      "6            ContractType     1\n",
      "7         endclientsystem     1\n",
      "8                hfws_ind     1\n",
      "9   waitingdayofcustomers     1\n",
      "10   waitingdayforcompany     1\n",
      "11             BundleType     1\n",
      "12            ONTRequired     1\n",
      "13             ONTInstall     1\n",
      "14           strOrderType     1\n",
      "15  strIsWinbackIndicator     1\n",
      "16               droptype     3\n",
      "17            premisetype     5\n"
     ]
    }
   ],
   "source": [
    "print (feature_df.head(feat_selector.n_features_))"
   ]
  },
  {
   "cell_type": "markdown",
   "metadata": {},
   "source": [
    "# Feature Selection With SelectKBest"
   ]
  },
  {
   "cell_type": "code",
   "execution_count": 28,
   "metadata": {
    "collapsed": true
   },
   "outputs": [],
   "source": [
    "from sklearn.feature_selection import SelectKBest, f_classif\n",
    "from sklearn.feature_selection import chi2"
   ]
  },
  {
   "cell_type": "code",
   "execution_count": 29,
   "metadata": {},
   "outputs": [
    {
     "name": "stdout",
     "output_type": "stream",
     "text": [
      "              Feat_names     F_Scores\n",
      "0        endclientsystem  1671.697409\n",
      "4              smartcart   257.187614\n",
      "1               hfws_ind   209.883373\n",
      "2             BundleType   202.575290\n",
      "3  strIsWinbackIndicator   162.458030\n"
     ]
    }
   ],
   "source": [
    "selector = SelectKBest(f_classif, k = 5)\n",
    "#New dataframe with the selected features for later use in the classifier. fit() method works too, if you want only the feature names and their corresponding scores\n",
    "X_new = selector.fit_transform(X_train, y_train)\n",
    "names = X_train.columns.values[selector.get_support()]\n",
    "scores = selector.scores_[selector.get_support()]\n",
    "names_scores = list(zip(names, scores))\n",
    "ns_df = pd.DataFrame(data = names_scores, columns=['Feat_names', 'F_Scores'])\n",
    "#Sort the dataframe for better visualization\n",
    "ns_df_sorted = ns_df.sort_values(['F_Scores', 'Feat_names'], ascending = [False, True])\n",
    "print(ns_df_sorted)"
   ]
  },
  {
   "cell_type": "markdown",
   "metadata": {},
   "source": [
    "#  Feature Selection with LinearSVC"
   ]
  },
  {
   "cell_type": "code",
   "execution_count": 30,
   "metadata": {},
   "outputs": [
    {
     "data": {
      "text/plain": [
       "Pipeline(memory=None,\n",
       "     steps=[('rfe_feature_selection', RFE(estimator=LinearSVC(C=0.1, class_weight=None, dual=True, fit_intercept=True,\n",
       "     intercept_scaling=1, loss='squared_hinge', max_iter=1000,\n",
       "     multi_class='ovr', penalty='l2', random_state=None, tol=0.0001,\n",
       "     verbose=0),\n",
       "  n_features_to_select=5, step=1, ver...ax_iter=1000,\n",
       "     multi_class='ovr', penalty='l2', random_state=None, tol=0.0001,\n",
       "     verbose=0))])"
      ]
     },
     "execution_count": 30,
     "metadata": {},
     "output_type": "execute_result"
    }
   ],
   "source": [
    "from sklearn import feature_selection\n",
    "from sklearn.svm import LinearSVC\n",
    "from sklearn.pipeline import FeatureUnion, Pipeline\n",
    "\n",
    "# classifier\n",
    "LinearSVC1 = LinearSVC(tol=1e-4,  C = 0.10000000000000001)\n",
    "f5 = feature_selection.RFE(estimator=LinearSVC1, n_features_to_select=5, step=1)\n",
    "\n",
    "pipeline = Pipeline([\n",
    "    ('rfe_feature_selection', f5),\n",
    "    ('clf', LinearSVC1)\n",
    "    ])\n",
    "\n",
    "pipeline.fit(X_train, y_train)"
   ]
  },
  {
   "cell_type": "code",
   "execution_count": 31,
   "metadata": {},
   "outputs": [
    {
     "data": {
      "text/plain": [
       "array(['hfws_ind', 'ONTRequired', 'strOrderType', 'strIsWinbackIndicator',\n",
       "       'smartcart'], dtype=object)"
      ]
     },
     "execution_count": 31,
     "metadata": {},
     "output_type": "execute_result"
    }
   ],
   "source": [
    "support = pipeline.named_steps['rfe_feature_selection'].support_\n",
    "feature_names = np.array(X_train.columns) # transformed list to array\n",
    "\n",
    "feature_names[support]"
   ]
  },
  {
   "cell_type": "markdown",
   "metadata": {},
   "source": [
    "#  Feature Selection with RFE"
   ]
  },
  {
   "cell_type": "code",
   "execution_count": 34,
   "metadata": {
    "collapsed": true
   },
   "outputs": [],
   "source": [
    "from sklearn.feature_selection import RFE\n",
    "from sklearn.ensemble import ExtraTreesClassifier"
   ]
  },
  {
   "cell_type": "code",
   "execution_count": 35,
   "metadata": {},
   "outputs": [
    {
     "name": "stdout",
     "output_type": "stream",
     "text": [
      "Num Features: 5\n",
      "Selected Features: [False False False  True False False False  True False  True  True False\n",
      " False False False False False False False  True False False]\n",
      "Feature Ranking: [ 4  3  8  1 18  6 14  1 15  1  1  7 13 17 10 16  5  9 12  1  2 11]\n"
     ]
    }
   ],
   "source": [
    "model = ExtraTreesClassifier()\n",
    "rfe = RFE(model, 5)\n",
    "fit = rfe.fit(X_train, y_train)\n",
    "print(\"Num Features: %d\" % fit.n_features_ )\n",
    "print(\"Selected Features: %s\" % fit.support_ )\n",
    "print(\"Feature Ranking: %s\" % fit.ranking_ )"
   ]
  },
  {
   "cell_type": "code",
   "execution_count": 36,
   "metadata": {},
   "outputs": [
    {
     "data": {
      "text/plain": [
       "array(['wirecenter', 'endclientsystem', 'waitingdayofcustomers',\n",
       "       'waitingdayforcompany', 'saleschannel'], dtype=object)"
      ]
     },
     "execution_count": 36,
     "metadata": {},
     "output_type": "execute_result"
    }
   ],
   "source": [
    "feature_names = np.array(X_train.columns) # transformed list to array\n",
    "feature_names[fit.support_]"
   ]
  },
  {
   "cell_type": "markdown",
   "metadata": {},
   "source": [
    "## DECISION TREE"
   ]
  },
  {
   "cell_type": "code",
   "execution_count": 339,
   "metadata": {
    "collapsed": true
   },
   "outputs": [],
   "source": [
    "from sklearn.ensemble import RandomForestClassifier"
   ]
  },
  {
   "cell_type": "code",
   "execution_count": 340,
   "metadata": {
    "collapsed": true
   },
   "outputs": [],
   "source": [
    "from sklearn.tree import DecisionTreeClassifier\n"
   ]
  },
  {
   "cell_type": "code",
   "execution_count": 341,
   "metadata": {
    "collapsed": true
   },
   "outputs": [],
   "source": [
    "dt = DecisionTreeClassifier()\n",
    "rf = RandomForestClassifier()"
   ]
  },
  {
   "cell_type": "code",
   "execution_count": 342,
   "metadata": {},
   "outputs": [
    {
     "data": {
      "text/plain": [
       "DecisionTreeClassifier(class_weight=None, criterion='gini', max_depth=None,\n",
       "            max_features=None, max_leaf_nodes=None,\n",
       "            min_impurity_decrease=0.0, min_impurity_split=None,\n",
       "            min_samples_leaf=1, min_samples_split=2,\n",
       "            min_weight_fraction_leaf=0.0, presort=False, random_state=None,\n",
       "            splitter='best')"
      ]
     },
     "execution_count": 342,
     "metadata": {},
     "output_type": "execute_result"
    }
   ],
   "source": [
    "dt.fit(X_train, y_train)"
   ]
  },
  {
   "cell_type": "code",
   "execution_count": 343,
   "metadata": {
    "collapsed": true
   },
   "outputs": [],
   "source": [
    "y_predi = dt.predict(X_test)"
   ]
  },
  {
   "cell_type": "code",
   "execution_count": 344,
   "metadata": {
    "collapsed": true
   },
   "outputs": [],
   "source": [
    "from sklearn.metrics.classification import accuracy_score\n",
    "from sklearn.metrics import classification_report\n",
    "from sklearn.metrics import confusion_matrix"
   ]
  },
  {
   "cell_type": "code",
   "execution_count": 345,
   "metadata": {},
   "outputs": [
    {
     "name": "stdout",
     "output_type": "stream",
     "text": [
      "0.899 \n",
      "\n",
      "[[7758  429]\n",
      " [ 517  675]] \n",
      "\n",
      "             precision    recall  f1-score   support\n",
      "\n",
      "          0       0.94      0.95      0.94      8187\n",
      "          1       0.61      0.57      0.59      1192\n",
      "\n",
      "avg / total       0.90      0.90      0.90      9379\n",
      "\n"
     ]
    }
   ],
   "source": [
    "nn_accy = round(accuracy_score(y_predi, y_test), 3)\n",
    "print (nn_accy,\"\\n\")\n",
    "nnconfmat = confusion_matrix(y_predi,y_test)\n",
    "print(nnconfmat,\"\\n\")\n",
    "nnrep = classification_report(y_predi, y_test)\n",
    "print(nnrep)"
   ]
  },
  {
   "cell_type": "markdown",
   "metadata": {},
   "source": [
    "## RANDOM FOREST"
   ]
  },
  {
   "cell_type": "code",
   "execution_count": 346,
   "metadata": {},
   "outputs": [
    {
     "data": {
      "text/plain": [
       "RandomForestClassifier(bootstrap=True, class_weight=None, criterion='gini',\n",
       "            max_depth=None, max_features='auto', max_leaf_nodes=None,\n",
       "            min_impurity_decrease=0.0, min_impurity_split=None,\n",
       "            min_samples_leaf=1, min_samples_split=2,\n",
       "            min_weight_fraction_leaf=0.0, n_estimators=10, n_jobs=1,\n",
       "            oob_score=False, random_state=None, verbose=0,\n",
       "            warm_start=False)"
      ]
     },
     "execution_count": 346,
     "metadata": {},
     "output_type": "execute_result"
    }
   ],
   "source": [
    "rf.fit(X_train, y_train)"
   ]
  },
  {
   "cell_type": "code",
   "execution_count": 347,
   "metadata": {
    "collapsed": true
   },
   "outputs": [],
   "source": [
    "y_predi = rf.predict(X_test)"
   ]
  },
  {
   "cell_type": "code",
   "execution_count": 348,
   "metadata": {},
   "outputs": [
    {
     "name": "stdout",
     "output_type": "stream",
     "text": [
      "0.927 \n",
      "\n",
      "[[8198  609]\n",
      " [  77  495]] \n",
      "\n",
      "             precision    recall  f1-score   support\n",
      "\n",
      "          0       0.99      0.93      0.96      8807\n",
      "          1       0.45      0.87      0.59       572\n",
      "\n",
      "avg / total       0.96      0.93      0.94      9379\n",
      "\n"
     ]
    }
   ],
   "source": [
    "nn_accy = round(accuracy_score(y_predi, y_test), 3)\n",
    "print (nn_accy,\"\\n\")\n",
    "nnconfmat = confusion_matrix(y_predi,y_test)\n",
    "print(nnconfmat,\"\\n\")\n",
    "nnrep = classification_report(y_predi, y_test)\n",
    "print(nnrep)"
   ]
  },
  {
   "cell_type": "markdown",
   "metadata": {},
   "source": [
    "## LOGISTIC REGRESSION"
   ]
  },
  {
   "cell_type": "code",
   "execution_count": 174,
   "metadata": {
    "collapsed": true
   },
   "outputs": [],
   "source": [
    "from sklearn.linear_model import LogisticRegression"
   ]
  },
  {
   "cell_type": "code",
   "execution_count": 175,
   "metadata": {
    "collapsed": true
   },
   "outputs": [],
   "source": [
    "lr = LogisticRegression()"
   ]
  },
  {
   "cell_type": "code",
   "execution_count": 349,
   "metadata": {},
   "outputs": [
    {
     "data": {
      "text/plain": [
       "LogisticRegression(C=1.0, class_weight=None, dual=False, fit_intercept=True,\n",
       "          intercept_scaling=1, max_iter=100, multi_class='ovr', n_jobs=1,\n",
       "          penalty='l2', random_state=None, solver='liblinear', tol=0.0001,\n",
       "          verbose=0, warm_start=False)"
      ]
     },
     "execution_count": 349,
     "metadata": {},
     "output_type": "execute_result"
    }
   ],
   "source": [
    "lr.fit(X_train, y_train)"
   ]
  },
  {
   "cell_type": "code",
   "execution_count": 350,
   "metadata": {
    "collapsed": true
   },
   "outputs": [],
   "source": [
    "y_predi = lr.predict(X_test)"
   ]
  },
  {
   "cell_type": "code",
   "execution_count": 351,
   "metadata": {},
   "outputs": [
    {
     "name": "stdout",
     "output_type": "stream",
     "text": [
      "0.91 \n",
      "\n",
      "[[8249  815]\n",
      " [  26  289]] \n",
      "\n",
      "             precision    recall  f1-score   support\n",
      "\n",
      "          0       1.00      0.91      0.95      9064\n",
      "          1       0.26      0.92      0.41       315\n",
      "\n",
      "avg / total       0.97      0.91      0.93      9379\n",
      "\n"
     ]
    }
   ],
   "source": [
    "nn_accy = round(accuracy_score(y_predi, y_test), 3)\n",
    "print (nn_accy,\"\\n\")\n",
    "nnconfmat = confusion_matrix(y_predi,y_test)\n",
    "print(nnconfmat,\"\\n\")\n",
    "nnrep = classification_report(y_predi, y_test)\n",
    "print(nnrep)"
   ]
  },
  {
   "cell_type": "markdown",
   "metadata": {},
   "source": [
    "## SVM"
   ]
  },
  {
   "cell_type": "code",
   "execution_count": null,
   "metadata": {
    "collapsed": true
   },
   "outputs": [],
   "source": [
    "from sklearn.svm import SVC\n",
    "svm=SVC(kernel='rbf')"
   ]
  },
  {
   "cell_type": "code",
   "execution_count": null,
   "metadata": {
    "collapsed": true
   },
   "outputs": [],
   "source": [
    "svm.fit(X_train, y_train)"
   ]
  },
  {
   "cell_type": "code",
   "execution_count": 354,
   "metadata": {
    "collapsed": true
   },
   "outputs": [],
   "source": [
    "y_predi=svm.predict(X_test)"
   ]
  },
  {
   "cell_type": "code",
   "execution_count": 355,
   "metadata": {},
   "outputs": [
    {
     "name": "stdout",
     "output_type": "stream",
     "text": [
      "0.884 \n",
      "\n",
      "[[8265 1079]\n",
      " [  10   25]] \n",
      "\n",
      "             precision    recall  f1-score   support\n",
      "\n",
      "          0       1.00      0.88      0.94      9344\n",
      "          1       0.02      0.71      0.04        35\n",
      "\n",
      "avg / total       1.00      0.88      0.93      9379\n",
      "\n"
     ]
    }
   ],
   "source": [
    "nn_accy = round(accuracy_score(y_predi, y_test), 3)\n",
    "print (nn_accy,\"\\n\")\n",
    "nnconfmat = confusion_matrix(y_predi,y_test)\n",
    "print(nnconfmat,\"\\n\")\n",
    "nnrep = classification_report(y_predi, y_test)\n",
    "print(nnrep)"
   ]
  }
 ],
 "metadata": {
  "kernelspec": {
   "display_name": "Python 3",
   "language": "python",
   "name": "python3"
  },
  "language_info": {
   "codemirror_mode": {
    "name": "ipython",
    "version": 3
   },
   "file_extension": ".py",
   "mimetype": "text/x-python",
   "name": "python",
   "nbconvert_exporter": "python",
   "pygments_lexer": "ipython3",
   "version": "3.6.3"
  }
 },
 "nbformat": 4,
 "nbformat_minor": 2
}
