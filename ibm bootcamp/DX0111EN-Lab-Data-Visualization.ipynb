{
 "cells": [
  {
   "cell_type": "markdown",
   "metadata": {},
   "source": [
    "<a href=\"https://www.cognitiveclass.ai\"><img src = \"https://ibm.box.com/shared/static/ugcqz6ohbvff804xp84y4kqnvvk3bq1g.png\" width = 300 align = \"center\"></a>\n",
    "<h1 align=center><font size = 5>DATA VISUALIZATION - Lab I</font></h1>\n",
    "<br>\n",
    "<h2 align=center>How are People Dying in the United States? Visualizing Mortality</h2>"
   ]
  },
  {
   "cell_type": "markdown",
   "metadata": {},
   "source": [
    "1. [How are People Dying in the United States? Visualizing Mortality](#top)\n",
    "1. [matplotlib library](#mpl)\n",
    "1. [Getting the Data](#getdata)\n",
    "1. [Understanding the Data](#understand)\n",
    "1. [Deaths: by Year](#year)\n",
    "1. [Deaths: Male vs. Female](#gender)\n",
    "1. [Deaths: by Age](#age)\n",
    "1. [Deaths: by Age & Gender](#ageXgender)\n",
    "1. [Deaths: Top 10 Causes of Death in 2015](#causeX2015)\n",
    "1. [Deaths: Top 10 Causes of Death by Year](#causeXyear)\n",
    "1. [Deaths: Causes of Death by Gender](#causeXgender)\n",
    "1. [Deaths: Causes of Death by Age](#causeXage)\n",
    "1. [Deaths: Causes of Death by Gender & Age](#causeXgenderXage)"
   ]
  },
  {
   "cell_type": "markdown",
   "metadata": {},
   "source": [
    "# How are People Dying in the United States? Visualizing Mortality"
   ]
  },
  {
   "cell_type": "markdown",
   "metadata": {},
   "source": [
    "**Death** is a _morbid_ topic, but it is a topic that is important for the government, for healthcare, economics and of course, medical sciences. Understanding how people are dying can lead to changes in research funding for certain diseases, or increased preventative measures when certain kinds of people are at risk.\n",
    "\n",
    "In United States, the **Centers of Disease Control and Prevention (CDC)** have been collecting [mortality data](https://wonder.cdc.gov/ucd-icd10.html) from 1999-2015. The data is rich in demographic info, including age of death, underlying cause of death, gender, and even race and geographic city/county.\n",
    "\n",
    "With data, there are many **questions we can ask about death**:\n",
    "- What are the top causes of death in the United States? \n",
    "- Are men more likely to die than women? Does it depend on the cause of death? Does it depend on age?\n",
    "- What causes of death are becoming more or less prevalent over time?"
   ]
  },
  {
   "cell_type": "markdown",
   "metadata": {},
   "source": [
    "#### Learning Data Visualization"
   ]
  },
  {
   "cell_type": "markdown",
   "metadata": {},
   "source": [
    "In this notebook, you will be introduced to **Matplotlib**, one of the most popular packages for data visualization in Python.\n",
    "\n",
    "There are many different ways to _use_ **Matplotlib**, but this notebook will simply go through the basics. If you'd like to continue learning more about **Matplotlib**, you can review the documentation [here](http://matplotlib.org/)."
   ]
  },
  {
   "cell_type": "markdown",
   "metadata": {},
   "source": [
    "<a id=\"mpl\"></a>\n",
    "## Import **Matplotlib** library"
   ]
  },
  {
   "cell_type": "markdown",
   "metadata": {},
   "source": [
    "To begin, let's make sure that we have the appropriate libraries for plotting."
   ]
  },
  {
   "cell_type": "code",
   "execution_count": null,
   "metadata": {
    "collapsed": false
   },
   "outputs": [],
   "source": [
    "import pandas as pd\n",
    "import matplotlib.pyplot as plt\n",
    "\n",
    "# enable graphs to be displayed in notebooks\n",
    "%matplotlib inline \n",
    "\n",
    "# enable encoding of Chinese characters\n",
    "import sys\n",
    "# reload(sys) \n",
    "# sys.setdefaultencoding('GBK') # warning may display but is OK"
   ]
  },
  {
   "cell_type": "markdown",
   "metadata": {},
   "source": [
    "<a id=\"getdata\"></a>\n",
    "## Getting the Data"
   ]
  },
  {
   "cell_type": "markdown",
   "metadata": {},
   "source": [
    "Let's download deaths.csv from the internet into your account."
   ]
  },
  {
   "cell_type": "code",
   "execution_count": null,
   "metadata": {
    "collapsed": false
   },
   "outputs": [],
   "source": [
    "!wget --output-document /resources/data/deaths.csv https://ibm.box.com/shared/static/mp7ewpjvnj5w27h6knesssgm883mvsj8.csv"
   ]
  },
  {
   "cell_type": "markdown",
   "metadata": {},
   "source": [
    "Now that it is in your account, you can read it from the filepath `deaths.csv`:"
   ]
  },
  {
   "cell_type": "code",
   "execution_count": null,
   "metadata": {
    "collapsed": false,
    "scrolled": true
   },
   "outputs": [],
   "source": [
    "df = pd.read_csv(\"/resources/data/deaths.csv\", encoding='GBK')"
   ]
  },
  {
   "cell_type": "markdown",
   "metadata": {},
   "source": [
    "Great! The data is now read into the variable, **`df`**."
   ]
  },
  {
   "cell_type": "markdown",
   "metadata": {},
   "source": [
    "<a id=\"understand\"></a>\n",
    "## Understanding the Data"
   ]
  },
  {
   "cell_type": "markdown",
   "metadata": {},
   "source": [
    "#### The top 10 rows:"
   ]
  },
  {
   "cell_type": "code",
   "execution_count": null,
   "metadata": {
    "collapsed": false
   },
   "outputs": [],
   "source": [
    "df.head(10)"
   ]
  },
  {
   "cell_type": "markdown",
   "metadata": {},
   "source": [
    "#### The bottom 5 rows:"
   ]
  },
  {
   "cell_type": "code",
   "execution_count": null,
   "metadata": {
    "collapsed": false
   },
   "outputs": [],
   "source": [
    "df.tail(5)"
   ]
  },
  {
   "cell_type": "markdown",
   "metadata": {},
   "source": [
    "#### What is the age range of the data?"
   ]
  },
  {
   "cell_type": "code",
   "execution_count": null,
   "metadata": {
    "collapsed": false
   },
   "outputs": [],
   "source": [
    "df.Age.describe()"
   ]
  },
  {
   "cell_type": "markdown",
   "metadata": {},
   "source": [
    "#### Which years are included in this dataset?"
   ]
  },
  {
   "cell_type": "code",
   "execution_count": null,
   "metadata": {
    "collapsed": false
   },
   "outputs": [],
   "source": [
    "df.Year.unique()"
   ]
  },
  {
   "cell_type": "markdown",
   "metadata": {},
   "source": [
    "#### To confirm, does the Gender column only contain male and female?"
   ]
  },
  {
   "cell_type": "code",
   "execution_count": null,
   "metadata": {
    "collapsed": false
   },
   "outputs": [],
   "source": [
    "df.Gender.unique()"
   ]
  },
  {
   "cell_type": "markdown",
   "metadata": {},
   "source": [
    "#### What is the summary statistics for the number of deaths?"
   ]
  },
  {
   "cell_type": "code",
   "execution_count": null,
   "metadata": {
    "collapsed": false
   },
   "outputs": [],
   "source": [
    "df.Deaths.describe()"
   ]
  },
  {
   "cell_type": "markdown",
   "metadata": {},
   "source": [
    "#### What are the causes of death in this dataset?"
   ]
  },
  {
   "cell_type": "code",
   "execution_count": null,
   "metadata": {
    "collapsed": false
   },
   "outputs": [],
   "source": [
    "causes = pd.DataFrame(df['Cause'].unique(), columns=['Death Cause']) # remove duplicates\n",
    "causes = causes.sort_values(by='Death Cause')\n",
    "causes.index = range(0, len(causes)) # re-index the row numbers\n",
    "causes"
   ]
  },
  {
   "cell_type": "markdown",
   "metadata": {},
   "source": [
    "<a id=\"year\"></a>\n",
    "## Deaths: by Year"
   ]
  },
  {
   "cell_type": "markdown",
   "metadata": {},
   "source": [
    "#### Let's look at the data again:"
   ]
  },
  {
   "cell_type": "code",
   "execution_count": null,
   "metadata": {
    "collapsed": false
   },
   "outputs": [],
   "source": [
    "df.head(3)"
   ]
  },
  {
   "cell_type": "markdown",
   "metadata": {},
   "source": [
    "#### How many deaths are there overall in 2005, 2010 and 2015?"
   ]
  },
  {
   "cell_type": "markdown",
   "metadata": {},
   "source": [
    "First, we want to **group the data by year**, then by specifying the **Deaths** column, we can calculate the **sum of deaths per year**:"
   ]
  },
  {
   "cell_type": "code",
   "execution_count": null,
   "metadata": {
    "collapsed": false
   },
   "outputs": [],
   "source": [
    "by_year = df.groupby(\"Year\").Deaths.sum()\n",
    "by_year"
   ]
  },
  {
   "cell_type": "markdown",
   "metadata": {},
   "source": [
    "After you groupby, plotting is easy. With **`.plot()`**, you just need to choose the kind of graph:"
   ]
  },
  {
   "cell_type": "code",
   "execution_count": null,
   "metadata": {
    "collapsed": false,
    "scrolled": true
   },
   "outputs": [],
   "source": [
    "by_year.plot(kind=\"bar\")"
   ]
  },
  {
   "cell_type": "markdown",
   "metadata": {},
   "source": [
    "#### We can re-write the code for the same plot so it's easier to follow:"
   ]
  },
  {
   "cell_type": "code",
   "execution_count": null,
   "metadata": {
    "collapsed": false
   },
   "outputs": [],
   "source": [
    "# Making syntax easier to read. \\ tells Python to continue to the next line before executing \n",
    "df.groupby(\"Year\")\\\n",
    ".Deaths\\\n",
    ".sum()\\\n",
    ".plot(kind=\"bar\")"
   ]
  },
  {
   "cell_type": "markdown",
   "metadata": {},
   "source": [
    "## Split data into years"
   ]
  },
  {
   "cell_type": "markdown",
   "metadata": {},
   "source": [
    "It's going to get confusing if we always have data from 2005, 2010 and 2015.\n",
    "  \n",
    "Let's just start by exploring only the **deaths in 2015**."
   ]
  },
  {
   "cell_type": "markdown",
   "metadata": {},
   "source": [
    "<a id=\"gender\"></a>\n",
    "## Deaths: Male vs. Female"
   ]
  },
  {
   "cell_type": "markdown",
   "metadata": {},
   "source": [
    "In 2015, which gender had a higher mortality rate?"
   ]
  },
  {
   "cell_type": "code",
   "execution_count": null,
   "metadata": {
    "collapsed": false
   },
   "outputs": [],
   "source": [
    "df2015 = df[df.Year == 2015]\n",
    "\n",
    "df2015\\\n",
    ".groupby(\"Gender\")\\\n",
    ".Deaths\\\n",
    ".sum()"
   ]
  },
  {
   "cell_type": "markdown",
   "metadata": {},
   "source": [
    "#### <font color=\"red\"> Exercise: </font> Can you create a simple bar graph to compare the total number of deaths for each gender?\n",
    "Remember, using the **2015 data (`df2015`)**, first **group by `Gender`**, then **select the `Deaths` column**, calculate the **`sum`**, then **plot as a `bar` chart**."
   ]
  },
  {
   "cell_type": "code",
   "execution_count": null,
   "metadata": {
    "collapsed": true
   },
   "outputs": [],
   "source": [
    "## write your code here\n",
    "\n",
    "\n"
   ]
  },
  {
   "cell_type": "markdown",
   "metadata": {},
   "source": [
    "#### *[Double-click here for the solution]*\n",
    "\n",
    "<!--\n",
    "\n",
    "df2015\\\n",
    ".groupby(\"Gender\")\\ \n",
    ".Deaths\\\n",
    ".sum()\\\n",
    ".plot(kind = \"bar\")\n",
    "\n",
    "-->"
   ]
  },
  {
   "cell_type": "markdown",
   "metadata": {},
   "source": [
    "<br>"
   ]
  },
  {
   "cell_type": "markdown",
   "metadata": {},
   "source": [
    "Let's add **color** to the graph: <font color=red>red</font> for **Female** and  <font color=blue>blue</font> for **Male**.\n",
    "\n",
    "We can add color using:\n",
    "> `.plot(kind=\"bar\", ` **`color=[\"red\", \"blue\"]`**`)`"
   ]
  },
  {
   "cell_type": "code",
   "execution_count": null,
   "metadata": {
    "collapsed": false
   },
   "outputs": [],
   "source": [
    "df2015\\\n",
    ".groupby(\"Gender\")\\\n",
    ".Deaths\\\n",
    ".sum()\\\n",
    ".plot(kind=\"bar\", color=[\"red\", \"blue\"])"
   ]
  },
  {
   "cell_type": "markdown",
   "metadata": {},
   "source": [
    "<a id=\"age\"></a>\n",
    "## Deaths: by Age"
   ]
  },
  {
   "cell_type": "markdown",
   "metadata": {},
   "source": [
    "At what age did people die in 2015?"
   ]
  },
  {
   "cell_type": "code",
   "execution_count": null,
   "metadata": {
    "collapsed": false
   },
   "outputs": [],
   "source": [
    "df2015\\\n",
    ".groupby(\"Age\")\\\n",
    ".Deaths\\\n",
    ".sum()\\\n",
    ".plot(kind=\"bar\", color=\"grey\")"
   ]
  },
  {
   "cell_type": "markdown",
   "metadata": {},
   "source": [
    "The graph above is difficult to read -- it's **too small**! \n",
    "\n",
    "We can increase the figure size using: \n",
    "> `.plot(kind=\"bar\",`** figsize=[18, 6]**`)`"
   ]
  },
  {
   "cell_type": "code",
   "execution_count": null,
   "metadata": {
    "collapsed": false
   },
   "outputs": [],
   "source": [
    "df2015\\\n",
    ".groupby(\"Age\")\\\n",
    ".Deaths\\\n",
    ".sum()\\\n",
    ".plot(kind=\"bar\", color=\"grey\", figsize=[18, 6])"
   ]
  },
  {
   "cell_type": "markdown",
   "metadata": {},
   "source": [
    "<font color=\"green\"> Discuss: What do you notice from the graph above? </font>"
   ]
  },
  {
   "cell_type": "markdown",
   "metadata": {},
   "source": [
    "<a id=\"ageXgender\"></a>\n",
    "## Deaths: by Age & Gender"
   ]
  },
  {
   "cell_type": "markdown",
   "metadata": {},
   "source": [
    "#### Is age of death affected by gender?"
   ]
  },
  {
   "cell_type": "markdown",
   "metadata": {},
   "source": [
    "To groupby the data using two variables, simply use a list:\n",
    "> `.groupby(`**`[\"Age\", \"Gender\"]`**`)`"
   ]
  },
  {
   "cell_type": "code",
   "execution_count": null,
   "metadata": {
    "collapsed": false
   },
   "outputs": [],
   "source": [
    "df2015\\\n",
    ".groupby([\"Age\", \"Gender\"])\\\n",
    ".Deaths\\\n",
    ".sum()"
   ]
  },
  {
   "cell_type": "markdown",
   "metadata": {},
   "source": [
    "#### Let's create two subplots -- one for female and male deaths by age.\n",
    "\n",
    "We can create subplots using: \n",
    "> ...  \n",
    "> **`.unstack(1)`**`\\`  \n",
    "> `.plot(kind=\"bar\", ` **` subplots=True`**`)`"
   ]
  },
  {
   "cell_type": "code",
   "execution_count": null,
   "metadata": {
    "collapsed": false
   },
   "outputs": [],
   "source": [
    "df2015\\\n",
    ".groupby([\"Age\", \"Gender\"])\\\n",
    ".Deaths\\\n",
    ".sum()\\\n",
    ".unstack(1)\\\n",
    ".plot(kind=\"bar\", color=[\"red\", \"blue\"], figsize=[18, 10], subplots=True)"
   ]
  },
  {
   "cell_type": "markdown",
   "metadata": {},
   "source": [
    "<font color=\"green\"> Discuss: What do you notice from the graph above? </font>"
   ]
  },
  {
   "cell_type": "markdown",
   "metadata": {},
   "source": [
    "We can also **stack** the Male and Female together to form a total bar.\n",
    "\n",
    "To create stacked bar charts, we can use:\n",
    ">`.plot(kind=\"bar\", ` **`stacked=True`**`)`"
   ]
  },
  {
   "cell_type": "code",
   "execution_count": null,
   "metadata": {
    "collapsed": false
   },
   "outputs": [],
   "source": [
    "df2015\\\n",
    ".groupby([\"Age\", \"Gender\"])\\\n",
    ".Deaths\\\n",
    ".sum()\\\n",
    ".unstack(1)\\\n",
    ".plot(kind=\"bar\", color=[\"red\", \"blue\"], figsize=[18, 10], stacked=True)"
   ]
  },
  {
   "cell_type": "markdown",
   "metadata": {},
   "source": [
    "But this isn't very helpful because it is not easy to compare M to F in a stacked bar chart."
   ]
  },
  {
   "cell_type": "markdown",
   "metadata": {},
   "source": [
    "#### Because `Age` is a continuous variable, it might help to compare lines on a **line graph**. \n",
    "\n",
    "We can create line graphs using:\n",
    "> `.plot(kind=\"`**`line`**`\")`"
   ]
  },
  {
   "cell_type": "code",
   "execution_count": null,
   "metadata": {
    "collapsed": false
   },
   "outputs": [],
   "source": [
    "df2015\\\n",
    ".groupby([\"Age\", \"Gender\"])\\\n",
    ".Deaths\\\n",
    ".sum()\\\n",
    ".unstack(1)\\\n",
    ".plot(kind=\"line\", figsize=[18, 10], subplots=True)"
   ]
  },
  {
   "cell_type": "markdown",
   "metadata": {},
   "source": [
    "Now with just lines, this makes it easier to compare the gender difference over age in **one line graph**.\n",
    "\n",
    "To plot multiple groups in the same graph, make sure that you have **unstacked the data** and **kept subplots as False (default)** :\n",
    ">`...`  \n",
    ">**`.unstack(1)`**`\\`  \n",
    ">`.plot(kind=\"line\")   #Default: subplots = False`"
   ]
  },
  {
   "cell_type": "code",
   "execution_count": null,
   "metadata": {
    "collapsed": false
   },
   "outputs": [],
   "source": [
    "df2015\\\n",
    ".groupby([\"Age\", \"Gender\"])\\\n",
    ".Deaths\\\n",
    ".sum()\\\n",
    ".unstack(1)\\\n",
    ".plot(kind=\"line\", color=[\"red\", \"blue\"], figsize=[18, 6])"
   ]
  },
  {
   "cell_type": "markdown",
   "metadata": {},
   "source": [
    "Let's add a main title and a y-axis label:\n",
    "\n",
    "> `.plot(kind = \"line\",` **`title = \"Deaths in 2015 by Age and Gender\"`**`)`\n"
   ]
  },
  {
   "cell_type": "code",
   "execution_count": null,
   "metadata": {
    "collapsed": false
   },
   "outputs": [],
   "source": [
    "df2015\\\n",
    ".groupby([\"Age\", \"Gender\"])\\\n",
    ".Deaths\\\n",
    ".sum()\\\n",
    ".unstack(1)\\\n",
    ".plot(kind=\"line\", color=[\"red\", \"blue\"], figsize=[10, 6], title=\"Deaths in 2015 by Age and Gender\")"
   ]
  },
  {
   "cell_type": "markdown",
   "metadata": {},
   "source": [
    "<a id=\"causeX2015\"></a>\n",
    "## Deaths: Top Causes of Death in 2015"
   ]
  },
  {
   "cell_type": "markdown",
   "metadata": {},
   "source": [
    "Let's look at the top causes of death in 2015:"
   ]
  },
  {
   "cell_type": "code",
   "execution_count": null,
   "metadata": {
    "collapsed": false,
    "scrolled": false
   },
   "outputs": [],
   "source": [
    "df2015\\\n",
    ".groupby([\"Cause\"])\\\n",
    ".Deaths\\\n",
    ".sum()\\\n",
    ".plot(kind=\"bar\", color=\"black\")"
   ]
  },
  {
   "cell_type": "markdown",
   "metadata": {},
   "source": [
    "This is very difficult to read. We need to **sort the data** and **rotate the graph (horizontal bar chart)**.\n",
    "\n",
    "1. We can **sort** the data using:\n",
    "> **`.sort('Deaths', ascending=True)`**\n",
    "\n",
    "2. We can create a **horizontal bar chart** using:\n",
    "> **`.plot(kind=\"barh\")`**"
   ]
  },
  {
   "cell_type": "code",
   "execution_count": null,
   "metadata": {
    "collapsed": false
   },
   "outputs": [],
   "source": [
    "df2015\\\n",
    ".groupby([\"Cause\"])\\\n",
    ".agg({'Deaths' : sum})\\\n",
    ".sort_values('Deaths', ascending=True)\\\n",
    ".plot(kind=\"barh\", legend=False, color=\"black\", figsize=[10, 8])"
   ]
  },
  {
   "cell_type": "markdown",
   "metadata": {},
   "source": [
    "#### Let's look at the Top 10 most common causes of death. \n",
    "\n",
    "To get the Top 10, before we plot can use:\n",
    ">`.sort('Deaths', ascending=True)`**`[-10:]`**`\\`"
   ]
  },
  {
   "cell_type": "code",
   "execution_count": null,
   "metadata": {
    "collapsed": false
   },
   "outputs": [],
   "source": [
    "df2015\\\n",
    ".groupby([\"Cause\"])\\\n",
    ".agg({'Deaths':sum})\\\n",
    ".sort_values('Deaths')[-10:]\\\n",
    ".plot(kind=\"barh\", legend=False, color=\"black\", figsize=[10, 8], title=\"2015 Top 10 Causes of Death in USA\")"
   ]
  },
  {
   "cell_type": "markdown",
   "metadata": {},
   "source": [
    "<a id=\"causeXyear\"></a>\n",
    "## Deaths: Top Causes of Death by Year"
   ]
  },
  {
   "cell_type": "code",
   "execution_count": null,
   "metadata": {
    "collapsed": false
   },
   "outputs": [],
   "source": [
    "df\\\n",
    ".groupby([\"Cause\",\"Year\"])\\\n",
    ".agg({'Deaths':sum})\\\n",
    ".sort_values('Deaths', ascending = False)\\\n",
    ".unstack(1)\\\n",
    ".plot(kind=\"barh\", legend=True, figsize=[10, 24])"
   ]
  },
  {
   "cell_type": "markdown",
   "metadata": {},
   "source": [
    "The visualization above contains a lot of information (maybe too much!). But did you notice? \n",
    "\n",
    "**Deaths caused by HIV disease has decreased every five years since 2005!**"
   ]
  },
  {
   "cell_type": "markdown",
   "metadata": {},
   "source": [
    "<a id=\"causeXgender\"></a>\n",
    "## Deaths: Causes of Death by Gender"
   ]
  },
  {
   "cell_type": "code",
   "execution_count": null,
   "metadata": {
    "collapsed": false
   },
   "outputs": [],
   "source": [
    "df2015\\\n",
    ".sort_values('Deaths', ascending=False)\\\n",
    ".groupby([\"Cause\", \"Gender\"])\\\n",
    ".agg({'Deaths':sum})\\\n",
    ".unstack(1)\\\n",
    ".plot(kind=\"barh\", color=[\"red\", \"blue\"], legend=True, figsize=[10, 24])"
   ]
  },
  {
   "cell_type": "markdown",
   "metadata": {},
   "source": [
    "<a id=\"causeXage\"></a>\n",
    "## Deaths: Causes of Death by Age"
   ]
  },
  {
   "cell_type": "markdown",
   "metadata": {},
   "source": [
    "Because there are so many causes of death, let's choose just a few causes to visualize by age of death:\n",
    "- \"Alzheimer's disease\" \n",
    "- \"Diseases of heart\" \n",
    "- \"Malignant neoplasms\" \n",
    "- \"Accidents (unintentional injuries)\""
   ]
  },
  {
   "cell_type": "code",
   "execution_count": null,
   "metadata": {
    "collapsed": false,
    "scrolled": true
   },
   "outputs": [],
   "source": [
    "clist = [\"Alzheimer's disease\", \n",
    "         \"Diseases of heart\", \n",
    "         \"Malignant neoplasms\", \n",
    "         \"Accidents (unintentional injuries)\"]\n",
    "\n",
    "df2015_clist = df2015[df2015[\"Cause\"].isin(clist)]\n",
    "\n",
    "df2015_clist\\\n",
    ".groupby([\"Age\", \"Cause\"])\\\n",
    ".agg({'Deaths':sum})\\\n",
    ".sort_values('Deaths', ascending=False)\\\n",
    ".unstack(1)\\\n",
    ".plot(kind=\"line\", legend=True, figsize=[10, 6])"
   ]
  },
  {
   "cell_type": "markdown",
   "metadata": {},
   "source": [
    "<font color=\"green\"> Discuss: What do you notice from the graph above? </font>"
   ]
  },
  {
   "cell_type": "markdown",
   "metadata": {},
   "source": [
    "<a id=\"causeXgenderXage\"></a>\n",
    "## Deaths: Causes of Death by Gender & Age"
   ]
  },
  {
   "cell_type": "markdown",
   "metadata": {},
   "source": [
    "This visualization is particularly difficult because there are 2 genders x 3 years x 51 causes. It's virtually impossible to place all of this data on a single graph and make it easy to understand.\n",
    "\n",
    "The best thing to do is to visualize some of the data, or just the data that is most interesting."
   ]
  },
  {
   "cell_type": "code",
   "execution_count": null,
   "metadata": {
    "collapsed": false,
    "scrolled": false
   },
   "outputs": [],
   "source": [
    "clist = df.Cause.unique()\n",
    "\n",
    "for cause in clist:\n",
    "    df2015_clist = df2015[df2015[\"Cause\"].isin([cause])]\n",
    "    \n",
    "    df2015_clist\\\n",
    "    .groupby([\"Age\", \"Gender\"])\\\n",
    "    .agg({'Deaths':sum})\\\n",
    "    .unstack([1])\\\n",
    "    .plot(kind=\"line\", legend=True, color=('r', 'b'), figsize=[10, 8], title=str(cause))"
   ]
  },
  {
   "cell_type": "markdown",
   "metadata": {},
   "source": [
    "<hr>"
   ]
  },
  {
   "cell_type": "markdown",
   "metadata": {},
   "source": [
    "### <center> To learn more, check out the free courses available on [IBM Cognitive Class](https://cocl.us/cc_courses_dsbootcamp):\n",
    "\n",
    "<div>\n",
    "<a href = \"https://cocl.us/cc_courses_dsbootcamp\"><img src = \"https://ibm.box.com/shared/static/66h8iy2qwaai57ldjqj70jgkm9gq9ny3.png\"></a></div>"
   ]
  }
 ],
 "metadata": {
  "kernelspec": {
   "display_name": "Python 3",
   "language": "python",
   "name": "python3"
  },
  "language_info": {
   "codemirror_mode": {
    "name": "ipython",
    "version": 3
   },
   "file_extension": ".py",
   "mimetype": "text/x-python",
   "name": "python",
   "nbconvert_exporter": "python",
   "pygments_lexer": "ipython3",
   "version": "3.6.3"
  },
  "widgets": {
   "state": {},
   "version": "1.1.2"
  }
 },
 "nbformat": 4,
 "nbformat_minor": 2
}
